{
  "nbformat": 4,
  "nbformat_minor": 0,
  "metadata": {
    "colab": {
      "provenance": []
    },
    "kernelspec": {
      "name": "python3",
      "display_name": "Python 3"
    },
    "language_info": {
      "name": "python"
    },
    "accelerator": "GPU",
    "gpuClass": "standard",
    "widgets": {
      "application/vnd.jupyter.widget-state+json": {
        "c29e8e6109eb4ded84fa4d1cb73ca2b5": {
          "model_module": "@jupyter-widgets/controls",
          "model_name": "HBoxModel",
          "model_module_version": "1.5.0",
          "state": {
            "_dom_classes": [],
            "_model_module": "@jupyter-widgets/controls",
            "_model_module_version": "1.5.0",
            "_model_name": "HBoxModel",
            "_view_count": null,
            "_view_module": "@jupyter-widgets/controls",
            "_view_module_version": "1.5.0",
            "_view_name": "HBoxView",
            "box_style": "",
            "children": [
              "IPY_MODEL_4f84d67992544e288ac9839b5ab87cad",
              "IPY_MODEL_97e0e9969fab4c988f70d6725364dab5",
              "IPY_MODEL_6fdb7b9d4dd142fdbaf9fe24fa21021a"
            ],
            "layout": "IPY_MODEL_6c348743aba64efba3abb9c7b8d0ebd8"
          }
        },
        "4f84d67992544e288ac9839b5ab87cad": {
          "model_module": "@jupyter-widgets/controls",
          "model_name": "HTMLModel",
          "model_module_version": "1.5.0",
          "state": {
            "_dom_classes": [],
            "_model_module": "@jupyter-widgets/controls",
            "_model_module_version": "1.5.0",
            "_model_name": "HTMLModel",
            "_view_count": null,
            "_view_module": "@jupyter-widgets/controls",
            "_view_module_version": "1.5.0",
            "_view_name": "HTMLView",
            "description": "",
            "description_tooltip": null,
            "layout": "IPY_MODEL_05ca79cf376249fca848c187ecb7c714",
            "placeholder": "​",
            "style": "IPY_MODEL_9028ed92ebab4770a7030fc2b329c38a",
            "value": "Downloading (…)lve/main/config.json: 100%"
          }
        },
        "97e0e9969fab4c988f70d6725364dab5": {
          "model_module": "@jupyter-widgets/controls",
          "model_name": "FloatProgressModel",
          "model_module_version": "1.5.0",
          "state": {
            "_dom_classes": [],
            "_model_module": "@jupyter-widgets/controls",
            "_model_module_version": "1.5.0",
            "_model_name": "FloatProgressModel",
            "_view_count": null,
            "_view_module": "@jupyter-widgets/controls",
            "_view_module_version": "1.5.0",
            "_view_name": "ProgressView",
            "bar_style": "success",
            "description": "",
            "description_tooltip": null,
            "layout": "IPY_MODEL_5a8cb0c4162944d3bb7f9cc862a06c37",
            "max": 507,
            "min": 0,
            "orientation": "horizontal",
            "style": "IPY_MODEL_4df35af6a0524910b77247fbeed4c861",
            "value": 507
          }
        },
        "6fdb7b9d4dd142fdbaf9fe24fa21021a": {
          "model_module": "@jupyter-widgets/controls",
          "model_name": "HTMLModel",
          "model_module_version": "1.5.0",
          "state": {
            "_dom_classes": [],
            "_model_module": "@jupyter-widgets/controls",
            "_model_module_version": "1.5.0",
            "_model_name": "HTMLModel",
            "_view_count": null,
            "_view_module": "@jupyter-widgets/controls",
            "_view_module_version": "1.5.0",
            "_view_name": "HTMLView",
            "description": "",
            "description_tooltip": null,
            "layout": "IPY_MODEL_7adc464af14e4105a9a3dec0965e45ec",
            "placeholder": "​",
            "style": "IPY_MODEL_377448a79a6542b28d4a6298470531f4",
            "value": " 507/507 [00:00&lt;00:00, 11.1kB/s]"
          }
        },
        "6c348743aba64efba3abb9c7b8d0ebd8": {
          "model_module": "@jupyter-widgets/base",
          "model_name": "LayoutModel",
          "model_module_version": "1.2.0",
          "state": {
            "_model_module": "@jupyter-widgets/base",
            "_model_module_version": "1.2.0",
            "_model_name": "LayoutModel",
            "_view_count": null,
            "_view_module": "@jupyter-widgets/base",
            "_view_module_version": "1.2.0",
            "_view_name": "LayoutView",
            "align_content": null,
            "align_items": null,
            "align_self": null,
            "border": null,
            "bottom": null,
            "display": null,
            "flex": null,
            "flex_flow": null,
            "grid_area": null,
            "grid_auto_columns": null,
            "grid_auto_flow": null,
            "grid_auto_rows": null,
            "grid_column": null,
            "grid_gap": null,
            "grid_row": null,
            "grid_template_areas": null,
            "grid_template_columns": null,
            "grid_template_rows": null,
            "height": null,
            "justify_content": null,
            "justify_items": null,
            "left": null,
            "margin": null,
            "max_height": null,
            "max_width": null,
            "min_height": null,
            "min_width": null,
            "object_fit": null,
            "object_position": null,
            "order": null,
            "overflow": null,
            "overflow_x": null,
            "overflow_y": null,
            "padding": null,
            "right": null,
            "top": null,
            "visibility": null,
            "width": null
          }
        },
        "05ca79cf376249fca848c187ecb7c714": {
          "model_module": "@jupyter-widgets/base",
          "model_name": "LayoutModel",
          "model_module_version": "1.2.0",
          "state": {
            "_model_module": "@jupyter-widgets/base",
            "_model_module_version": "1.2.0",
            "_model_name": "LayoutModel",
            "_view_count": null,
            "_view_module": "@jupyter-widgets/base",
            "_view_module_version": "1.2.0",
            "_view_name": "LayoutView",
            "align_content": null,
            "align_items": null,
            "align_self": null,
            "border": null,
            "bottom": null,
            "display": null,
            "flex": null,
            "flex_flow": null,
            "grid_area": null,
            "grid_auto_columns": null,
            "grid_auto_flow": null,
            "grid_auto_rows": null,
            "grid_column": null,
            "grid_gap": null,
            "grid_row": null,
            "grid_template_areas": null,
            "grid_template_columns": null,
            "grid_template_rows": null,
            "height": null,
            "justify_content": null,
            "justify_items": null,
            "left": null,
            "margin": null,
            "max_height": null,
            "max_width": null,
            "min_height": null,
            "min_width": null,
            "object_fit": null,
            "object_position": null,
            "order": null,
            "overflow": null,
            "overflow_x": null,
            "overflow_y": null,
            "padding": null,
            "right": null,
            "top": null,
            "visibility": null,
            "width": null
          }
        },
        "9028ed92ebab4770a7030fc2b329c38a": {
          "model_module": "@jupyter-widgets/controls",
          "model_name": "DescriptionStyleModel",
          "model_module_version": "1.5.0",
          "state": {
            "_model_module": "@jupyter-widgets/controls",
            "_model_module_version": "1.5.0",
            "_model_name": "DescriptionStyleModel",
            "_view_count": null,
            "_view_module": "@jupyter-widgets/base",
            "_view_module_version": "1.2.0",
            "_view_name": "StyleView",
            "description_width": ""
          }
        },
        "5a8cb0c4162944d3bb7f9cc862a06c37": {
          "model_module": "@jupyter-widgets/base",
          "model_name": "LayoutModel",
          "model_module_version": "1.2.0",
          "state": {
            "_model_module": "@jupyter-widgets/base",
            "_model_module_version": "1.2.0",
            "_model_name": "LayoutModel",
            "_view_count": null,
            "_view_module": "@jupyter-widgets/base",
            "_view_module_version": "1.2.0",
            "_view_name": "LayoutView",
            "align_content": null,
            "align_items": null,
            "align_self": null,
            "border": null,
            "bottom": null,
            "display": null,
            "flex": null,
            "flex_flow": null,
            "grid_area": null,
            "grid_auto_columns": null,
            "grid_auto_flow": null,
            "grid_auto_rows": null,
            "grid_column": null,
            "grid_gap": null,
            "grid_row": null,
            "grid_template_areas": null,
            "grid_template_columns": null,
            "grid_template_rows": null,
            "height": null,
            "justify_content": null,
            "justify_items": null,
            "left": null,
            "margin": null,
            "max_height": null,
            "max_width": null,
            "min_height": null,
            "min_width": null,
            "object_fit": null,
            "object_position": null,
            "order": null,
            "overflow": null,
            "overflow_x": null,
            "overflow_y": null,
            "padding": null,
            "right": null,
            "top": null,
            "visibility": null,
            "width": null
          }
        },
        "4df35af6a0524910b77247fbeed4c861": {
          "model_module": "@jupyter-widgets/controls",
          "model_name": "ProgressStyleModel",
          "model_module_version": "1.5.0",
          "state": {
            "_model_module": "@jupyter-widgets/controls",
            "_model_module_version": "1.5.0",
            "_model_name": "ProgressStyleModel",
            "_view_count": null,
            "_view_module": "@jupyter-widgets/base",
            "_view_module_version": "1.2.0",
            "_view_name": "StyleView",
            "bar_color": null,
            "description_width": ""
          }
        },
        "7adc464af14e4105a9a3dec0965e45ec": {
          "model_module": "@jupyter-widgets/base",
          "model_name": "LayoutModel",
          "model_module_version": "1.2.0",
          "state": {
            "_model_module": "@jupyter-widgets/base",
            "_model_module_version": "1.2.0",
            "_model_name": "LayoutModel",
            "_view_count": null,
            "_view_module": "@jupyter-widgets/base",
            "_view_module_version": "1.2.0",
            "_view_name": "LayoutView",
            "align_content": null,
            "align_items": null,
            "align_self": null,
            "border": null,
            "bottom": null,
            "display": null,
            "flex": null,
            "flex_flow": null,
            "grid_area": null,
            "grid_auto_columns": null,
            "grid_auto_flow": null,
            "grid_auto_rows": null,
            "grid_column": null,
            "grid_gap": null,
            "grid_row": null,
            "grid_template_areas": null,
            "grid_template_columns": null,
            "grid_template_rows": null,
            "height": null,
            "justify_content": null,
            "justify_items": null,
            "left": null,
            "margin": null,
            "max_height": null,
            "max_width": null,
            "min_height": null,
            "min_width": null,
            "object_fit": null,
            "object_position": null,
            "order": null,
            "overflow": null,
            "overflow_x": null,
            "overflow_y": null,
            "padding": null,
            "right": null,
            "top": null,
            "visibility": null,
            "width": null
          }
        },
        "377448a79a6542b28d4a6298470531f4": {
          "model_module": "@jupyter-widgets/controls",
          "model_name": "DescriptionStyleModel",
          "model_module_version": "1.5.0",
          "state": {
            "_model_module": "@jupyter-widgets/controls",
            "_model_module_version": "1.5.0",
            "_model_name": "DescriptionStyleModel",
            "_view_count": null,
            "_view_module": "@jupyter-widgets/base",
            "_view_module_version": "1.2.0",
            "_view_name": "StyleView",
            "description_width": ""
          }
        },
        "1779af1544f74db29f690a42c3bd72de": {
          "model_module": "@jupyter-widgets/controls",
          "model_name": "HBoxModel",
          "model_module_version": "1.5.0",
          "state": {
            "_dom_classes": [],
            "_model_module": "@jupyter-widgets/controls",
            "_model_module_version": "1.5.0",
            "_model_name": "HBoxModel",
            "_view_count": null,
            "_view_module": "@jupyter-widgets/controls",
            "_view_module_version": "1.5.0",
            "_view_name": "HBoxView",
            "box_style": "",
            "children": [
              "IPY_MODEL_7b393c572f764db38fe82fa03f540cf9",
              "IPY_MODEL_5ae64717ce724f78b67ebb774c44a3c3",
              "IPY_MODEL_ecffee4a75e34ef487d0d9628091a331"
            ],
            "layout": "IPY_MODEL_dc33f55891f14a21bf16893dc48e5e75"
          }
        },
        "7b393c572f764db38fe82fa03f540cf9": {
          "model_module": "@jupyter-widgets/controls",
          "model_name": "HTMLModel",
          "model_module_version": "1.5.0",
          "state": {
            "_dom_classes": [],
            "_model_module": "@jupyter-widgets/controls",
            "_model_module_version": "1.5.0",
            "_model_name": "HTMLModel",
            "_view_count": null,
            "_view_module": "@jupyter-widgets/controls",
            "_view_module_version": "1.5.0",
            "_view_name": "HTMLView",
            "description": "",
            "description_tooltip": null,
            "layout": "IPY_MODEL_72bba4f62ec44cf1aa6df933f1d8fdd9",
            "placeholder": "​",
            "style": "IPY_MODEL_51491ee60d754d8eafa85dffe75442f1",
            "value": "Downloading (…)ve/main/spiece.model: 100%"
          }
        },
        "5ae64717ce724f78b67ebb774c44a3c3": {
          "model_module": "@jupyter-widgets/controls",
          "model_name": "FloatProgressModel",
          "model_module_version": "1.5.0",
          "state": {
            "_dom_classes": [],
            "_model_module": "@jupyter-widgets/controls",
            "_model_module_version": "1.5.0",
            "_model_name": "FloatProgressModel",
            "_view_count": null,
            "_view_module": "@jupyter-widgets/controls",
            "_view_module_version": "1.5.0",
            "_view_name": "ProgressView",
            "bar_style": "success",
            "description": "",
            "description_tooltip": null,
            "layout": "IPY_MODEL_9f080923922540b09732f2a042a8bc64",
            "max": 5646064,
            "min": 0,
            "orientation": "horizontal",
            "style": "IPY_MODEL_f4c7ba0d3d324aa4b3c8ccfb4395aec3",
            "value": 5646064
          }
        },
        "ecffee4a75e34ef487d0d9628091a331": {
          "model_module": "@jupyter-widgets/controls",
          "model_name": "HTMLModel",
          "model_module_version": "1.5.0",
          "state": {
            "_dom_classes": [],
            "_model_module": "@jupyter-widgets/controls",
            "_model_module_version": "1.5.0",
            "_model_name": "HTMLModel",
            "_view_count": null,
            "_view_module": "@jupyter-widgets/controls",
            "_view_module_version": "1.5.0",
            "_view_name": "HTMLView",
            "description": "",
            "description_tooltip": null,
            "layout": "IPY_MODEL_1b67706eda9b4f3c8af4e8001089c9fb",
            "placeholder": "​",
            "style": "IPY_MODEL_b30db25e08f645fa9bcf4583789e0da5",
            "value": " 5.65M/5.65M [00:00&lt;00:00, 25.7MB/s]"
          }
        },
        "dc33f55891f14a21bf16893dc48e5e75": {
          "model_module": "@jupyter-widgets/base",
          "model_name": "LayoutModel",
          "model_module_version": "1.2.0",
          "state": {
            "_model_module": "@jupyter-widgets/base",
            "_model_module_version": "1.2.0",
            "_model_name": "LayoutModel",
            "_view_count": null,
            "_view_module": "@jupyter-widgets/base",
            "_view_module_version": "1.2.0",
            "_view_name": "LayoutView",
            "align_content": null,
            "align_items": null,
            "align_self": null,
            "border": null,
            "bottom": null,
            "display": null,
            "flex": null,
            "flex_flow": null,
            "grid_area": null,
            "grid_auto_columns": null,
            "grid_auto_flow": null,
            "grid_auto_rows": null,
            "grid_column": null,
            "grid_gap": null,
            "grid_row": null,
            "grid_template_areas": null,
            "grid_template_columns": null,
            "grid_template_rows": null,
            "height": null,
            "justify_content": null,
            "justify_items": null,
            "left": null,
            "margin": null,
            "max_height": null,
            "max_width": null,
            "min_height": null,
            "min_width": null,
            "object_fit": null,
            "object_position": null,
            "order": null,
            "overflow": null,
            "overflow_x": null,
            "overflow_y": null,
            "padding": null,
            "right": null,
            "top": null,
            "visibility": null,
            "width": null
          }
        },
        "72bba4f62ec44cf1aa6df933f1d8fdd9": {
          "model_module": "@jupyter-widgets/base",
          "model_name": "LayoutModel",
          "model_module_version": "1.2.0",
          "state": {
            "_model_module": "@jupyter-widgets/base",
            "_model_module_version": "1.2.0",
            "_model_name": "LayoutModel",
            "_view_count": null,
            "_view_module": "@jupyter-widgets/base",
            "_view_module_version": "1.2.0",
            "_view_name": "LayoutView",
            "align_content": null,
            "align_items": null,
            "align_self": null,
            "border": null,
            "bottom": null,
            "display": null,
            "flex": null,
            "flex_flow": null,
            "grid_area": null,
            "grid_auto_columns": null,
            "grid_auto_flow": null,
            "grid_auto_rows": null,
            "grid_column": null,
            "grid_gap": null,
            "grid_row": null,
            "grid_template_areas": null,
            "grid_template_columns": null,
            "grid_template_rows": null,
            "height": null,
            "justify_content": null,
            "justify_items": null,
            "left": null,
            "margin": null,
            "max_height": null,
            "max_width": null,
            "min_height": null,
            "min_width": null,
            "object_fit": null,
            "object_position": null,
            "order": null,
            "overflow": null,
            "overflow_x": null,
            "overflow_y": null,
            "padding": null,
            "right": null,
            "top": null,
            "visibility": null,
            "width": null
          }
        },
        "51491ee60d754d8eafa85dffe75442f1": {
          "model_module": "@jupyter-widgets/controls",
          "model_name": "DescriptionStyleModel",
          "model_module_version": "1.5.0",
          "state": {
            "_model_module": "@jupyter-widgets/controls",
            "_model_module_version": "1.5.0",
            "_model_name": "DescriptionStyleModel",
            "_view_count": null,
            "_view_module": "@jupyter-widgets/base",
            "_view_module_version": "1.2.0",
            "_view_name": "StyleView",
            "description_width": ""
          }
        },
        "9f080923922540b09732f2a042a8bc64": {
          "model_module": "@jupyter-widgets/base",
          "model_name": "LayoutModel",
          "model_module_version": "1.2.0",
          "state": {
            "_model_module": "@jupyter-widgets/base",
            "_model_module_version": "1.2.0",
            "_model_name": "LayoutModel",
            "_view_count": null,
            "_view_module": "@jupyter-widgets/base",
            "_view_module_version": "1.2.0",
            "_view_name": "LayoutView",
            "align_content": null,
            "align_items": null,
            "align_self": null,
            "border": null,
            "bottom": null,
            "display": null,
            "flex": null,
            "flex_flow": null,
            "grid_area": null,
            "grid_auto_columns": null,
            "grid_auto_flow": null,
            "grid_auto_rows": null,
            "grid_column": null,
            "grid_gap": null,
            "grid_row": null,
            "grid_template_areas": null,
            "grid_template_columns": null,
            "grid_template_rows": null,
            "height": null,
            "justify_content": null,
            "justify_items": null,
            "left": null,
            "margin": null,
            "max_height": null,
            "max_width": null,
            "min_height": null,
            "min_width": null,
            "object_fit": null,
            "object_position": null,
            "order": null,
            "overflow": null,
            "overflow_x": null,
            "overflow_y": null,
            "padding": null,
            "right": null,
            "top": null,
            "visibility": null,
            "width": null
          }
        },
        "f4c7ba0d3d324aa4b3c8ccfb4395aec3": {
          "model_module": "@jupyter-widgets/controls",
          "model_name": "ProgressStyleModel",
          "model_module_version": "1.5.0",
          "state": {
            "_model_module": "@jupyter-widgets/controls",
            "_model_module_version": "1.5.0",
            "_model_name": "ProgressStyleModel",
            "_view_count": null,
            "_view_module": "@jupyter-widgets/base",
            "_view_module_version": "1.2.0",
            "_view_name": "StyleView",
            "bar_color": null,
            "description_width": ""
          }
        },
        "1b67706eda9b4f3c8af4e8001089c9fb": {
          "model_module": "@jupyter-widgets/base",
          "model_name": "LayoutModel",
          "model_module_version": "1.2.0",
          "state": {
            "_model_module": "@jupyter-widgets/base",
            "_model_module_version": "1.2.0",
            "_model_name": "LayoutModel",
            "_view_count": null,
            "_view_module": "@jupyter-widgets/base",
            "_view_module_version": "1.2.0",
            "_view_name": "LayoutView",
            "align_content": null,
            "align_items": null,
            "align_self": null,
            "border": null,
            "bottom": null,
            "display": null,
            "flex": null,
            "flex_flow": null,
            "grid_area": null,
            "grid_auto_columns": null,
            "grid_auto_flow": null,
            "grid_auto_rows": null,
            "grid_column": null,
            "grid_gap": null,
            "grid_row": null,
            "grid_template_areas": null,
            "grid_template_columns": null,
            "grid_template_rows": null,
            "height": null,
            "justify_content": null,
            "justify_items": null,
            "left": null,
            "margin": null,
            "max_height": null,
            "max_width": null,
            "min_height": null,
            "min_width": null,
            "object_fit": null,
            "object_position": null,
            "order": null,
            "overflow": null,
            "overflow_x": null,
            "overflow_y": null,
            "padding": null,
            "right": null,
            "top": null,
            "visibility": null,
            "width": null
          }
        },
        "b30db25e08f645fa9bcf4583789e0da5": {
          "model_module": "@jupyter-widgets/controls",
          "model_name": "DescriptionStyleModel",
          "model_module_version": "1.5.0",
          "state": {
            "_model_module": "@jupyter-widgets/controls",
            "_model_module_version": "1.5.0",
            "_model_name": "DescriptionStyleModel",
            "_view_count": null,
            "_view_module": "@jupyter-widgets/base",
            "_view_module_version": "1.2.0",
            "_view_name": "StyleView",
            "description_width": ""
          }
        },
        "e3066c9c95244ca1874a57e06f11de43": {
          "model_module": "@jupyter-widgets/controls",
          "model_name": "HBoxModel",
          "model_module_version": "1.5.0",
          "state": {
            "_dom_classes": [],
            "_model_module": "@jupyter-widgets/controls",
            "_model_module_version": "1.5.0",
            "_model_name": "HBoxModel",
            "_view_count": null,
            "_view_module": "@jupyter-widgets/controls",
            "_view_module_version": "1.5.0",
            "_view_name": "HBoxView",
            "box_style": "",
            "children": [
              "IPY_MODEL_c72d000ec5ca421ea618859672bc896f",
              "IPY_MODEL_f15911dd6b6f4305adf2cfbd6182fb56",
              "IPY_MODEL_9d8d18bc344c424484ce7cd361013047"
            ],
            "layout": "IPY_MODEL_edc9fa7030cc428ba4baf5d5f7444251"
          }
        },
        "c72d000ec5ca421ea618859672bc896f": {
          "model_module": "@jupyter-widgets/controls",
          "model_name": "HTMLModel",
          "model_module_version": "1.5.0",
          "state": {
            "_dom_classes": [],
            "_model_module": "@jupyter-widgets/controls",
            "_model_module_version": "1.5.0",
            "_model_name": "HTMLModel",
            "_view_count": null,
            "_view_module": "@jupyter-widgets/controls",
            "_view_module_version": "1.5.0",
            "_view_name": "HTMLView",
            "description": "",
            "description_tooltip": null,
            "layout": "IPY_MODEL_46d8d6f6587c40cf97aa299198512053",
            "placeholder": "​",
            "style": "IPY_MODEL_e61b5e3f7ad94cffb397012614bc569b",
            "value": "Downloading pytorch_model.bin: 100%"
          }
        },
        "f15911dd6b6f4305adf2cfbd6182fb56": {
          "model_module": "@jupyter-widgets/controls",
          "model_name": "FloatProgressModel",
          "model_module_version": "1.5.0",
          "state": {
            "_dom_classes": [],
            "_model_module": "@jupyter-widgets/controls",
            "_model_module_version": "1.5.0",
            "_model_name": "FloatProgressModel",
            "_view_count": null,
            "_view_module": "@jupyter-widgets/controls",
            "_view_module_version": "1.5.0",
            "_view_name": "ProgressView",
            "bar_style": "success",
            "description": "",
            "description_tooltip": null,
            "layout": "IPY_MODEL_03b140fade914b14b1aecac54b55ad1c",
            "max": 134982446,
            "min": 0,
            "orientation": "horizontal",
            "style": "IPY_MODEL_c56bf3aa2d874d8e80969925963c2462",
            "value": 134982446
          }
        },
        "9d8d18bc344c424484ce7cd361013047": {
          "model_module": "@jupyter-widgets/controls",
          "model_name": "HTMLModel",
          "model_module_version": "1.5.0",
          "state": {
            "_dom_classes": [],
            "_model_module": "@jupyter-widgets/controls",
            "_model_module_version": "1.5.0",
            "_model_name": "HTMLModel",
            "_view_count": null,
            "_view_module": "@jupyter-widgets/controls",
            "_view_module_version": "1.5.0",
            "_view_name": "HTMLView",
            "description": "",
            "description_tooltip": null,
            "layout": "IPY_MODEL_11e97227d1fb4783814fc05b23c6b810",
            "placeholder": "​",
            "style": "IPY_MODEL_a62d8a0c78b14bd89d1db2fe53e0d9d0",
            "value": " 135M/135M [00:00&lt;00:00, 198MB/s]"
          }
        },
        "edc9fa7030cc428ba4baf5d5f7444251": {
          "model_module": "@jupyter-widgets/base",
          "model_name": "LayoutModel",
          "model_module_version": "1.2.0",
          "state": {
            "_model_module": "@jupyter-widgets/base",
            "_model_module_version": "1.2.0",
            "_model_name": "LayoutModel",
            "_view_count": null,
            "_view_module": "@jupyter-widgets/base",
            "_view_module_version": "1.2.0",
            "_view_name": "LayoutView",
            "align_content": null,
            "align_items": null,
            "align_self": null,
            "border": null,
            "bottom": null,
            "display": null,
            "flex": null,
            "flex_flow": null,
            "grid_area": null,
            "grid_auto_columns": null,
            "grid_auto_flow": null,
            "grid_auto_rows": null,
            "grid_column": null,
            "grid_gap": null,
            "grid_row": null,
            "grid_template_areas": null,
            "grid_template_columns": null,
            "grid_template_rows": null,
            "height": null,
            "justify_content": null,
            "justify_items": null,
            "left": null,
            "margin": null,
            "max_height": null,
            "max_width": null,
            "min_height": null,
            "min_width": null,
            "object_fit": null,
            "object_position": null,
            "order": null,
            "overflow": null,
            "overflow_x": null,
            "overflow_y": null,
            "padding": null,
            "right": null,
            "top": null,
            "visibility": null,
            "width": null
          }
        },
        "46d8d6f6587c40cf97aa299198512053": {
          "model_module": "@jupyter-widgets/base",
          "model_name": "LayoutModel",
          "model_module_version": "1.2.0",
          "state": {
            "_model_module": "@jupyter-widgets/base",
            "_model_module_version": "1.2.0",
            "_model_name": "LayoutModel",
            "_view_count": null,
            "_view_module": "@jupyter-widgets/base",
            "_view_module_version": "1.2.0",
            "_view_name": "LayoutView",
            "align_content": null,
            "align_items": null,
            "align_self": null,
            "border": null,
            "bottom": null,
            "display": null,
            "flex": null,
            "flex_flow": null,
            "grid_area": null,
            "grid_auto_columns": null,
            "grid_auto_flow": null,
            "grid_auto_rows": null,
            "grid_column": null,
            "grid_gap": null,
            "grid_row": null,
            "grid_template_areas": null,
            "grid_template_columns": null,
            "grid_template_rows": null,
            "height": null,
            "justify_content": null,
            "justify_items": null,
            "left": null,
            "margin": null,
            "max_height": null,
            "max_width": null,
            "min_height": null,
            "min_width": null,
            "object_fit": null,
            "object_position": null,
            "order": null,
            "overflow": null,
            "overflow_x": null,
            "overflow_y": null,
            "padding": null,
            "right": null,
            "top": null,
            "visibility": null,
            "width": null
          }
        },
        "e61b5e3f7ad94cffb397012614bc569b": {
          "model_module": "@jupyter-widgets/controls",
          "model_name": "DescriptionStyleModel",
          "model_module_version": "1.5.0",
          "state": {
            "_model_module": "@jupyter-widgets/controls",
            "_model_module_version": "1.5.0",
            "_model_name": "DescriptionStyleModel",
            "_view_count": null,
            "_view_module": "@jupyter-widgets/base",
            "_view_module_version": "1.2.0",
            "_view_name": "StyleView",
            "description_width": ""
          }
        },
        "03b140fade914b14b1aecac54b55ad1c": {
          "model_module": "@jupyter-widgets/base",
          "model_name": "LayoutModel",
          "model_module_version": "1.2.0",
          "state": {
            "_model_module": "@jupyter-widgets/base",
            "_model_module_version": "1.2.0",
            "_model_name": "LayoutModel",
            "_view_count": null,
            "_view_module": "@jupyter-widgets/base",
            "_view_module_version": "1.2.0",
            "_view_name": "LayoutView",
            "align_content": null,
            "align_items": null,
            "align_self": null,
            "border": null,
            "bottom": null,
            "display": null,
            "flex": null,
            "flex_flow": null,
            "grid_area": null,
            "grid_auto_columns": null,
            "grid_auto_flow": null,
            "grid_auto_rows": null,
            "grid_column": null,
            "grid_gap": null,
            "grid_row": null,
            "grid_template_areas": null,
            "grid_template_columns": null,
            "grid_template_rows": null,
            "height": null,
            "justify_content": null,
            "justify_items": null,
            "left": null,
            "margin": null,
            "max_height": null,
            "max_width": null,
            "min_height": null,
            "min_width": null,
            "object_fit": null,
            "object_position": null,
            "order": null,
            "overflow": null,
            "overflow_x": null,
            "overflow_y": null,
            "padding": null,
            "right": null,
            "top": null,
            "visibility": null,
            "width": null
          }
        },
        "c56bf3aa2d874d8e80969925963c2462": {
          "model_module": "@jupyter-widgets/controls",
          "model_name": "ProgressStyleModel",
          "model_module_version": "1.5.0",
          "state": {
            "_model_module": "@jupyter-widgets/controls",
            "_model_module_version": "1.5.0",
            "_model_name": "ProgressStyleModel",
            "_view_count": null,
            "_view_module": "@jupyter-widgets/base",
            "_view_module_version": "1.2.0",
            "_view_name": "StyleView",
            "bar_color": null,
            "description_width": ""
          }
        },
        "11e97227d1fb4783814fc05b23c6b810": {
          "model_module": "@jupyter-widgets/base",
          "model_name": "LayoutModel",
          "model_module_version": "1.2.0",
          "state": {
            "_model_module": "@jupyter-widgets/base",
            "_model_module_version": "1.2.0",
            "_model_name": "LayoutModel",
            "_view_count": null,
            "_view_module": "@jupyter-widgets/base",
            "_view_module_version": "1.2.0",
            "_view_name": "LayoutView",
            "align_content": null,
            "align_items": null,
            "align_self": null,
            "border": null,
            "bottom": null,
            "display": null,
            "flex": null,
            "flex_flow": null,
            "grid_area": null,
            "grid_auto_columns": null,
            "grid_auto_flow": null,
            "grid_auto_rows": null,
            "grid_column": null,
            "grid_gap": null,
            "grid_row": null,
            "grid_template_areas": null,
            "grid_template_columns": null,
            "grid_template_rows": null,
            "height": null,
            "justify_content": null,
            "justify_items": null,
            "left": null,
            "margin": null,
            "max_height": null,
            "max_width": null,
            "min_height": null,
            "min_width": null,
            "object_fit": null,
            "object_position": null,
            "order": null,
            "overflow": null,
            "overflow_x": null,
            "overflow_y": null,
            "padding": null,
            "right": null,
            "top": null,
            "visibility": null,
            "width": null
          }
        },
        "a62d8a0c78b14bd89d1db2fe53e0d9d0": {
          "model_module": "@jupyter-widgets/controls",
          "model_name": "DescriptionStyleModel",
          "model_module_version": "1.5.0",
          "state": {
            "_model_module": "@jupyter-widgets/controls",
            "_model_module_version": "1.5.0",
            "_model_name": "DescriptionStyleModel",
            "_view_count": null,
            "_view_module": "@jupyter-widgets/base",
            "_view_module_version": "1.2.0",
            "_view_name": "StyleView",
            "description_width": ""
          }
        },
        "bfe503fb9eb04c84821b0a4623c75545": {
          "model_module": "@jupyter-widgets/controls",
          "model_name": "HBoxModel",
          "model_module_version": "1.5.0",
          "state": {
            "_dom_classes": [],
            "_model_module": "@jupyter-widgets/controls",
            "_model_module_version": "1.5.0",
            "_model_name": "HBoxModel",
            "_view_count": null,
            "_view_module": "@jupyter-widgets/controls",
            "_view_module_version": "1.5.0",
            "_view_name": "HBoxView",
            "box_style": "",
            "children": [
              "IPY_MODEL_ae38db148d9e4e4faf08d079ca2f9807",
              "IPY_MODEL_33479f21cf6e4f788b8feb83297ac134",
              "IPY_MODEL_cd7af600ce9f471eaf35b1c1a2be143c"
            ],
            "layout": "IPY_MODEL_bd9c354621b14d4fa29e97d65a8d0bf6"
          }
        },
        "ae38db148d9e4e4faf08d079ca2f9807": {
          "model_module": "@jupyter-widgets/controls",
          "model_name": "HTMLModel",
          "model_module_version": "1.5.0",
          "state": {
            "_dom_classes": [],
            "_model_module": "@jupyter-widgets/controls",
            "_model_module_version": "1.5.0",
            "_model_name": "HTMLModel",
            "_view_count": null,
            "_view_module": "@jupyter-widgets/controls",
            "_view_module_version": "1.5.0",
            "_view_name": "HTMLView",
            "description": "",
            "description_tooltip": null,
            "layout": "IPY_MODEL_41e75b68699e4a928b462d74c882845b",
            "placeholder": "​",
            "style": "IPY_MODEL_8a070cac11ca4ea29fea83878d8412f8",
            "value": "Downloading (…)lve/main/config.json: 100%"
          }
        },
        "33479f21cf6e4f788b8feb83297ac134": {
          "model_module": "@jupyter-widgets/controls",
          "model_name": "FloatProgressModel",
          "model_module_version": "1.5.0",
          "state": {
            "_dom_classes": [],
            "_model_module": "@jupyter-widgets/controls",
            "_model_module_version": "1.5.0",
            "_model_name": "FloatProgressModel",
            "_view_count": null,
            "_view_module": "@jupyter-widgets/controls",
            "_view_module_version": "1.5.0",
            "_view_name": "ProgressView",
            "bar_style": "success",
            "description": "",
            "description_tooltip": null,
            "layout": "IPY_MODEL_748d77c76eaf4ccea506c721044f41c4",
            "max": 507,
            "min": 0,
            "orientation": "horizontal",
            "style": "IPY_MODEL_6f6218811e744369a025af2e0b627898",
            "value": 507
          }
        },
        "cd7af600ce9f471eaf35b1c1a2be143c": {
          "model_module": "@jupyter-widgets/controls",
          "model_name": "HTMLModel",
          "model_module_version": "1.5.0",
          "state": {
            "_dom_classes": [],
            "_model_module": "@jupyter-widgets/controls",
            "_model_module_version": "1.5.0",
            "_model_name": "HTMLModel",
            "_view_count": null,
            "_view_module": "@jupyter-widgets/controls",
            "_view_module_version": "1.5.0",
            "_view_name": "HTMLView",
            "description": "",
            "description_tooltip": null,
            "layout": "IPY_MODEL_dd154de8149b4013aa5a5805936b0378",
            "placeholder": "​",
            "style": "IPY_MODEL_f84e21fa60bc446ebcfcb34b84ef4f4c",
            "value": " 507/507 [00:00&lt;00:00, 11.5kB/s]"
          }
        },
        "bd9c354621b14d4fa29e97d65a8d0bf6": {
          "model_module": "@jupyter-widgets/base",
          "model_name": "LayoutModel",
          "model_module_version": "1.2.0",
          "state": {
            "_model_module": "@jupyter-widgets/base",
            "_model_module_version": "1.2.0",
            "_model_name": "LayoutModel",
            "_view_count": null,
            "_view_module": "@jupyter-widgets/base",
            "_view_module_version": "1.2.0",
            "_view_name": "LayoutView",
            "align_content": null,
            "align_items": null,
            "align_self": null,
            "border": null,
            "bottom": null,
            "display": null,
            "flex": null,
            "flex_flow": null,
            "grid_area": null,
            "grid_auto_columns": null,
            "grid_auto_flow": null,
            "grid_auto_rows": null,
            "grid_column": null,
            "grid_gap": null,
            "grid_row": null,
            "grid_template_areas": null,
            "grid_template_columns": null,
            "grid_template_rows": null,
            "height": null,
            "justify_content": null,
            "justify_items": null,
            "left": null,
            "margin": null,
            "max_height": null,
            "max_width": null,
            "min_height": null,
            "min_width": null,
            "object_fit": null,
            "object_position": null,
            "order": null,
            "overflow": null,
            "overflow_x": null,
            "overflow_y": null,
            "padding": null,
            "right": null,
            "top": null,
            "visibility": null,
            "width": null
          }
        },
        "41e75b68699e4a928b462d74c882845b": {
          "model_module": "@jupyter-widgets/base",
          "model_name": "LayoutModel",
          "model_module_version": "1.2.0",
          "state": {
            "_model_module": "@jupyter-widgets/base",
            "_model_module_version": "1.2.0",
            "_model_name": "LayoutModel",
            "_view_count": null,
            "_view_module": "@jupyter-widgets/base",
            "_view_module_version": "1.2.0",
            "_view_name": "LayoutView",
            "align_content": null,
            "align_items": null,
            "align_self": null,
            "border": null,
            "bottom": null,
            "display": null,
            "flex": null,
            "flex_flow": null,
            "grid_area": null,
            "grid_auto_columns": null,
            "grid_auto_flow": null,
            "grid_auto_rows": null,
            "grid_column": null,
            "grid_gap": null,
            "grid_row": null,
            "grid_template_areas": null,
            "grid_template_columns": null,
            "grid_template_rows": null,
            "height": null,
            "justify_content": null,
            "justify_items": null,
            "left": null,
            "margin": null,
            "max_height": null,
            "max_width": null,
            "min_height": null,
            "min_width": null,
            "object_fit": null,
            "object_position": null,
            "order": null,
            "overflow": null,
            "overflow_x": null,
            "overflow_y": null,
            "padding": null,
            "right": null,
            "top": null,
            "visibility": null,
            "width": null
          }
        },
        "8a070cac11ca4ea29fea83878d8412f8": {
          "model_module": "@jupyter-widgets/controls",
          "model_name": "DescriptionStyleModel",
          "model_module_version": "1.5.0",
          "state": {
            "_model_module": "@jupyter-widgets/controls",
            "_model_module_version": "1.5.0",
            "_model_name": "DescriptionStyleModel",
            "_view_count": null,
            "_view_module": "@jupyter-widgets/base",
            "_view_module_version": "1.2.0",
            "_view_name": "StyleView",
            "description_width": ""
          }
        },
        "748d77c76eaf4ccea506c721044f41c4": {
          "model_module": "@jupyter-widgets/base",
          "model_name": "LayoutModel",
          "model_module_version": "1.2.0",
          "state": {
            "_model_module": "@jupyter-widgets/base",
            "_model_module_version": "1.2.0",
            "_model_name": "LayoutModel",
            "_view_count": null,
            "_view_module": "@jupyter-widgets/base",
            "_view_module_version": "1.2.0",
            "_view_name": "LayoutView",
            "align_content": null,
            "align_items": null,
            "align_self": null,
            "border": null,
            "bottom": null,
            "display": null,
            "flex": null,
            "flex_flow": null,
            "grid_area": null,
            "grid_auto_columns": null,
            "grid_auto_flow": null,
            "grid_auto_rows": null,
            "grid_column": null,
            "grid_gap": null,
            "grid_row": null,
            "grid_template_areas": null,
            "grid_template_columns": null,
            "grid_template_rows": null,
            "height": null,
            "justify_content": null,
            "justify_items": null,
            "left": null,
            "margin": null,
            "max_height": null,
            "max_width": null,
            "min_height": null,
            "min_width": null,
            "object_fit": null,
            "object_position": null,
            "order": null,
            "overflow": null,
            "overflow_x": null,
            "overflow_y": null,
            "padding": null,
            "right": null,
            "top": null,
            "visibility": null,
            "width": null
          }
        },
        "6f6218811e744369a025af2e0b627898": {
          "model_module": "@jupyter-widgets/controls",
          "model_name": "ProgressStyleModel",
          "model_module_version": "1.5.0",
          "state": {
            "_model_module": "@jupyter-widgets/controls",
            "_model_module_version": "1.5.0",
            "_model_name": "ProgressStyleModel",
            "_view_count": null,
            "_view_module": "@jupyter-widgets/base",
            "_view_module_version": "1.2.0",
            "_view_name": "StyleView",
            "bar_color": null,
            "description_width": ""
          }
        },
        "dd154de8149b4013aa5a5805936b0378": {
          "model_module": "@jupyter-widgets/base",
          "model_name": "LayoutModel",
          "model_module_version": "1.2.0",
          "state": {
            "_model_module": "@jupyter-widgets/base",
            "_model_module_version": "1.2.0",
            "_model_name": "LayoutModel",
            "_view_count": null,
            "_view_module": "@jupyter-widgets/base",
            "_view_module_version": "1.2.0",
            "_view_name": "LayoutView",
            "align_content": null,
            "align_items": null,
            "align_self": null,
            "border": null,
            "bottom": null,
            "display": null,
            "flex": null,
            "flex_flow": null,
            "grid_area": null,
            "grid_auto_columns": null,
            "grid_auto_flow": null,
            "grid_auto_rows": null,
            "grid_column": null,
            "grid_gap": null,
            "grid_row": null,
            "grid_template_areas": null,
            "grid_template_columns": null,
            "grid_template_rows": null,
            "height": null,
            "justify_content": null,
            "justify_items": null,
            "left": null,
            "margin": null,
            "max_height": null,
            "max_width": null,
            "min_height": null,
            "min_width": null,
            "object_fit": null,
            "object_position": null,
            "order": null,
            "overflow": null,
            "overflow_x": null,
            "overflow_y": null,
            "padding": null,
            "right": null,
            "top": null,
            "visibility": null,
            "width": null
          }
        },
        "f84e21fa60bc446ebcfcb34b84ef4f4c": {
          "model_module": "@jupyter-widgets/controls",
          "model_name": "DescriptionStyleModel",
          "model_module_version": "1.5.0",
          "state": {
            "_model_module": "@jupyter-widgets/controls",
            "_model_module_version": "1.5.0",
            "_model_name": "DescriptionStyleModel",
            "_view_count": null,
            "_view_module": "@jupyter-widgets/base",
            "_view_module_version": "1.2.0",
            "_view_name": "StyleView",
            "description_width": ""
          }
        },
        "8036d7fe096543a3b349f6cedfca8c30": {
          "model_module": "@jupyter-widgets/controls",
          "model_name": "HBoxModel",
          "model_module_version": "1.5.0",
          "state": {
            "_dom_classes": [],
            "_model_module": "@jupyter-widgets/controls",
            "_model_module_version": "1.5.0",
            "_model_name": "HBoxModel",
            "_view_count": null,
            "_view_module": "@jupyter-widgets/controls",
            "_view_module_version": "1.5.0",
            "_view_name": "HBoxView",
            "box_style": "",
            "children": [
              "IPY_MODEL_2b998426faaf46ce98ba56765e171433",
              "IPY_MODEL_2bb99ca7160143788c1cedac26f018d0",
              "IPY_MODEL_0a8f822981324e8f8258b63a7091944a"
            ],
            "layout": "IPY_MODEL_400016815095411a81814acbedcca64e"
          }
        },
        "2b998426faaf46ce98ba56765e171433": {
          "model_module": "@jupyter-widgets/controls",
          "model_name": "HTMLModel",
          "model_module_version": "1.5.0",
          "state": {
            "_dom_classes": [],
            "_model_module": "@jupyter-widgets/controls",
            "_model_module_version": "1.5.0",
            "_model_name": "HTMLModel",
            "_view_count": null,
            "_view_module": "@jupyter-widgets/controls",
            "_view_module_version": "1.5.0",
            "_view_name": "HTMLView",
            "description": "",
            "description_tooltip": null,
            "layout": "IPY_MODEL_b5ecdac54dd1445e85f77f8908a82594",
            "placeholder": "​",
            "style": "IPY_MODEL_a1ceeeb576454ce199d7e4f3d455e920",
            "value": "Downloading (…)ve/main/spiece.model: 100%"
          }
        },
        "2bb99ca7160143788c1cedac26f018d0": {
          "model_module": "@jupyter-widgets/controls",
          "model_name": "FloatProgressModel",
          "model_module_version": "1.5.0",
          "state": {
            "_dom_classes": [],
            "_model_module": "@jupyter-widgets/controls",
            "_model_module_version": "1.5.0",
            "_model_name": "FloatProgressModel",
            "_view_count": null,
            "_view_module": "@jupyter-widgets/controls",
            "_view_module_version": "1.5.0",
            "_view_name": "ProgressView",
            "bar_style": "success",
            "description": "",
            "description_tooltip": null,
            "layout": "IPY_MODEL_e2015e12958b49f8b6f0bfc24cff12dc",
            "max": 5646064,
            "min": 0,
            "orientation": "horizontal",
            "style": "IPY_MODEL_4e59e9b8cb554f208fad9c5cd637988d",
            "value": 5646064
          }
        },
        "0a8f822981324e8f8258b63a7091944a": {
          "model_module": "@jupyter-widgets/controls",
          "model_name": "HTMLModel",
          "model_module_version": "1.5.0",
          "state": {
            "_dom_classes": [],
            "_model_module": "@jupyter-widgets/controls",
            "_model_module_version": "1.5.0",
            "_model_name": "HTMLModel",
            "_view_count": null,
            "_view_module": "@jupyter-widgets/controls",
            "_view_module_version": "1.5.0",
            "_view_name": "HTMLView",
            "description": "",
            "description_tooltip": null,
            "layout": "IPY_MODEL_ad3d603407b84569afc5fb1420679609",
            "placeholder": "​",
            "style": "IPY_MODEL_9cbc4eb47e574d99bdf6c1d0f18f652f",
            "value": " 5.65M/5.65M [00:00&lt;00:00, 29.8MB/s]"
          }
        },
        "400016815095411a81814acbedcca64e": {
          "model_module": "@jupyter-widgets/base",
          "model_name": "LayoutModel",
          "model_module_version": "1.2.0",
          "state": {
            "_model_module": "@jupyter-widgets/base",
            "_model_module_version": "1.2.0",
            "_model_name": "LayoutModel",
            "_view_count": null,
            "_view_module": "@jupyter-widgets/base",
            "_view_module_version": "1.2.0",
            "_view_name": "LayoutView",
            "align_content": null,
            "align_items": null,
            "align_self": null,
            "border": null,
            "bottom": null,
            "display": null,
            "flex": null,
            "flex_flow": null,
            "grid_area": null,
            "grid_auto_columns": null,
            "grid_auto_flow": null,
            "grid_auto_rows": null,
            "grid_column": null,
            "grid_gap": null,
            "grid_row": null,
            "grid_template_areas": null,
            "grid_template_columns": null,
            "grid_template_rows": null,
            "height": null,
            "justify_content": null,
            "justify_items": null,
            "left": null,
            "margin": null,
            "max_height": null,
            "max_width": null,
            "min_height": null,
            "min_width": null,
            "object_fit": null,
            "object_position": null,
            "order": null,
            "overflow": null,
            "overflow_x": null,
            "overflow_y": null,
            "padding": null,
            "right": null,
            "top": null,
            "visibility": null,
            "width": null
          }
        },
        "b5ecdac54dd1445e85f77f8908a82594": {
          "model_module": "@jupyter-widgets/base",
          "model_name": "LayoutModel",
          "model_module_version": "1.2.0",
          "state": {
            "_model_module": "@jupyter-widgets/base",
            "_model_module_version": "1.2.0",
            "_model_name": "LayoutModel",
            "_view_count": null,
            "_view_module": "@jupyter-widgets/base",
            "_view_module_version": "1.2.0",
            "_view_name": "LayoutView",
            "align_content": null,
            "align_items": null,
            "align_self": null,
            "border": null,
            "bottom": null,
            "display": null,
            "flex": null,
            "flex_flow": null,
            "grid_area": null,
            "grid_auto_columns": null,
            "grid_auto_flow": null,
            "grid_auto_rows": null,
            "grid_column": null,
            "grid_gap": null,
            "grid_row": null,
            "grid_template_areas": null,
            "grid_template_columns": null,
            "grid_template_rows": null,
            "height": null,
            "justify_content": null,
            "justify_items": null,
            "left": null,
            "margin": null,
            "max_height": null,
            "max_width": null,
            "min_height": null,
            "min_width": null,
            "object_fit": null,
            "object_position": null,
            "order": null,
            "overflow": null,
            "overflow_x": null,
            "overflow_y": null,
            "padding": null,
            "right": null,
            "top": null,
            "visibility": null,
            "width": null
          }
        },
        "a1ceeeb576454ce199d7e4f3d455e920": {
          "model_module": "@jupyter-widgets/controls",
          "model_name": "DescriptionStyleModel",
          "model_module_version": "1.5.0",
          "state": {
            "_model_module": "@jupyter-widgets/controls",
            "_model_module_version": "1.5.0",
            "_model_name": "DescriptionStyleModel",
            "_view_count": null,
            "_view_module": "@jupyter-widgets/base",
            "_view_module_version": "1.2.0",
            "_view_name": "StyleView",
            "description_width": ""
          }
        },
        "e2015e12958b49f8b6f0bfc24cff12dc": {
          "model_module": "@jupyter-widgets/base",
          "model_name": "LayoutModel",
          "model_module_version": "1.2.0",
          "state": {
            "_model_module": "@jupyter-widgets/base",
            "_model_module_version": "1.2.0",
            "_model_name": "LayoutModel",
            "_view_count": null,
            "_view_module": "@jupyter-widgets/base",
            "_view_module_version": "1.2.0",
            "_view_name": "LayoutView",
            "align_content": null,
            "align_items": null,
            "align_self": null,
            "border": null,
            "bottom": null,
            "display": null,
            "flex": null,
            "flex_flow": null,
            "grid_area": null,
            "grid_auto_columns": null,
            "grid_auto_flow": null,
            "grid_auto_rows": null,
            "grid_column": null,
            "grid_gap": null,
            "grid_row": null,
            "grid_template_areas": null,
            "grid_template_columns": null,
            "grid_template_rows": null,
            "height": null,
            "justify_content": null,
            "justify_items": null,
            "left": null,
            "margin": null,
            "max_height": null,
            "max_width": null,
            "min_height": null,
            "min_width": null,
            "object_fit": null,
            "object_position": null,
            "order": null,
            "overflow": null,
            "overflow_x": null,
            "overflow_y": null,
            "padding": null,
            "right": null,
            "top": null,
            "visibility": null,
            "width": null
          }
        },
        "4e59e9b8cb554f208fad9c5cd637988d": {
          "model_module": "@jupyter-widgets/controls",
          "model_name": "ProgressStyleModel",
          "model_module_version": "1.5.0",
          "state": {
            "_model_module": "@jupyter-widgets/controls",
            "_model_module_version": "1.5.0",
            "_model_name": "ProgressStyleModel",
            "_view_count": null,
            "_view_module": "@jupyter-widgets/base",
            "_view_module_version": "1.2.0",
            "_view_name": "StyleView",
            "bar_color": null,
            "description_width": ""
          }
        },
        "ad3d603407b84569afc5fb1420679609": {
          "model_module": "@jupyter-widgets/base",
          "model_name": "LayoutModel",
          "model_module_version": "1.2.0",
          "state": {
            "_model_module": "@jupyter-widgets/base",
            "_model_module_version": "1.2.0",
            "_model_name": "LayoutModel",
            "_view_count": null,
            "_view_module": "@jupyter-widgets/base",
            "_view_module_version": "1.2.0",
            "_view_name": "LayoutView",
            "align_content": null,
            "align_items": null,
            "align_self": null,
            "border": null,
            "bottom": null,
            "display": null,
            "flex": null,
            "flex_flow": null,
            "grid_area": null,
            "grid_auto_columns": null,
            "grid_auto_flow": null,
            "grid_auto_rows": null,
            "grid_column": null,
            "grid_gap": null,
            "grid_row": null,
            "grid_template_areas": null,
            "grid_template_columns": null,
            "grid_template_rows": null,
            "height": null,
            "justify_content": null,
            "justify_items": null,
            "left": null,
            "margin": null,
            "max_height": null,
            "max_width": null,
            "min_height": null,
            "min_width": null,
            "object_fit": null,
            "object_position": null,
            "order": null,
            "overflow": null,
            "overflow_x": null,
            "overflow_y": null,
            "padding": null,
            "right": null,
            "top": null,
            "visibility": null,
            "width": null
          }
        },
        "9cbc4eb47e574d99bdf6c1d0f18f652f": {
          "model_module": "@jupyter-widgets/controls",
          "model_name": "DescriptionStyleModel",
          "model_module_version": "1.5.0",
          "state": {
            "_model_module": "@jupyter-widgets/controls",
            "_model_module_version": "1.5.0",
            "_model_name": "DescriptionStyleModel",
            "_view_count": null,
            "_view_module": "@jupyter-widgets/base",
            "_view_module_version": "1.2.0",
            "_view_name": "StyleView",
            "description_width": ""
          }
        },
        "9fc9b56e0a8a45e7871fed521a9be224": {
          "model_module": "@jupyter-widgets/controls",
          "model_name": "HBoxModel",
          "model_module_version": "1.5.0",
          "state": {
            "_dom_classes": [],
            "_model_module": "@jupyter-widgets/controls",
            "_model_module_version": "1.5.0",
            "_model_name": "HBoxModel",
            "_view_count": null,
            "_view_module": "@jupyter-widgets/controls",
            "_view_module_version": "1.5.0",
            "_view_name": "HBoxView",
            "box_style": "",
            "children": [
              "IPY_MODEL_2935f288fb0f4cb18a475340ba60b147",
              "IPY_MODEL_7cf4ef23d4474f28b34ed7a59f2a0a2d",
              "IPY_MODEL_3e5628b6f1bd491b822b71d0170b9c0e"
            ],
            "layout": "IPY_MODEL_56eba8ca56a74b4a982d66fd375b70e2"
          }
        },
        "2935f288fb0f4cb18a475340ba60b147": {
          "model_module": "@jupyter-widgets/controls",
          "model_name": "HTMLModel",
          "model_module_version": "1.5.0",
          "state": {
            "_dom_classes": [],
            "_model_module": "@jupyter-widgets/controls",
            "_model_module_version": "1.5.0",
            "_model_name": "HTMLModel",
            "_view_count": null,
            "_view_module": "@jupyter-widgets/controls",
            "_view_module_version": "1.5.0",
            "_view_name": "HTMLView",
            "description": "",
            "description_tooltip": null,
            "layout": "IPY_MODEL_77259a8cd1304638a00165d580f1e832",
            "placeholder": "​",
            "style": "IPY_MODEL_c70160fcbebd458aa8940ab4df80e7a8",
            "value": "Downloading pytorch_model.bin: 100%"
          }
        },
        "7cf4ef23d4474f28b34ed7a59f2a0a2d": {
          "model_module": "@jupyter-widgets/controls",
          "model_name": "FloatProgressModel",
          "model_module_version": "1.5.0",
          "state": {
            "_dom_classes": [],
            "_model_module": "@jupyter-widgets/controls",
            "_model_module_version": "1.5.0",
            "_model_name": "FloatProgressModel",
            "_view_count": null,
            "_view_module": "@jupyter-widgets/controls",
            "_view_module_version": "1.5.0",
            "_view_name": "ProgressView",
            "bar_style": "success",
            "description": "",
            "description_tooltip": null,
            "layout": "IPY_MODEL_3aff0a2e9ae34bcb8cfa52e66a59db92",
            "max": 134982446,
            "min": 0,
            "orientation": "horizontal",
            "style": "IPY_MODEL_ff37fc6cc15e4d34849328f7d7233b1d",
            "value": 134982446
          }
        },
        "3e5628b6f1bd491b822b71d0170b9c0e": {
          "model_module": "@jupyter-widgets/controls",
          "model_name": "HTMLModel",
          "model_module_version": "1.5.0",
          "state": {
            "_dom_classes": [],
            "_model_module": "@jupyter-widgets/controls",
            "_model_module_version": "1.5.0",
            "_model_name": "HTMLModel",
            "_view_count": null,
            "_view_module": "@jupyter-widgets/controls",
            "_view_module_version": "1.5.0",
            "_view_name": "HTMLView",
            "description": "",
            "description_tooltip": null,
            "layout": "IPY_MODEL_33c2bffdd0974d7da33e2a4a3263b72b",
            "placeholder": "​",
            "style": "IPY_MODEL_43f3ae9e665342f28b945d57f3ca67bd",
            "value": " 135M/135M [00:00&lt;00:00, 154MB/s]"
          }
        },
        "56eba8ca56a74b4a982d66fd375b70e2": {
          "model_module": "@jupyter-widgets/base",
          "model_name": "LayoutModel",
          "model_module_version": "1.2.0",
          "state": {
            "_model_module": "@jupyter-widgets/base",
            "_model_module_version": "1.2.0",
            "_model_name": "LayoutModel",
            "_view_count": null,
            "_view_module": "@jupyter-widgets/base",
            "_view_module_version": "1.2.0",
            "_view_name": "LayoutView",
            "align_content": null,
            "align_items": null,
            "align_self": null,
            "border": null,
            "bottom": null,
            "display": null,
            "flex": null,
            "flex_flow": null,
            "grid_area": null,
            "grid_auto_columns": null,
            "grid_auto_flow": null,
            "grid_auto_rows": null,
            "grid_column": null,
            "grid_gap": null,
            "grid_row": null,
            "grid_template_areas": null,
            "grid_template_columns": null,
            "grid_template_rows": null,
            "height": null,
            "justify_content": null,
            "justify_items": null,
            "left": null,
            "margin": null,
            "max_height": null,
            "max_width": null,
            "min_height": null,
            "min_width": null,
            "object_fit": null,
            "object_position": null,
            "order": null,
            "overflow": null,
            "overflow_x": null,
            "overflow_y": null,
            "padding": null,
            "right": null,
            "top": null,
            "visibility": null,
            "width": null
          }
        },
        "77259a8cd1304638a00165d580f1e832": {
          "model_module": "@jupyter-widgets/base",
          "model_name": "LayoutModel",
          "model_module_version": "1.2.0",
          "state": {
            "_model_module": "@jupyter-widgets/base",
            "_model_module_version": "1.2.0",
            "_model_name": "LayoutModel",
            "_view_count": null,
            "_view_module": "@jupyter-widgets/base",
            "_view_module_version": "1.2.0",
            "_view_name": "LayoutView",
            "align_content": null,
            "align_items": null,
            "align_self": null,
            "border": null,
            "bottom": null,
            "display": null,
            "flex": null,
            "flex_flow": null,
            "grid_area": null,
            "grid_auto_columns": null,
            "grid_auto_flow": null,
            "grid_auto_rows": null,
            "grid_column": null,
            "grid_gap": null,
            "grid_row": null,
            "grid_template_areas": null,
            "grid_template_columns": null,
            "grid_template_rows": null,
            "height": null,
            "justify_content": null,
            "justify_items": null,
            "left": null,
            "margin": null,
            "max_height": null,
            "max_width": null,
            "min_height": null,
            "min_width": null,
            "object_fit": null,
            "object_position": null,
            "order": null,
            "overflow": null,
            "overflow_x": null,
            "overflow_y": null,
            "padding": null,
            "right": null,
            "top": null,
            "visibility": null,
            "width": null
          }
        },
        "c70160fcbebd458aa8940ab4df80e7a8": {
          "model_module": "@jupyter-widgets/controls",
          "model_name": "DescriptionStyleModel",
          "model_module_version": "1.5.0",
          "state": {
            "_model_module": "@jupyter-widgets/controls",
            "_model_module_version": "1.5.0",
            "_model_name": "DescriptionStyleModel",
            "_view_count": null,
            "_view_module": "@jupyter-widgets/base",
            "_view_module_version": "1.2.0",
            "_view_name": "StyleView",
            "description_width": ""
          }
        },
        "3aff0a2e9ae34bcb8cfa52e66a59db92": {
          "model_module": "@jupyter-widgets/base",
          "model_name": "LayoutModel",
          "model_module_version": "1.2.0",
          "state": {
            "_model_module": "@jupyter-widgets/base",
            "_model_module_version": "1.2.0",
            "_model_name": "LayoutModel",
            "_view_count": null,
            "_view_module": "@jupyter-widgets/base",
            "_view_module_version": "1.2.0",
            "_view_name": "LayoutView",
            "align_content": null,
            "align_items": null,
            "align_self": null,
            "border": null,
            "bottom": null,
            "display": null,
            "flex": null,
            "flex_flow": null,
            "grid_area": null,
            "grid_auto_columns": null,
            "grid_auto_flow": null,
            "grid_auto_rows": null,
            "grid_column": null,
            "grid_gap": null,
            "grid_row": null,
            "grid_template_areas": null,
            "grid_template_columns": null,
            "grid_template_rows": null,
            "height": null,
            "justify_content": null,
            "justify_items": null,
            "left": null,
            "margin": null,
            "max_height": null,
            "max_width": null,
            "min_height": null,
            "min_width": null,
            "object_fit": null,
            "object_position": null,
            "order": null,
            "overflow": null,
            "overflow_x": null,
            "overflow_y": null,
            "padding": null,
            "right": null,
            "top": null,
            "visibility": null,
            "width": null
          }
        },
        "ff37fc6cc15e4d34849328f7d7233b1d": {
          "model_module": "@jupyter-widgets/controls",
          "model_name": "ProgressStyleModel",
          "model_module_version": "1.5.0",
          "state": {
            "_model_module": "@jupyter-widgets/controls",
            "_model_module_version": "1.5.0",
            "_model_name": "ProgressStyleModel",
            "_view_count": null,
            "_view_module": "@jupyter-widgets/base",
            "_view_module_version": "1.2.0",
            "_view_name": "StyleView",
            "bar_color": null,
            "description_width": ""
          }
        },
        "33c2bffdd0974d7da33e2a4a3263b72b": {
          "model_module": "@jupyter-widgets/base",
          "model_name": "LayoutModel",
          "model_module_version": "1.2.0",
          "state": {
            "_model_module": "@jupyter-widgets/base",
            "_model_module_version": "1.2.0",
            "_model_name": "LayoutModel",
            "_view_count": null,
            "_view_module": "@jupyter-widgets/base",
            "_view_module_version": "1.2.0",
            "_view_name": "LayoutView",
            "align_content": null,
            "align_items": null,
            "align_self": null,
            "border": null,
            "bottom": null,
            "display": null,
            "flex": null,
            "flex_flow": null,
            "grid_area": null,
            "grid_auto_columns": null,
            "grid_auto_flow": null,
            "grid_auto_rows": null,
            "grid_column": null,
            "grid_gap": null,
            "grid_row": null,
            "grid_template_areas": null,
            "grid_template_columns": null,
            "grid_template_rows": null,
            "height": null,
            "justify_content": null,
            "justify_items": null,
            "left": null,
            "margin": null,
            "max_height": null,
            "max_width": null,
            "min_height": null,
            "min_width": null,
            "object_fit": null,
            "object_position": null,
            "order": null,
            "overflow": null,
            "overflow_x": null,
            "overflow_y": null,
            "padding": null,
            "right": null,
            "top": null,
            "visibility": null,
            "width": null
          }
        },
        "43f3ae9e665342f28b945d57f3ca67bd": {
          "model_module": "@jupyter-widgets/controls",
          "model_name": "DescriptionStyleModel",
          "model_module_version": "1.5.0",
          "state": {
            "_model_module": "@jupyter-widgets/controls",
            "_model_module_version": "1.5.0",
            "_model_name": "DescriptionStyleModel",
            "_view_count": null,
            "_view_module": "@jupyter-widgets/base",
            "_view_module_version": "1.2.0",
            "_view_name": "StyleView",
            "description_width": ""
          }
        }
      }
    }
  },
  "cells": [
    {
      "cell_type": "markdown",
      "source": [
        "# Warm up"
      ],
      "metadata": {
        "id": "xpBW3Fh-YD76"
      }
    },
    {
      "cell_type": "code",
      "source": [
        "!pip install git+https://github.com/joshivedant/bert_score --quiet"
      ],
      "metadata": {
        "colab": {
          "base_uri": "https://localhost:8080/"
        },
        "id": "8joEKY0mLb2e",
        "outputId": "8b8a9454-9024-4729-b259-247be7386632"
      },
      "execution_count": 1,
      "outputs": [
        {
          "output_type": "stream",
          "name": "stdout",
          "text": [
            "  Preparing metadata (setup.py) ... \u001b[?25l\u001b[?25hdone\n",
            "\u001b[2K     \u001b[90m━━━━━━━━━━━━━━━━━━━━━━━━━━━━━━━━━━━━━━━━\u001b[0m \u001b[32m7.0/7.0 MB\u001b[0m \u001b[31m61.1 MB/s\u001b[0m eta \u001b[36m0:00:00\u001b[0m\n",
            "\u001b[2K     \u001b[90m━━━━━━━━━━━━━━━━━━━━━━━━━━━━━━━━━━━━━━\u001b[0m \u001b[32m200.1/200.1 kB\u001b[0m \u001b[31m22.4 MB/s\u001b[0m eta \u001b[36m0:00:00\u001b[0m\n",
            "\u001b[2K     \u001b[90m━━━━━━━━━━━━━━━━━━━━━━━━━━━━━━━━━━━━━━━━\u001b[0m \u001b[32m7.8/7.8 MB\u001b[0m \u001b[31m103.8 MB/s\u001b[0m eta \u001b[36m0:00:00\u001b[0m\n",
            "\u001b[?25h  Building wheel for bert-score (setup.py) ... \u001b[?25l\u001b[?25hdone\n"
          ]
        }
      ]
    },
    {
      "cell_type": "code",
      "source": [
        "!pip install sentencepiece --quiet"
      ],
      "metadata": {
        "id": "HZgkM3ceMB4P",
        "colab": {
          "base_uri": "https://localhost:8080/"
        },
        "outputId": "e1c4e331-63c8-4d38-ae74-35794841e071"
      },
      "execution_count": 2,
      "outputs": [
        {
          "output_type": "stream",
          "name": "stdout",
          "text": [
            "\u001b[?25l     \u001b[90m━━━━━━━━━━━━━━━━━━━━━━━━━━━━━━━━━━━━━━━━\u001b[0m \u001b[32m0.0/1.3 MB\u001b[0m \u001b[31m?\u001b[0m eta \u001b[36m-:--:--\u001b[0m\r\u001b[2K     \u001b[91m━━━━━━━━━━\u001b[0m\u001b[90m╺\u001b[0m\u001b[90m━━━━━━━━━━━━━━━━━━━━━━━━━━━━━\u001b[0m \u001b[32m0.3/1.3 MB\u001b[0m \u001b[31m9.8 MB/s\u001b[0m eta \u001b[36m0:00:01\u001b[0m\r\u001b[2K     \u001b[91m━━━━━━━━━━━━━━━━━━━━━━━━━━━━━━━━━━━━━━━\u001b[0m\u001b[91m╸\u001b[0m \u001b[32m1.3/1.3 MB\u001b[0m \u001b[31m23.3 MB/s\u001b[0m eta \u001b[36m0:00:01\u001b[0m\r\u001b[2K     \u001b[90m━━━━━━━━━━━━━━━━━━━━━━━━━━━━━━━━━━━━━━━━\u001b[0m \u001b[32m1.3/1.3 MB\u001b[0m \u001b[31m16.1 MB/s\u001b[0m eta \u001b[36m0:00:00\u001b[0m\n",
            "\u001b[?25h"
          ]
        }
      ]
    },
    {
      "cell_type": "code",
      "source": [
        "!pip install git+https://github.com/riteshpanjwani/pyiwn.git --quiet"
      ],
      "metadata": {
        "colab": {
          "base_uri": "https://localhost:8080/"
        },
        "id": "LY2jUyG9L__G",
        "outputId": "ab7add52-09d5-4961-ab7f-7f49a6e43a63"
      },
      "execution_count": 3,
      "outputs": [
        {
          "output_type": "stream",
          "name": "stdout",
          "text": [
            "  Preparing metadata (setup.py) ... \u001b[?25l\u001b[?25hdone\n",
            "  Building wheel for pyiwn (setup.py) ... \u001b[?25l\u001b[?25hdone\n"
          ]
        }
      ]
    },
    {
      "cell_type": "code",
      "source": [
        "!pip install indic-nlp-library --quiet"
      ],
      "metadata": {
        "id": "6RP3ssbGME6H",
        "colab": {
          "base_uri": "https://localhost:8080/"
        },
        "outputId": "567f8a29-648c-4e0d-e84c-865354311770"
      },
      "execution_count": 4,
      "outputs": [
        {
          "output_type": "stream",
          "name": "stdout",
          "text": [
            "\u001b[2K     \u001b[90m━━━━━━━━━━━━━━━━━━━━━━━━━━━━━━━━━━━━━━━━\u001b[0m \u001b[32m40.3/40.3 kB\u001b[0m \u001b[31m3.9 MB/s\u001b[0m eta \u001b[36m0:00:00\u001b[0m\n",
            "\u001b[2K     \u001b[90m━━━━━━━━━━━━━━━━━━━━━━━━━━━━━━━━━━━━━━━━\u001b[0m \u001b[32m2.8/2.8 MB\u001b[0m \u001b[31m39.4 MB/s\u001b[0m eta \u001b[36m0:00:00\u001b[0m\n",
            "\u001b[2K     \u001b[90m━━━━━━━━━━━━━━━━━━━━━━━━━━━━━━━━━━━━━━\u001b[0m \u001b[32m121.1/121.1 kB\u001b[0m \u001b[31m15.7 MB/s\u001b[0m eta \u001b[36m0:00:00\u001b[0m\n",
            "\u001b[?25h"
          ]
        }
      ]
    },
    {
      "cell_type": "code",
      "source": [
        "import pandas as pd\n",
        "from indicnlp.tokenize.indic_tokenize import trivial_tokenize, trivial_tokenize_indic\n",
        "from nltk.translate.bleu_score import sentence_bleu, SmoothingFunction\n",
        "import bert_score\n",
        "from bert_score import score\n",
        "import pickle\n",
        "from itertools import chain, product\n",
        "from typing import Callable, Iterable, List, Tuple\n",
        "from nltk.corpus import WordNetCorpusReader, wordnet\n",
        "from nltk.stem.api import StemmerI\n",
        "from nltk.stem.porter import PorterStemmer\n",
        "import pyiwn  #Hindi-wordnet\n",
        "from nltk.metrics import edit_distance\n",
        "\n",
        "# write list to binary file\n",
        "def write_list(a_list, name):\n",
        "    # store list in binary file so 'wb' mode\n",
        "    with open(name, 'wb') as fp:\n",
        "        pickle.dump(a_list, fp)\n",
        "        # print('Done writing list into a binary file')\n",
        "\n",
        "# Read list to memory\n",
        "def read_list(name):\n",
        "    # for reading also binary mode is important\n",
        "    with open(name, 'rb') as fp:\n",
        "        n_list = pickle.load(fp)\n",
        "        return n_list\n",
        "\n",
        "\n",
        "# Writing Code for METEOR metric\n",
        "\n",
        "def _generate_enums(\n",
        "    hypothesis: Iterable[str],\n",
        "    reference: Iterable[str],\n",
        "    preprocess: Callable[[str], str] = str.lower,\n",
        ") -> Tuple[List[Tuple[int, str]], List[Tuple[int, str]]]:\n",
        "    \"\"\"\n",
        "    Takes in pre-tokenized inputs for hypothesis and reference and returns\n",
        "    enumerated word lists for each of them\n",
        "\n",
        "    :param hypothesis: pre-tokenized hypothesis\n",
        "    :param reference: pre-tokenized reference\n",
        "    :preprocess: preprocessing method (default str.lower)\n",
        "    :return: enumerated words list\n",
        "    \"\"\"\n",
        "    if isinstance(hypothesis, str):\n",
        "        raise TypeError(\n",
        "            f'\"hypothesis\" expects pre-tokenized hypothesis (Iterable[str]): {hypothesis}'\n",
        "        )\n",
        "\n",
        "    if isinstance(reference, str):\n",
        "        raise TypeError(\n",
        "            f'\"reference\" expects pre-tokenized reference (Iterable[str]): {reference}'\n",
        "        )\n",
        "\n",
        "    enum_hypothesis_list = list(enumerate(map(preprocess, hypothesis)))\n",
        "    enum_reference_list = list(enumerate(map(preprocess, reference)))\n",
        "    return enum_hypothesis_list, enum_reference_list\n",
        "\n",
        "\n",
        "def exact_match(\n",
        "    hypothesis: Iterable[str], reference: Iterable[str]\n",
        ") -> Tuple[List[Tuple[int, int]], List[Tuple[int, str]], List[Tuple[int, str]]]:\n",
        "    \"\"\"\n",
        "    matches exact words in hypothesis and reference\n",
        "    and returns a word mapping based on the enumerated\n",
        "    word id between hypothesis and reference\n",
        "\n",
        "    :param hypothesis: pre-tokenized hypothesis\n",
        "    :param reference: pre-tokenized reference\n",
        "    :return: enumerated matched tuples, enumerated unmatched hypothesis tuples,\n",
        "             enumerated unmatched reference tuples\n",
        "    \"\"\"\n",
        "    enum_hypothesis_list, enum_reference_list = _generate_enums(hypothesis, reference)\n",
        "    return _match_enums(enum_hypothesis_list, enum_reference_list)\n",
        "\n",
        "\n",
        "def _match_enums(\n",
        "    enum_hypothesis_list: List[Tuple[int, str]],\n",
        "    enum_reference_list: List[Tuple[int, str]],\n",
        ") -> Tuple[List[Tuple[int, int]], List[Tuple[int, str]], List[Tuple[int, str]]]:\n",
        "    \"\"\"\n",
        "    matches exact words in hypothesis and reference and returns\n",
        "    a word mapping between enum_hypothesis_list and enum_reference_list\n",
        "    based on the enumerated word id.\n",
        "\n",
        "    :param enum_hypothesis_list: enumerated hypothesis list\n",
        "    :param enum_reference_list: enumerated reference list\n",
        "    :return: enumerated matched tuples, enumerated unmatched hypothesis tuples,\n",
        "             enumerated unmatched reference tuples\n",
        "    \"\"\"\n",
        "    word_match = []\n",
        "    for i in range(len(enum_hypothesis_list))[::-1]:\n",
        "        for j in range(len(enum_reference_list))[::-1]:\n",
        "            if enum_hypothesis_list[i][1] == enum_reference_list[j][1]:\n",
        "                word_match.append(\n",
        "                    (enum_hypothesis_list[i][0], enum_reference_list[j][0])\n",
        "                )\n",
        "                enum_hypothesis_list.pop(i)\n",
        "                enum_reference_list.pop(j)\n",
        "                break\n",
        "    return word_match, enum_hypothesis_list, enum_reference_list\n",
        "\n",
        "\n",
        "def _enum_stem_match(\n",
        "    enum_hypothesis_list: List[Tuple[int, str]],\n",
        "    enum_reference_list: List[Tuple[int, str]],\n",
        "    stemmer: StemmerI = PorterStemmer(),\n",
        ") -> Tuple[List[Tuple[int, int]], List[Tuple[int, str]], List[Tuple[int, str]]]:\n",
        "    \"\"\"\n",
        "    Stems each word and matches them in hypothesis and reference\n",
        "    and returns a word mapping between enum_hypothesis_list and\n",
        "    enum_reference_list based on the enumerated word id. The function also\n",
        "    returns a enumerated list of unmatched words for hypothesis and reference.\n",
        "\n",
        "    :param enum_hypothesis_list: enumerated hypothesis list\n",
        "    :param enum_reference_list: enumerated reference list\n",
        "    :param stemmer: nltk.stem.api.StemmerI object (default PorterStemmer())\n",
        "    :return: enumerated matched tuples, enumerated unmatched hypothesis tuples,\n",
        "             enumerated unmatched reference tuples\n",
        "    \"\"\"\n",
        "    stemmed_enum_hypothesis_list = [\n",
        "        (word_pair[0], stemmer.stem(word_pair[1])) for word_pair in enum_hypothesis_list\n",
        "    ]\n",
        "\n",
        "    stemmed_enum_reference_list = [\n",
        "        (word_pair[0], stemmer.stem(word_pair[1])) for word_pair in enum_reference_list\n",
        "    ]\n",
        "\n",
        "    return _match_enums(stemmed_enum_hypothesis_list, stemmed_enum_reference_list)\n",
        "\n",
        "\n",
        "def stem_match(\n",
        "    hypothesis: Iterable[str],\n",
        "    reference: Iterable[str],\n",
        "    stemmer: StemmerI = PorterStemmer(),\n",
        ") -> Tuple[List[Tuple[int, int]], List[Tuple[int, str]], List[Tuple[int, str]]]:\n",
        "    \"\"\"\n",
        "    Stems each word and matches them in hypothesis and reference\n",
        "    and returns a word mapping between hypothesis and reference\n",
        "\n",
        "    :param hypothesis: pre-tokenized hypothesis\n",
        "    :param reference: pre-tokenized reference\n",
        "    :param stemmer: nltk.stem.api.StemmerI object (default PorterStemmer())\n",
        "    :return: enumerated matched tuples, enumerated unmatched hypothesis tuples,\n",
        "             enumerated unmatched reference tuples\n",
        "    \"\"\"\n",
        "    enum_hypothesis_list, enum_reference_list = _generate_enums(hypothesis, reference)\n",
        "    return _enum_stem_match(enum_hypothesis_list, enum_reference_list, stemmer=stemmer)\n",
        "\n",
        "\n",
        "def _enum_wordnetsyn_match(\n",
        "    enum_hypothesis_list: List[Tuple[int, str]],\n",
        "    enum_reference_list: List[Tuple[int, str]],\n",
        "    wordnet: WordNetCorpusReader = wordnet,\n",
        ") -> Tuple[List[Tuple[int, int]], List[Tuple[int, str]], List[Tuple[int, str]]]:\n",
        "    \"\"\"\n",
        "    Matches each word in reference to a word in hypothesis\n",
        "    if any synonym of a hypothesis word is the exact match\n",
        "    to the reference word.\n",
        "\n",
        "    :param enum_hypothesis_list: enumerated hypothesis list\n",
        "    :param enum_reference_list: enumerated reference list\n",
        "    :param wordnet: a wordnet corpus reader object (default nltk.corpus.wordnet)\n",
        "    \"\"\"\n",
        "    word_match = []\n",
        "    for i in range(len(enum_hypothesis_list))[::-1]:\n",
        "        hypothesis_syns = set(\n",
        "            chain.from_iterable(\n",
        "                (\n",
        "                    lemma.name()\n",
        "                    for lemma in synset.lemmas()\n",
        "                    if lemma.name().find(\"_\") < 0\n",
        "                )\n",
        "                for synset in wordnet.synsets(enum_hypothesis_list[i][1])\n",
        "            )\n",
        "        ).union({enum_hypothesis_list[i][1]})\n",
        "        for j in range(len(enum_reference_list))[::-1]:\n",
        "            if enum_reference_list[j][1] in hypothesis_syns:\n",
        "                word_match.append(\n",
        "                    (enum_hypothesis_list[i][0], enum_reference_list[j][0])\n",
        "                )\n",
        "                enum_hypothesis_list.pop(i)\n",
        "                enum_reference_list.pop(j)\n",
        "                break\n",
        "    return word_match, enum_hypothesis_list, enum_reference_list\n",
        "\n",
        "\n",
        "def wordnetsyn_match(\n",
        "    hypothesis: Iterable[str],\n",
        "    reference: Iterable[str],\n",
        "    wordnet: WordNetCorpusReader = wordnet,\n",
        ") -> Tuple[List[Tuple[int, int]], List[Tuple[int, str]], List[Tuple[int, str]]]:\n",
        "    \"\"\"\n",
        "    Matches each word in reference to a word in hypothesis if any synonym\n",
        "    of a hypothesis word is the exact match to the reference word.\n",
        "\n",
        "    :param hypothesis: pre-tokenized hypothesis\n",
        "    :param reference: pre-tokenized reference\n",
        "    :param wordnet: a wordnet corpus reader object (default nltk.corpus.wordnet)\n",
        "    :return: list of mapped tuples\n",
        "    \"\"\"\n",
        "    enum_hypothesis_list, enum_reference_list = _generate_enums(hypothesis, reference)\n",
        "    return _enum_wordnetsyn_match(\n",
        "        enum_hypothesis_list, enum_reference_list, wordnet=wordnet\n",
        "    )\n",
        "\n",
        "\n",
        "def _enum_align_words(\n",
        "    enum_hypothesis_list: List[Tuple[int, str]],\n",
        "    enum_reference_list: List[Tuple[int, str]],\n",
        "    stemmer: StemmerI = PorterStemmer(),\n",
        "    wordnet: WordNetCorpusReader = wordnet,\n",
        ") -> Tuple[List[Tuple[int, int]], List[Tuple[int, str]], List[Tuple[int, str]]]:\n",
        "    \"\"\"\n",
        "    Aligns/matches words in the hypothesis to reference by sequentially\n",
        "    applying exact match, stemmed match and wordnet based synonym match.\n",
        "    in case there are multiple matches the match which has the least number\n",
        "    of crossing is chosen. Takes enumerated list as input instead of\n",
        "    string input\n",
        "\n",
        "    :param enum_hypothesis_list: enumerated hypothesis list\n",
        "    :param enum_reference_list: enumerated reference list\n",
        "    :param stemmer: nltk.stem.api.StemmerI object (default PorterStemmer())\n",
        "    :param wordnet: a wordnet corpus reader object (default nltk.corpus.wordnet)\n",
        "    :return: sorted list of matched tuples, unmatched hypothesis list,\n",
        "             unmatched reference list\n",
        "    \"\"\"\n",
        "    exact_matches, enum_hypothesis_list, enum_reference_list = _match_enums(\n",
        "        enum_hypothesis_list, enum_reference_list\n",
        "    )\n",
        "\n",
        "    stem_matches, enum_hypothesis_list, enum_reference_list = _enum_stem_match(\n",
        "        enum_hypothesis_list, enum_reference_list, stemmer=stemmer\n",
        "    )\n",
        "\n",
        "    wns_matches, enum_hypothesis_list, enum_reference_list = _enum_wordnetsyn_match(\n",
        "        enum_hypothesis_list, enum_reference_list, wordnet=wordnet\n",
        "    )\n",
        "\n",
        "    return (\n",
        "        sorted(\n",
        "            exact_matches + stem_matches + wns_matches, key=lambda wordpair: wordpair[0]\n",
        "        ),\n",
        "        enum_hypothesis_list,\n",
        "        enum_reference_list,\n",
        "    )\n",
        "\n",
        "\n",
        "def align_words(\n",
        "    hypothesis: Iterable[str],\n",
        "    reference: Iterable[str],\n",
        "    stemmer: StemmerI = PorterStemmer(),\n",
        "    wordnet: WordNetCorpusReader = wordnet,\n",
        ") -> Tuple[List[Tuple[int, int]], List[Tuple[int, str]], List[Tuple[int, str]]]:\n",
        "    \"\"\"\n",
        "    Aligns/matches words in the hypothesis to reference by sequentially\n",
        "    applying exact match, stemmed match and wordnet based synonym match.\n",
        "    In case there are multiple matches the match which has the least number\n",
        "    of crossing is chosen.\n",
        "\n",
        "    :param hypothesis: pre-tokenized hypothesis\n",
        "    :param reference: pre-tokenized reference\n",
        "    :param stemmer: nltk.stem.api.StemmerI object (default PorterStemmer())\n",
        "    :param wordnet: a wordnet corpus reader object (default nltk.corpus.wordnet)\n",
        "    :return: sorted list of matched tuples, unmatched hypothesis list, unmatched reference list\n",
        "    \"\"\"\n",
        "    enum_hypothesis_list, enum_reference_list = _generate_enums(hypothesis, reference)\n",
        "    return _enum_align_words(\n",
        "        enum_hypothesis_list, enum_reference_list, stemmer=stemmer, wordnet=wordnet\n",
        "    )\n",
        "\n",
        "\n",
        "def _count_chunks(matches: List[Tuple[int, int]]) -> int:\n",
        "    \"\"\"\n",
        "    Counts the fewest possible number of chunks such that matched unigrams\n",
        "    of each chunk are adjacent to each other. This is used to calculate the\n",
        "    fragmentation part of the metric.\n",
        "\n",
        "    :param matches: list containing a mapping of matched words (output of align_words)\n",
        "    :return: Number of chunks a sentence is divided into post alignment\n",
        "    \"\"\"\n",
        "    i = 0\n",
        "    chunks = 1\n",
        "    while i < len(matches) - 1:\n",
        "        if (matches[i + 1][0] == matches[i][0] + 1) and (\n",
        "            matches[i + 1][1] == matches[i][1] + 1\n",
        "        ):\n",
        "            i += 1\n",
        "            continue\n",
        "        i += 1\n",
        "        chunks += 1\n",
        "    return chunks\n",
        "\n",
        "\n",
        "def single_meteor_score(\n",
        "    reference: Iterable[str],\n",
        "    hypothesis: Iterable[str],\n",
        "    preprocess: Callable[[str], str] = str.lower,\n",
        "    stemmer: StemmerI = PorterStemmer(),\n",
        "    wordnet: WordNetCorpusReader = wordnet,\n",
        "    alpha: float = 0.9,\n",
        "    beta: float = 3.0,\n",
        "    gamma: float = 0.5,\n",
        ") -> float:\n",
        "    \"\"\"\n",
        "    Calculates METEOR score for single hypothesis and reference as per\n",
        "    \"Meteor: An Automatic Metric for MT Evaluation with HighLevels of\n",
        "    Correlation with Human Judgments\" by Alon Lavie and Abhaya Agarwal,\n",
        "    in Proceedings of ACL.\n",
        "    https://www.cs.cmu.edu/~alavie/METEOR/pdf/Lavie-Agarwal-2007-METEOR.pdf\n",
        "\n",
        "\n",
        "    >>> hypothesis1 = ['It', 'is', 'a', 'guide', 'to', 'action', 'which', 'ensures', 'that', 'the', 'military', 'always', 'obeys', 'the', 'commands', 'of', 'the', 'party']\n",
        "\n",
        "    >>> reference1 = ['It', 'is', 'a', 'guide', 'to', 'action', 'that', 'ensures', 'that', 'the', 'military', 'will', 'forever', 'heed', 'Party', 'commands']\n",
        "\n",
        "\n",
        "    >>> round(single_meteor_score(reference1, hypothesis1),4)\n",
        "    0.6944\n",
        "\n",
        "        If there is no words match during the alignment the method returns the\n",
        "        score as 0. We can safely  return a zero instead of raising a\n",
        "        division by zero error as no match usually implies a bad translation.\n",
        "\n",
        "    >>> round(single_meteor_score(['this', 'is', 'a', 'cat'], ['non', 'matching', 'hypothesis']),4)\n",
        "    0.0\n",
        "\n",
        "    :param reference: pre-tokenized reference\n",
        "    :param hypothesis: pre-tokenized hypothesis\n",
        "    :param preprocess: preprocessing function (default str.lower)\n",
        "    :param stemmer: nltk.stem.api.StemmerI object (default PorterStemmer())\n",
        "    :param wordnet: a wordnet corpus reader object (default nltk.corpus.wordnet)\n",
        "    :param alpha: parameter for controlling relative weights of precision and recall.\n",
        "    :param beta: parameter for controlling shape of penalty as a\n",
        "                 function of as a function of fragmentation.\n",
        "    :param gamma: relative weight assigned to fragmentation penalty.\n",
        "    :return: The sentence-level METEOR score.\n",
        "    \"\"\"\n",
        "    enum_hypothesis, enum_reference = _generate_enums(\n",
        "        hypothesis, reference, preprocess=preprocess\n",
        "    )\n",
        "    translation_length = len(enum_hypothesis)\n",
        "    reference_length = len(enum_reference)\n",
        "    matches, _, _ = _enum_align_words(\n",
        "        enum_hypothesis, enum_reference, stemmer=stemmer, wordnet=wordnet\n",
        "    )\n",
        "    matches_count = len(matches)\n",
        "    try:\n",
        "        precision = float(matches_count) / translation_length\n",
        "        recall = float(matches_count) / reference_length\n",
        "        fmean = (precision * recall) / (alpha * precision + (1 - alpha) * recall)\n",
        "        chunk_count = float(_count_chunks(matches))\n",
        "        frag_frac = chunk_count / matches_count\n",
        "    except ZeroDivisionError:\n",
        "        return 0.0\n",
        "    penalty = gamma * frag_frac**beta\n",
        "    return (1 - penalty) * fmean\n",
        "\n",
        "\n",
        "def meteor_score(\n",
        "    references: Iterable[Iterable[str]],\n",
        "    hypothesis: Iterable[str],\n",
        "    preprocess: Callable[[str], str] = str.lower,\n",
        "    stemmer: StemmerI = PorterStemmer(),\n",
        "    wordnet: WordNetCorpusReader = wordnet,\n",
        "    alpha: float = 0.9,\n",
        "    beta: float = 3.0,\n",
        "    gamma: float = 0.5,\n",
        ") -> float:\n",
        "    \"\"\"\n",
        "    Calculates METEOR score for hypothesis with multiple references as\n",
        "    described in \"Meteor: An Automatic Metric for MT Evaluation with\n",
        "    HighLevels of Correlation with Human Judgments\" by Alon Lavie and\n",
        "    Abhaya Agarwal, in Proceedings of ACL.\n",
        "    https://www.cs.cmu.edu/~alavie/METEOR/pdf/Lavie-Agarwal-2007-METEOR.pdf\n",
        "\n",
        "\n",
        "    In case of multiple references the best score is chosen. This method\n",
        "    iterates over single_meteor_score and picks the best pair among all\n",
        "    the references for a given hypothesis\n",
        "\n",
        "    >>> hypothesis1 = ['It', 'is', 'a', 'guide', 'to', 'action', 'which', 'ensures', 'that', 'the', 'military', 'always', 'obeys', 'the', 'commands', 'of', 'the', 'party']\n",
        "    >>> hypothesis2 = ['It', 'is', 'to', 'insure', 'the', 'troops', 'forever', 'hearing', 'the', 'activity', 'guidebook', 'that', 'party', 'direct']\n",
        "\n",
        "    >>> reference1 = ['It', 'is', 'a', 'guide', 'to', 'action', 'that', 'ensures', 'that', 'the', 'military', 'will', 'forever', 'heed', 'Party', 'commands']\n",
        "    >>> reference2 = ['It', 'is', 'the', 'guiding', 'principle', 'which', 'guarantees', 'the', 'military', 'forces', 'always', 'being', 'under', 'the', 'command', 'of', 'the', 'Party']\n",
        "    >>> reference3 = ['It', 'is', 'the', 'practical', 'guide', 'for', 'the', 'army', 'always', 'to', 'heed', 'the', 'directions', 'of', 'the', 'party']\n",
        "\n",
        "    >>> round(meteor_score([reference1, reference2, reference3], hypothesis1),4)\n",
        "    0.6944\n",
        "\n",
        "        If there is no words match during the alignment the method returns the\n",
        "        score as 0. We can safely  return a zero instead of raising a\n",
        "        division by zero error as no match usually implies a bad translation.\n",
        "\n",
        "    >>> round(meteor_score([['this', 'is', 'a', 'cat']], ['non', 'matching', 'hypothesis']),4)\n",
        "    0.0\n",
        "\n",
        "    :param references: pre-tokenized reference sentences\n",
        "    :param hypothesis: a pre-tokenized hypothesis sentence\n",
        "    :param preprocess: preprocessing function (default str.lower)\n",
        "    :param stemmer: nltk.stem.api.StemmerI object (default PorterStemmer())\n",
        "    :param wordnet: a wordnet corpus reader object (default nltk.corpus.wordnet)\n",
        "    :param alpha: parameter for controlling relative weights of precision and recall.\n",
        "    :param beta: parameter for controlling shape of penalty as a function\n",
        "                 of as a function of fragmentation.\n",
        "    :param gamma: relative weight assigned to fragmentation penalty.\n",
        "    :return: The sentence-level METEOR score.\n",
        "    \"\"\"\n",
        "    return max(\n",
        "        single_meteor_score(\n",
        "            reference,\n",
        "            hypothesis,\n",
        "            preprocess=preprocess,\n",
        "            stemmer=stemmer,\n",
        "            wordnet=wordnet,\n",
        "            alpha=alpha,\n",
        "            beta=beta,\n",
        "            gamma=gamma,\n",
        "        )\n",
        "        for reference in references\n",
        "    )\n",
        "\n",
        "\n",
        "# Function for TER\n",
        "def get_ter(ref, hyp):\n",
        "    \"\"\"\n",
        "    This function calculates the Translation Error Rate (TER) given the reference (ref) and hypothesis (hyp) translations in Hindi.\n",
        "    \"\"\"\n",
        "    # Tokenize the reference and hypothesis translations using the IndicTokenizer\n",
        "    # tokenizer = IndicTokenizer('hi')\n",
        "    ref_tokens = trivial_tokenize(ref)\n",
        "    hyp_tokens = trivial_tokenize(hyp)\n",
        "\n",
        "    # Compute the edit distance between the tokenized translations using the edit_distance function\n",
        "    edit_dis = edit_distance(ref_tokens, hyp_tokens)\n",
        "\n",
        "    # Compute the TER score as the edit distance divided by the length of the reference translation\n",
        "    ter_score = edit_dis / len(ref_tokens)\n",
        "\n",
        "    return ter_score\n",
        "\n",
        "# TER scores can be greater than 1\n",
        "def normalize_ter_scores(scores):\n",
        "  res = [1-min(1, score) for score in scores]\n",
        "  return res\n",
        "\n",
        "\n",
        "# BLEU scores function \n",
        "def get_bleu(cand, ref):\n",
        "    c_tokens = trivial_tokenize(cand.lower(),lang='hi')\n",
        "    r_tokens = trivial_tokenize(ref.lower(),lang='hi')\n",
        "\n",
        "    # considering 3-gram overlap\n",
        "    weights=(1./3., 1./3., 1./3.)\n",
        "    bl_sc = sentence_bleu([r_tokens], c_tokens, weights=weights)\n",
        "    return bl_sc\n",
        "\n",
        "# Get Function for Meteor Score\n",
        "def get_meteor(ref, cand):\n",
        "    references = [ref.split(\" \")]\n",
        "    predictions = cand.split(\" \")\n",
        "    m_score = meteor_score(references = references, hypothesis=predictions, wordnet = pyiwn.IndoWordNet())\n",
        "    return m_score\n",
        "\n",
        "# function to get BERT Score\n",
        "# list of candidate and reference\n",
        "def get_bert(cand, ref):\n",
        "    bert_score = score(cand, ref, lang='hi')\n",
        "    return bert_score\n"
      ],
      "metadata": {
        "id": "fMnc4BpRLSCm",
        "colab": {
          "base_uri": "https://localhost:8080/"
        },
        "outputId": "c7a194d9-9d55-499d-df8f-cb7615f4a611"
      },
      "execution_count": 5,
      "outputs": [
        {
          "output_type": "stream",
          "name": "stdout",
          "text": [
            "[██████████████████████████████████████████████████]\n"
          ]
        }
      ]
    },
    {
      "cell_type": "markdown",
      "source": [
        "# Preparation of data"
      ],
      "metadata": {
        "id": "bd1QNB04H7xR"
      }
    },
    {
      "cell_type": "code",
      "source": [
        "import numpy as np\n",
        "from sklearn.model_selection import train_test_split\n",
        "import tensorflow as tf"
      ],
      "metadata": {
        "id": "z2eaY0VyMovb"
      },
      "execution_count": 6,
      "outputs": []
    },
    {
      "cell_type": "code",
      "source": [
        "data = read_list('ref_cand_pairs_en-hi_wmt-14')\n",
        "\n",
        "data = np.array(data)\n",
        "n = len(data)\n",
        "\n",
        "X = data[:,:2]\n",
        "\n",
        "Y = data[:,2].astype('float')"
      ],
      "metadata": {
        "id": "6Xaglea2Km91"
      },
      "execution_count": 7,
      "outputs": []
    },
    {
      "cell_type": "code",
      "source": [
        "X.shape"
      ],
      "metadata": {
        "id": "q93tTupIYo2p",
        "colab": {
          "base_uri": "https://localhost:8080/"
        },
        "outputId": "39403cd6-bf29-4cd0-bb29-867ce6de58c2"
      },
      "execution_count": 8,
      "outputs": [
        {
          "output_type": "execute_result",
          "data": {
            "text/plain": [
              "(8490, 2)"
            ]
          },
          "metadata": {},
          "execution_count": 8
        }
      ]
    },
    {
      "cell_type": "code",
      "source": [
        "X[10:15]"
      ],
      "metadata": {
        "id": "xGwTIii5YPUq",
        "colab": {
          "base_uri": "https://localhost:8080/"
        },
        "outputId": "cfb173c1-2b3b-4f3d-d923-e969804db62c"
      },
      "execution_count": 9,
      "outputs": [
        {
          "output_type": "execute_result",
          "data": {
            "text/plain": [
              "array([['हालांकि इस वर्ष ऐसी वस्तुओं पर महंगाई का ग्रहण लगा रहा, लेकिन लोगों ने फिर भी शुभ मुहुर्त पर खरीददारी करने में कंजूसी नहीं दिखाई।',\n",
              "        'हालांकि खड़ा था, फिर भी ये लोग नहीं दूँगा- है जबकि क्रय इस शुभ अवसर पर है ।'],\n",
              "       ['हालांकि इस वर्ष ऐसी वस्तुओं पर महंगाई का ग्रहण लगा रहा, लेकिन लोगों ने फिर भी शुभ मुहुर्त पर खरीददारी करने में कंजूसी नहीं दिखाई।',\n",
              "        'मुद्रास्फीति इन मदों त्रस्त था, लोग पैसा बन्द रखो इस शुभ अवसर पर खरीदते समय हो ही नहीं किया.'],\n",
              "       ['हालांकि इस वर्ष ऐसी वस्तुओं पर महंगाई का ग्रहण लगा रहा, लेकिन लोगों ने फिर भी शुभ मुहुर्त पर खरीददारी करने में कंजूसी नहीं दिखाई।',\n",
              "        'हालांकि स़्फीती तंग था, लोग इन मदों नहीं लग रहा था जबकि सब - पिनचिंग इस शुभ अवसर पर ।'],\n",
              "       ['हालांकि इस वर्ष ऐसी वस्तुओं पर महंगाई का ग्रहण लगा रहा, लेकिन लोगों ने फिर भी शुभ मुहुर्त पर खरीददारी करने में कंजूसी नहीं दिखाई।',\n",
              "        'हालांकि इन वस्तुओं को दुबारा किया था, लोगों को नहीं लग रहा था जबकि इस शुभ अवसर पर सकते हैं ।'],\n",
              "       ['हालांकि इस वर्ष ऐसी वस्तुओं पर महंगाई का ग्रहण लगा रहा, लेकिन लोगों ने फिर भी शुभ मुहुर्त पर खरीददारी करने में कंजूसी नहीं दिखाई।',\n",
              "        'हालांकि खड़ा था , फिर भी ये लोग नहीं लग pinching खरीद दूँगा - जबकि इस शुभ अवसर पर है .']],\n",
              "      dtype='<U226')"
            ]
          },
          "metadata": {},
          "execution_count": 9
        }
      ]
    },
    {
      "cell_type": "code",
      "source": [
        "X.dtype"
      ],
      "metadata": {
        "id": "k3ul7HWANGHj",
        "colab": {
          "base_uri": "https://localhost:8080/"
        },
        "outputId": "096a3b84-0795-4ac4-840f-039b3b9c115a"
      },
      "execution_count": null,
      "outputs": [
        {
          "output_type": "execute_result",
          "data": {
            "text/plain": [
              "dtype('<U226')"
            ]
          },
          "metadata": {},
          "execution_count": 10
        }
      ]
    },
    {
      "cell_type": "code",
      "source": [
        "Y[11]"
      ],
      "metadata": {
        "id": "A36A1xySNG2o",
        "colab": {
          "base_uri": "https://localhost:8080/"
        },
        "outputId": "87fb7e50-e4f8-450f-f74a-d493ed6ea01e"
      },
      "execution_count": 10,
      "outputs": [
        {
          "output_type": "execute_result",
          "data": {
            "text/plain": [
              "5.0"
            ]
          },
          "metadata": {},
          "execution_count": 10
        }
      ]
    },
    {
      "cell_type": "code",
      "source": [
        "y = np.zeros((n, 5))\n",
        "for i in range(n):\n",
        "  y[i][int(Y[i])-1] = 1.0"
      ],
      "metadata": {
        "id": "f_uNDjpscT4L"
      },
      "execution_count": 11,
      "outputs": []
    },
    {
      "cell_type": "code",
      "source": [
        "y"
      ],
      "metadata": {
        "id": "HO0rr7TyIxps",
        "colab": {
          "base_uri": "https://localhost:8080/"
        },
        "outputId": "c276061d-4c57-49f8-ecce-73f2bbb703ac"
      },
      "execution_count": 12,
      "outputs": [
        {
          "output_type": "execute_result",
          "data": {
            "text/plain": [
              "array([[0., 0., 0., 1., 0.],\n",
              "       [0., 1., 0., 0., 0.],\n",
              "       [0., 0., 1., 0., 0.],\n",
              "       ...,\n",
              "       [0., 0., 0., 0., 1.],\n",
              "       [0., 0., 0., 1., 0.],\n",
              "       [0., 0., 0., 0., 1.]])"
            ]
          },
          "metadata": {},
          "execution_count": 12
        }
      ]
    },
    {
      "cell_type": "code",
      "source": [
        "X[:, 1]"
      ],
      "metadata": {
        "id": "VK311EfNNe02",
        "colab": {
          "base_uri": "https://localhost:8080/"
        },
        "outputId": "9503576c-e063-4fb0-c824-97dd7af52d86"
      },
      "execution_count": 13,
      "outputs": [
        {
          "output_type": "execute_result",
          "data": {
            "text/plain": [
              "array(['लोगों की मीटिंग में आभूषणों की दुकानों में शिमला ।',\n",
              "       'लोग शिमला में आभूषण की दुकानों पर भीड़.',\n",
              "       'आभूषणों की दुकानों में लोगों की भीड शिमला ।', ...,\n",
              "       'बंद करो और नाचना रणनीति नागरिक अधिकारों की वकालत की एक संख्या से आलोचना की गई है.',\n",
              "       'और-और- स्वीकार किया गया है द्वारा आलोचना की एक संख्या में नागरिक अधिकार है ।',\n",
              "       'बंद करो और नाचना रणनीति नागरिक अधिकारों की वकालत की एक संख्या के द्वारा आलोचना की गई है।'],\n",
              "      dtype='<U226')"
            ]
          },
          "metadata": {},
          "execution_count": 13
        }
      ]
    },
    {
      "cell_type": "code",
      "source": [
        "P, R, F = get_bert(list(X[:, 1]), list(X[:, 0]))\n",
        "bleu_scores = [get_bleu(can, ref) for ref, can in X]\n",
        "ter_scores = [get_ter(ref, can) for ref, can in X]\n",
        "normalized_ter = normalize_ter_scores(ter_scores)\n",
        "# m_scores = [get_meteor(ref, cand) for ref, cand in X]"
      ],
      "metadata": {
        "id": "lDyx-UF_MeL9",
        "colab": {
          "base_uri": "https://localhost:8080/",
          "height": 393,
          "referenced_widgets": [
            "c29e8e6109eb4ded84fa4d1cb73ca2b5",
            "4f84d67992544e288ac9839b5ab87cad",
            "97e0e9969fab4c988f70d6725364dab5",
            "6fdb7b9d4dd142fdbaf9fe24fa21021a",
            "6c348743aba64efba3abb9c7b8d0ebd8",
            "05ca79cf376249fca848c187ecb7c714",
            "9028ed92ebab4770a7030fc2b329c38a",
            "5a8cb0c4162944d3bb7f9cc862a06c37",
            "4df35af6a0524910b77247fbeed4c861",
            "7adc464af14e4105a9a3dec0965e45ec",
            "377448a79a6542b28d4a6298470531f4",
            "1779af1544f74db29f690a42c3bd72de",
            "7b393c572f764db38fe82fa03f540cf9",
            "5ae64717ce724f78b67ebb774c44a3c3",
            "ecffee4a75e34ef487d0d9628091a331",
            "dc33f55891f14a21bf16893dc48e5e75",
            "72bba4f62ec44cf1aa6df933f1d8fdd9",
            "51491ee60d754d8eafa85dffe75442f1",
            "9f080923922540b09732f2a042a8bc64",
            "f4c7ba0d3d324aa4b3c8ccfb4395aec3",
            "1b67706eda9b4f3c8af4e8001089c9fb",
            "b30db25e08f645fa9bcf4583789e0da5",
            "e3066c9c95244ca1874a57e06f11de43",
            "c72d000ec5ca421ea618859672bc896f",
            "f15911dd6b6f4305adf2cfbd6182fb56",
            "9d8d18bc344c424484ce7cd361013047",
            "edc9fa7030cc428ba4baf5d5f7444251",
            "46d8d6f6587c40cf97aa299198512053",
            "e61b5e3f7ad94cffb397012614bc569b",
            "03b140fade914b14b1aecac54b55ad1c",
            "c56bf3aa2d874d8e80969925963c2462",
            "11e97227d1fb4783814fc05b23c6b810",
            "a62d8a0c78b14bd89d1db2fe53e0d9d0"
          ]
        },
        "outputId": "c0ea8cc4-7e9d-4b29-a039-228854f4afef"
      },
      "execution_count": null,
      "outputs": [
        {
          "output_type": "display_data",
          "data": {
            "text/plain": [
              "Downloading (…)lve/main/config.json:   0%|          | 0.00/507 [00:00<?, ?B/s]"
            ],
            "application/vnd.jupyter.widget-view+json": {
              "version_major": 2,
              "version_minor": 0,
              "model_id": "c29e8e6109eb4ded84fa4d1cb73ca2b5"
            }
          },
          "metadata": {}
        },
        {
          "output_type": "display_data",
          "data": {
            "text/plain": [
              "Downloading (…)ve/main/spiece.model:   0%|          | 0.00/5.65M [00:00<?, ?B/s]"
            ],
            "application/vnd.jupyter.widget-view+json": {
              "version_major": 2,
              "version_minor": 0,
              "model_id": "1779af1544f74db29f690a42c3bd72de"
            }
          },
          "metadata": {}
        },
        {
          "output_type": "display_data",
          "data": {
            "text/plain": [
              "Downloading pytorch_model.bin:   0%|          | 0.00/135M [00:00<?, ?B/s]"
            ],
            "application/vnd.jupyter.widget-view+json": {
              "version_major": 2,
              "version_minor": 0,
              "model_id": "e3066c9c95244ca1874a57e06f11de43"
            }
          },
          "metadata": {}
        },
        {
          "output_type": "stream",
          "name": "stderr",
          "text": [
            "Some weights of the model checkpoint at ai4bharat/indic-bert were not used when initializing AlbertModel: ['predictions.bias', 'predictions.dense.bias', 'sop_classifier.classifier.bias', 'sop_classifier.classifier.weight', 'predictions.decoder.bias', 'predictions.dense.weight', 'predictions.LayerNorm.weight', 'predictions.decoder.weight', 'predictions.LayerNorm.bias']\n",
            "- This IS expected if you are initializing AlbertModel from the checkpoint of a model trained on another task or with another architecture (e.g. initializing a BertForSequenceClassification model from a BertForPreTraining model).\n",
            "- This IS NOT expected if you are initializing AlbertModel from the checkpoint of a model that you expect to be exactly identical (initializing a BertForSequenceClassification model from a BertForSequenceClassification model).\n",
            "/usr/local/lib/python3.9/dist-packages/nltk/translate/bleu_score.py:552: UserWarning: \n",
            "The hypothesis contains 0 counts of 3-gram overlaps.\n",
            "Therefore the BLEU score evaluates to 0, independently of\n",
            "how many N-gram overlaps of lower order it contains.\n",
            "Consider using lower n-gram order or use SmoothingFunction()\n",
            "  warnings.warn(_msg)\n",
            "/usr/local/lib/python3.9/dist-packages/nltk/translate/bleu_score.py:552: UserWarning: \n",
            "The hypothesis contains 0 counts of 2-gram overlaps.\n",
            "Therefore the BLEU score evaluates to 0, independently of\n",
            "how many N-gram overlaps of lower order it contains.\n",
            "Consider using lower n-gram order or use SmoothingFunction()\n",
            "  warnings.warn(_msg)\n"
          ]
        }
      ]
    },
    {
      "cell_type": "code",
      "source": [
        "len(X)"
      ],
      "metadata": {
        "id": "KBuw1XdyUEzW",
        "colab": {
          "base_uri": "https://localhost:8080/"
        },
        "outputId": "df906ba8-b7f9-4c2d-99fd-9be6954bf55d"
      },
      "execution_count": null,
      "outputs": [
        {
          "output_type": "execute_result",
          "data": {
            "text/plain": [
              "8490"
            ]
          },
          "metadata": {},
          "execution_count": 19
        }
      ]
    },
    {
      "cell_type": "code",
      "source": [
        "m_scores = [get_meteor(ref, cand) for ref, cand in X]"
      ],
      "metadata": {
        "id": "1qbRYuviTcuC",
        "colab": {
          "base_uri": "https://localhost:8080/",
          "height": 397
        },
        "outputId": "f227ce1a-74ea-4724-a2d2-c245be4ed5e7"
      },
      "execution_count": null,
      "outputs": [
        {
          "output_type": "stream",
          "name": "stderr",
          "text": [
            "Exception ignored in: <function _xla_gc_callback at 0x7f21061a4af0>\n",
            "Traceback (most recent call last):\n",
            "  File \"/usr/local/lib/python3.9/dist-packages/jax/_src/lib/__init__.py\", line 97, in _xla_gc_callback\n",
            "    def _xla_gc_callback(*args):\n",
            "KeyboardInterrupt: \n"
          ]
        },
        {
          "output_type": "error",
          "ename": "KeyboardInterrupt",
          "evalue": "ignored",
          "traceback": [
            "\u001b[0;31m---------------------------------------------------------------------------\u001b[0m",
            "\u001b[0;31mKeyboardInterrupt\u001b[0m                         Traceback (most recent call last)",
            "\u001b[0;32m<ipython-input-20-657b673d8043>\u001b[0m in \u001b[0;36m<cell line: 1>\u001b[0;34m()\u001b[0m\n\u001b[0;32m----> 1\u001b[0;31m \u001b[0mm_scores\u001b[0m \u001b[0;34m=\u001b[0m \u001b[0;34m[\u001b[0m\u001b[0mget_meteor\u001b[0m\u001b[0;34m(\u001b[0m\u001b[0mref\u001b[0m\u001b[0;34m,\u001b[0m \u001b[0mcand\u001b[0m\u001b[0;34m)\u001b[0m \u001b[0;32mfor\u001b[0m \u001b[0mref\u001b[0m\u001b[0;34m,\u001b[0m \u001b[0mcand\u001b[0m \u001b[0;32min\u001b[0m \u001b[0mX\u001b[0m\u001b[0;34m]\u001b[0m\u001b[0;34m\u001b[0m\u001b[0;34m\u001b[0m\u001b[0m\n\u001b[0m",
            "\u001b[0;32m<ipython-input-20-657b673d8043>\u001b[0m in \u001b[0;36m<listcomp>\u001b[0;34m(.0)\u001b[0m\n\u001b[0;32m----> 1\u001b[0;31m \u001b[0mm_scores\u001b[0m \u001b[0;34m=\u001b[0m \u001b[0;34m[\u001b[0m\u001b[0mget_meteor\u001b[0m\u001b[0;34m(\u001b[0m\u001b[0mref\u001b[0m\u001b[0;34m,\u001b[0m \u001b[0mcand\u001b[0m\u001b[0;34m)\u001b[0m \u001b[0;32mfor\u001b[0m \u001b[0mref\u001b[0m\u001b[0;34m,\u001b[0m \u001b[0mcand\u001b[0m \u001b[0;32min\u001b[0m \u001b[0mX\u001b[0m\u001b[0;34m]\u001b[0m\u001b[0;34m\u001b[0m\u001b[0;34m\u001b[0m\u001b[0m\n\u001b[0m",
            "\u001b[0;32m<ipython-input-5-5badc1ea0925>\u001b[0m in \u001b[0;36mget_meteor\u001b[0;34m(ref, cand)\u001b[0m\n\u001b[1;32m    462\u001b[0m     \u001b[0mreferences\u001b[0m \u001b[0;34m=\u001b[0m \u001b[0;34m[\u001b[0m\u001b[0mref\u001b[0m\u001b[0;34m.\u001b[0m\u001b[0msplit\u001b[0m\u001b[0;34m(\u001b[0m\u001b[0;34m\" \"\u001b[0m\u001b[0;34m)\u001b[0m\u001b[0;34m]\u001b[0m\u001b[0;34m\u001b[0m\u001b[0;34m\u001b[0m\u001b[0m\n\u001b[1;32m    463\u001b[0m     \u001b[0mpredictions\u001b[0m \u001b[0;34m=\u001b[0m \u001b[0mcand\u001b[0m\u001b[0;34m.\u001b[0m\u001b[0msplit\u001b[0m\u001b[0;34m(\u001b[0m\u001b[0;34m\" \"\u001b[0m\u001b[0;34m)\u001b[0m\u001b[0;34m\u001b[0m\u001b[0;34m\u001b[0m\u001b[0m\n\u001b[0;32m--> 464\u001b[0;31m     \u001b[0mm_score\u001b[0m \u001b[0;34m=\u001b[0m \u001b[0mmeteor_score\u001b[0m\u001b[0;34m(\u001b[0m\u001b[0mreferences\u001b[0m \u001b[0;34m=\u001b[0m \u001b[0mreferences\u001b[0m\u001b[0;34m,\u001b[0m \u001b[0mhypothesis\u001b[0m\u001b[0;34m=\u001b[0m\u001b[0mpredictions\u001b[0m\u001b[0;34m,\u001b[0m \u001b[0mwordnet\u001b[0m \u001b[0;34m=\u001b[0m \u001b[0mpyiwn\u001b[0m\u001b[0;34m.\u001b[0m\u001b[0mIndoWordNet\u001b[0m\u001b[0;34m(\u001b[0m\u001b[0;34m)\u001b[0m\u001b[0;34m)\u001b[0m\u001b[0;34m\u001b[0m\u001b[0;34m\u001b[0m\u001b[0m\n\u001b[0m\u001b[1;32m    465\u001b[0m     \u001b[0;32mreturn\u001b[0m \u001b[0mm_score\u001b[0m\u001b[0;34m\u001b[0m\u001b[0;34m\u001b[0m\u001b[0m\n\u001b[1;32m    466\u001b[0m \u001b[0;34m\u001b[0m\u001b[0m\n",
            "\u001b[0;32m/usr/local/lib/python3.9/dist-packages/pyiwn/iwn.py\u001b[0m in \u001b[0;36m__init__\u001b[0;34m(self, lang)\u001b[0m\n\u001b[1;32m     43\u001b[0m         \u001b[0mlogger\u001b[0m\u001b[0;34m.\u001b[0m\u001b[0minfo\u001b[0m\u001b[0;34m(\u001b[0m\u001b[0;34mf'Loading {lang.value} language synsets...'\u001b[0m\u001b[0;34m)\u001b[0m\u001b[0;34m\u001b[0m\u001b[0;34m\u001b[0m\u001b[0m\n\u001b[1;32m     44\u001b[0m         \u001b[0mself\u001b[0m\u001b[0;34m.\u001b[0m\u001b[0m_synset_idx_map\u001b[0m \u001b[0;34m=\u001b[0m \u001b[0;34m{\u001b[0m\u001b[0;34m}\u001b[0m\u001b[0;34m\u001b[0m\u001b[0;34m\u001b[0m\u001b[0m\n\u001b[0;32m---> 45\u001b[0;31m         \u001b[0mself\u001b[0m\u001b[0;34m.\u001b[0m\u001b[0m_synset_df\u001b[0m \u001b[0;34m=\u001b[0m \u001b[0mself\u001b[0m\u001b[0;34m.\u001b[0m\u001b[0m_load_synset_file\u001b[0m\u001b[0;34m(\u001b[0m\u001b[0mlang\u001b[0m\u001b[0;34m.\u001b[0m\u001b[0mvalue\u001b[0m\u001b[0;34m)\u001b[0m\u001b[0;34m\u001b[0m\u001b[0;34m\u001b[0m\u001b[0m\n\u001b[0m\u001b[1;32m     46\u001b[0m         \u001b[0mself\u001b[0m\u001b[0;34m.\u001b[0m\u001b[0m_synset_relations_dict\u001b[0m \u001b[0;34m=\u001b[0m \u001b[0mself\u001b[0m\u001b[0;34m.\u001b[0m\u001b[0m_load_synset_relations\u001b[0m\u001b[0;34m(\u001b[0m\u001b[0;34m)\u001b[0m\u001b[0;34m\u001b[0m\u001b[0;34m\u001b[0m\u001b[0m\n\u001b[1;32m     47\u001b[0m \u001b[0;34m\u001b[0m\u001b[0m\n",
            "\u001b[0;32m/usr/local/lib/python3.9/dist-packages/pyiwn/iwn.py\u001b[0m in \u001b[0;36m_load_synset_file\u001b[0;34m(self, lang)\u001b[0m\n\u001b[1;32m     50\u001b[0m             *[constants.IWN_DATA_PATH, 'synsets', 'all.{}'.format(lang)])\n\u001b[1;32m     51\u001b[0m         \u001b[0mf\u001b[0m \u001b[0;34m=\u001b[0m \u001b[0mopen\u001b[0m\u001b[0;34m(\u001b[0m\u001b[0mfilename\u001b[0m\u001b[0;34m,\u001b[0m \u001b[0mencoding\u001b[0m\u001b[0;34m=\u001b[0m\u001b[0;34m'utf8'\u001b[0m\u001b[0;34m)\u001b[0m\u001b[0;34m\u001b[0m\u001b[0;34m\u001b[0m\u001b[0m\n\u001b[0;32m---> 52\u001b[0;31m         synsets = list(\n\u001b[0m\u001b[1;32m     53\u001b[0m             map(lambda line: self._load_synset(line), f.readlines()))\n\u001b[1;32m     54\u001b[0m         synset_df = pd.DataFrame(\n",
            "\u001b[0;32m/usr/local/lib/python3.9/dist-packages/pyiwn/iwn.py\u001b[0m in \u001b[0;36m<lambda>\u001b[0;34m(line)\u001b[0m\n\u001b[1;32m     51\u001b[0m         \u001b[0mf\u001b[0m \u001b[0;34m=\u001b[0m \u001b[0mopen\u001b[0m\u001b[0;34m(\u001b[0m\u001b[0mfilename\u001b[0m\u001b[0;34m,\u001b[0m \u001b[0mencoding\u001b[0m\u001b[0;34m=\u001b[0m\u001b[0;34m'utf8'\u001b[0m\u001b[0;34m)\u001b[0m\u001b[0;34m\u001b[0m\u001b[0;34m\u001b[0m\u001b[0m\n\u001b[1;32m     52\u001b[0m         synsets = list(\n\u001b[0;32m---> 53\u001b[0;31m             map(lambda line: self._load_synset(line), f.readlines()))\n\u001b[0m\u001b[1;32m     54\u001b[0m         synset_df = pd.DataFrame(\n\u001b[1;32m     55\u001b[0m             synsets, columns=['synset_id', 'synsets', 'pos'])\n",
            "\u001b[0;32m/usr/local/lib/python3.9/dist-packages/pyiwn/iwn.py\u001b[0m in \u001b[0;36m_load_synset\u001b[0;34m(self, synset_string)\u001b[0m\n\u001b[1;32m    132\u001b[0m         \u001b[0;32melse\u001b[0m\u001b[0;34m:\u001b[0m\u001b[0;34m\u001b[0m\u001b[0;34m\u001b[0m\u001b[0m\n\u001b[1;32m    133\u001b[0m             \u001b[0;32mreturn\u001b[0m \u001b[0;32mNone\u001b[0m\u001b[0;34m,\u001b[0m \u001b[0;32mNone\u001b[0m\u001b[0;34m,\u001b[0m \u001b[0;32mNone\u001b[0m\u001b[0;34m\u001b[0m\u001b[0;34m\u001b[0m\u001b[0m\n\u001b[0;32m--> 134\u001b[0;31m         synset = Synset(synset_id, head_word,\n\u001b[0m\u001b[1;32m    135\u001b[0m                         synset_words, pos, gloss, examples)\n\u001b[1;32m    136\u001b[0m \u001b[0;34m\u001b[0m\u001b[0m\n",
            "\u001b[0;32m/usr/local/lib/python3.9/dist-packages/pyiwn/iwn.py\u001b[0m in \u001b[0;36m__init__\u001b[0;34m(self, synset_id, head_word, lemma_names, pos, gloss, examples)\u001b[0m\n\u001b[1;32m    183\u001b[0m \u001b[0;34m\u001b[0m\u001b[0m\n\u001b[1;32m    184\u001b[0m \u001b[0;32mclass\u001b[0m \u001b[0mSynset\u001b[0m\u001b[0;34m:\u001b[0m\u001b[0;34m\u001b[0m\u001b[0;34m\u001b[0m\u001b[0m\n\u001b[0;32m--> 185\u001b[0;31m     \u001b[0;32mdef\u001b[0m \u001b[0m__init__\u001b[0m\u001b[0;34m(\u001b[0m\u001b[0mself\u001b[0m\u001b[0;34m,\u001b[0m \u001b[0msynset_id\u001b[0m\u001b[0;34m,\u001b[0m \u001b[0mhead_word\u001b[0m\u001b[0;34m,\u001b[0m \u001b[0mlemma_names\u001b[0m\u001b[0;34m,\u001b[0m \u001b[0mpos\u001b[0m\u001b[0;34m,\u001b[0m \u001b[0mgloss\u001b[0m\u001b[0;34m,\u001b[0m \u001b[0mexamples\u001b[0m\u001b[0;34m)\u001b[0m\u001b[0;34m:\u001b[0m\u001b[0;34m\u001b[0m\u001b[0;34m\u001b[0m\u001b[0m\n\u001b[0m\u001b[1;32m    186\u001b[0m         \u001b[0mself\u001b[0m\u001b[0;34m.\u001b[0m\u001b[0m_synset_id\u001b[0m \u001b[0;34m=\u001b[0m \u001b[0msynset_id\u001b[0m\u001b[0;34m\u001b[0m\u001b[0;34m\u001b[0m\u001b[0m\n\u001b[1;32m    187\u001b[0m         \u001b[0mself\u001b[0m\u001b[0;34m.\u001b[0m\u001b[0m_head_word\u001b[0m \u001b[0;34m=\u001b[0m \u001b[0mhead_word\u001b[0m\u001b[0;34m\u001b[0m\u001b[0;34m\u001b[0m\u001b[0m\n",
            "\u001b[0;31mKeyboardInterrupt\u001b[0m: "
          ]
        }
      ]
    },
    {
      "cell_type": "code",
      "source": [
        "print(len(m_scores))"
      ],
      "metadata": {
        "id": "aMRXrERZTUXw",
        "colab": {
          "base_uri": "https://localhost:8080/",
          "height": 165
        },
        "outputId": "18abdab8-30e5-4dbd-954b-875d5d542d48"
      },
      "execution_count": null,
      "outputs": [
        {
          "output_type": "error",
          "ename": "NameError",
          "evalue": "ignored",
          "traceback": [
            "\u001b[0;31m---------------------------------------------------------------------------\u001b[0m",
            "\u001b[0;31mNameError\u001b[0m                                 Traceback (most recent call last)",
            "\u001b[0;32m<ipython-input-21-2cfc88abfb17>\u001b[0m in \u001b[0;36m<cell line: 1>\u001b[0;34m()\u001b[0m\n\u001b[0;32m----> 1\u001b[0;31m \u001b[0mprint\u001b[0m\u001b[0;34m(\u001b[0m\u001b[0mlen\u001b[0m\u001b[0;34m(\u001b[0m\u001b[0mm_scores\u001b[0m\u001b[0;34m)\u001b[0m\u001b[0;34m)\u001b[0m\u001b[0;34m\u001b[0m\u001b[0;34m\u001b[0m\u001b[0m\n\u001b[0m",
            "\u001b[0;31mNameError\u001b[0m: name 'm_scores' is not defined"
          ]
        }
      ]
    },
    {
      "cell_type": "code",
      "source": [
        "write_list(m_scores, 'm_scores_8490_WMT14')"
      ],
      "metadata": {
        "id": "RzKuy-iIVSLU",
        "colab": {
          "base_uri": "https://localhost:8080/",
          "height": 165
        },
        "outputId": "04841d93-09f5-4bb8-a8cb-c7d8d9875476"
      },
      "execution_count": null,
      "outputs": [
        {
          "output_type": "error",
          "ename": "NameError",
          "evalue": "ignored",
          "traceback": [
            "\u001b[0;31m---------------------------------------------------------------------------\u001b[0m",
            "\u001b[0;31mNameError\u001b[0m                                 Traceback (most recent call last)",
            "\u001b[0;32m<ipython-input-22-d5cc667709c6>\u001b[0m in \u001b[0;36m<cell line: 1>\u001b[0;34m()\u001b[0m\n\u001b[0;32m----> 1\u001b[0;31m \u001b[0mwrite_list\u001b[0m\u001b[0;34m(\u001b[0m\u001b[0mm_scores\u001b[0m\u001b[0;34m,\u001b[0m \u001b[0;34m'm_scores_8490_WMT14'\u001b[0m\u001b[0;34m)\u001b[0m\u001b[0;34m\u001b[0m\u001b[0;34m\u001b[0m\u001b[0m\n\u001b[0m",
            "\u001b[0;31mNameError\u001b[0m: name 'm_scores' is not defined"
          ]
        }
      ]
    },
    {
      "cell_type": "code",
      "source": [
        "write_list(bleu_scores, 'bleu_scores_8490_WMT14')"
      ],
      "metadata": {
        "id": "qCCdY2Y5GKlf"
      },
      "execution_count": null,
      "outputs": []
    },
    {
      "cell_type": "code",
      "source": [
        "write_list(ter_scores, 'ter_scores_8490_WMT14')"
      ],
      "metadata": {
        "id": "87fXsBskGKop"
      },
      "execution_count": null,
      "outputs": []
    },
    {
      "cell_type": "code",
      "source": [
        "write_list(normalized_ter, 'normalized_ter_scores_8490_WMT14')"
      ],
      "metadata": {
        "id": "Px1eEpHXGKsp"
      },
      "execution_count": null,
      "outputs": []
    },
    {
      "cell_type": "code",
      "source": [
        "write_list(P, 'precision_bert_scores_8490_WMT14')"
      ],
      "metadata": {
        "id": "_kGujG4kGjyk"
      },
      "execution_count": null,
      "outputs": []
    },
    {
      "cell_type": "code",
      "source": [
        "write_list(R, 'recall_bert_scores_8490_WMT14')"
      ],
      "metadata": {
        "id": "dodDGjo5Gr9D"
      },
      "execution_count": null,
      "outputs": []
    },
    {
      "cell_type": "code",
      "source": [
        "write_list(F, 'F_bert_scores_8490_WMT14')"
      ],
      "metadata": {
        "id": "sHXXyjoLGwSX"
      },
      "execution_count": null,
      "outputs": []
    },
    {
      "cell_type": "code",
      "source": [
        "obj = read_list('m_scores_8490_WMT14')\n",
        "obj"
      ],
      "metadata": {
        "id": "Xmg8hfCwFluU",
        "colab": {
          "base_uri": "https://localhost:8080/"
        },
        "outputId": "5ff0723a-3d8b-4d17-9dd1-e2cb14d4c3d2"
      },
      "execution_count": 14,
      "outputs": [
        {
          "output_type": "execute_result",
          "data": {
            "text/plain": [
              "[0.5402650356778795,\n",
              " 0.2949766355140187,\n",
              " 0.3444444444444445,\n",
              " 0.2293577981651376,\n",
              " 0.5402650356778795,\n",
              " 0.23006134969325154,\n",
              " 0.15394912985274434,\n",
              " 0.177376171352075,\n",
              " 0.18899700598802396,\n",
              " 0.2272727272727273,\n",
              " 0.21894290123456794,\n",
              " 0.0819672131147541,\n",
              " 0.10204081632653061,\n",
              " 0.16260162601626016,\n",
              " 0.21627286585365854,\n",
              " 0.8629377676996723,\n",
              " 0.12658227848101264,\n",
              " 0.4746835443037974,\n",
              " 0.5575,\n",
              " 0.49609375,\n",
              " 0.6147540983606558,\n",
              " 0.5009920634920636,\n",
              " 0.625,\n",
              " 0.5009920634920636,\n",
              " 0.8066666666666668,\n",
              " 0.5241371268656717,\n",
              " 0.2883720930232559,\n",
              " 0.5133198317494937,\n",
              " 0.5945849236641223,\n",
              " 0.5725190839694658,\n",
              " 0.29666879523201367,\n",
              " 0.3763713080168776,\n",
              " 0.2953955386001165,\n",
              " 0.4560771214252226,\n",
              " 0.4264741779126129,\n",
              " 0.33990653389238296,\n",
              " 0.29604434366339133,\n",
              " 0.33990653389238296,\n",
              " 0.37469709956297687,\n",
              " 0.32529422812069614,\n",
              " 0.34260670731707316,\n",
              " 0.2977594339622641,\n",
              " 0.372168284789644,\n",
              " 0.4541537738435628,\n",
              " 0.15471813725490197,\n",
              " 0.3397260273972602,\n",
              " 0.4732510288065843,\n",
              " 0.34766355140186916,\n",
              " 0.371516432827215,\n",
              " 0.35007610350076107,\n",
              " 0.5612244897959183,\n",
              " 0.7425742574257427,\n",
              " 0.5010893246187365,\n",
              " 0.5010893246187365,\n",
              " 0.6284097797534854,\n",
              " 0.594555177442878,\n",
              " 0.5061728395061729,\n",
              " 0.4437869822485207,\n",
              " 0.4437869822485207,\n",
              " 0.6130684838818811,\n",
              " 0.35396825396825404,\n",
              " 0.2587090163934426,\n",
              " 0.20444444444444443,\n",
              " 0.5991586538461539,\n",
              " 0.39032258064516134,\n",
              " 0.40031397174254313,\n",
              " 0.6510416666666667,\n",
              " 0.5274612219056665,\n",
              " 0.49460827464788737,\n",
              " 0.5244755244755245,\n",
              " 0.7352941176470589,\n",
              " 0.7211538461538461,\n",
              " 0.9490196078431373,\n",
              " 0.49145299145299143,\n",
              " 0.49145299145299143,\n",
              " 0.34128440366972473,\n",
              " 0.18518518518518517,\n",
              " 0.582287961055982,\n",
              " 0.17857142857142858,\n",
              " 0.14018691588785046,\n",
              " 0.174378453038674,\n",
              " 0.3216005503324926,\n",
              " 0.1753472222222222,\n",
              " 0.174378453038674,\n",
              " 0.11173184357541899,\n",
              " 0.5540372670807454,\n",
              " 0.5048095129894722,\n",
              " 0.4646464646464647,\n",
              " 0.3560126582278481,\n",
              " 0.3893827469638162,\n",
              " 0.3585390946502058,\n",
              " 0.4746835443037974,\n",
              " 0.4726890756302521,\n",
              " 0.45800965160075313,\n",
              " 0.4726890756302521,\n",
              " 0.40018143207636636,\n",
              " 0.6074123603018435,\n",
              " 0.40583770673468955,\n",
              " 0.5154639175257733,\n",
              " 0.26476868327402137,\n",
              " 0.3650793650793651,\n",
              " 0.17985611510791366,\n",
              " 0.145985401459854,\n",
              " 0.18248175182481755,\n",
              " 0.14705882352941174,\n",
              " 0.41666666666666663,\n",
              " 0.5318681318681319,\n",
              " 0.33938172043010756,\n",
              " 0.33938172043010756,\n",
              " 0.618131868131868,\n",
              " 0.23148148148148148,\n",
              " 0.4417256289308176,\n",
              " 0.5378086419753086,\n",
              " 0.31746031746031744,\n",
              " 0.47619047619047616,\n",
              " 0.3933566433566433,\n",
              " 0.22544642857142855,\n",
              " 0.31631205673758866,\n",
              " 0.2981740481740481,\n",
              " 0.22544642857142855,\n",
              " 0.3565695941297868,\n",
              " 0.3177966101694915,\n",
              " 0.3990589488636364,\n",
              " 0.33441961514587215,\n",
              " 0.44508928571428574,\n",
              " 0.25555555555555554,\n",
              " 0.049504950495049514,\n",
              " 0.10101010101010102,\n",
              " 0.049504950495049514,\n",
              " 0.05050505050505051,\n",
              " 0.11278195488721804,\n",
              " 0.1388888888888889,\n",
              " 0.0746268656716418,\n",
              " 0.18790849673202614,\n",
              " 0.14204545454545456,\n",
              " 0.34094356796116504,\n",
              " 0.5122761979989466,\n",
              " 0.5886165116934348,\n",
              " 0.6020642201834863,\n",
              " 0.5122761979989466,\n",
              " 0.32266666666666666,\n",
              " 0.350076103500761,\n",
              " 0.37910528449790515,\n",
              " 0.13513513513513511,\n",
              " 0.3453453453453454,\n",
              " 0.41471048513302033,\n",
              " 0.3599374021909233,\n",
              " 0.6816901408450705,\n",
              " 0.3599374021909233,\n",
              " 0.3599374021909233,\n",
              " 0.14705882352941174,\n",
              " 0.49460827464788737,\n",
              " 0.21582733812949637,\n",
              " 0.17605633802816903,\n",
              " 0.32318840579710145,\n",
              " 0.368595041322314,\n",
              " 0.46487603305785125,\n",
              " 0.4033333333333334,\n",
              " 0.42592592592592593,\n",
              " 0.37796610169491524,\n",
              " 0.4205651197604791,\n",
              " 0.5761904761904761,\n",
              " 0.6240161353797717,\n",
              " 0.6433945105820107,\n",
              " 0.40266405963583035,\n",
              " 0.15432098765432098,\n",
              " 0.15527950310559008,\n",
              " 0.15432098765432098,\n",
              " 0.45454545454545453,\n",
              " 0.33251953125,\n",
              " 0.46464646464646464,\n",
              " 0.3878260869565217,\n",
              " 0.46464646464646464,\n",
              " 0.37796610169491524,\n",
              " 0.5022321428571428,\n",
              " 0.22900763358778628,\n",
              " 0.23255813953488372,\n",
              " 0.22900763358778628,\n",
              " 0.23076923076923078,\n",
              " 0.29296875000000006,\n",
              " 0.1506024096385542,\n",
              " 0.346938775510204,\n",
              " 0.17964071856287422,\n",
              " 0.4121386855917794,\n",
              " 0.31481139053254437,\n",
              " 0.31761048790377083,\n",
              " 0.4180463576158941,\n",
              " 0.5560402684563758,\n",
              " 0.38163265306122446,\n",
              " 0.5560402684563758,\n",
              " 0.4963294704279976,\n",
              " 0.44623482155224153,\n",
              " 0.4963294704279976,\n",
              " 0.4908451668873567,\n",
              " 0.4963294704279976,\n",
              " 0.21315192743764175,\n",
              " 0.16681614349775786,\n",
              " 0.2555575801749271,\n",
              " 0.28461608858790155,\n",
              " 0.25218016722107345,\n",
              " 0.4934210526315789,\n",
              " 0.462478184991274,\n",
              " 0.5460141184573003,\n",
              " 0.4056437389770723,\n",
              " 0.42196897752453305,\n",
              " 0.40170498579178504,\n",
              " 0.3966836734693877,\n",
              " 0.18633540372670807,\n",
              " 0.4362383540372671,\n",
              " 0.3194444444444444,\n",
              " 0.15625,\n",
              " 0.24590163934426232,\n",
              " 0.25,\n",
              " 0.07936507936507937,\n",
              " 0.16129032258064518,\n",
              " 0.15151515151515152,\n",
              " 0.25813692480359146,\n",
              " 0.10000000000000002,\n",
              " 0.309436274509804,\n",
              " 0.05102040816326531,\n",
              " 0.28211284513805523,\n",
              " 0.14285714285714288,\n",
              " 0.14705882352941177,\n",
              " 0.24790051679586564,\n",
              " 0.19886363636363635,\n",
              " 0.7265625,\n",
              " 0.6465763875643715,\n",
              " 0.5555555555555556,\n",
              " 0.5452674897119341,\n",
              " 0.5208333333333333,\n",
              " 0.27158527954706296,\n",
              " 0.275089605734767,\n",
              " 0.45022035256410264,\n",
              " 0.16556291390728475,\n",
              " 0.16339869281045752,\n",
              " 0.42272060783791,\n",
              " 0.7218996062992128,\n",
              " 0.999968,\n",
              " 0.3610410429288762,\n",
              " 0.4241836734693878,\n",
              " 0.06097560975609756,\n",
              " 0.0617283950617284,\n",
              " 0.0617283950617284,\n",
              " 0.0617283950617284,\n",
              " 0.06097560975609756,\n",
              " 0.29761904761904767,\n",
              " 0.11811023622047245,\n",
              " 0.24278846153846156,\n",
              " 0.37812500000000004,\n",
              " 0.29296875000000006,\n",
              " 0.21551724137931036,\n",
              " 0.29040404040404044,\n",
              " 0.29040404040404044,\n",
              " 0.29040404040404044,\n",
              " 0.29040404040404044,\n",
              " 0.6724489795918367,\n",
              " 0.7500000000000001,\n",
              " 0.48888888888888893,\n",
              " 0.32206632653061223,\n",
              " 0.7500000000000001,\n",
              " 0.4046762589928057,\n",
              " 0.07352941176470587,\n",
              " 0.3457142857142857,\n",
              " 0.13686131386861314,\n",
              " 0.22871376811594205,\n",
              " 0.6147540983606558,\n",
              " 0.08771929824561403,\n",
              " 0.08064516129032259,\n",
              " 0.0,\n",
              " 0.0,\n",
              " 0.3920807453416149,\n",
              " 0.5575,\n",
              " 0.3234880450070324,\n",
              " 0.16129032258064516,\n",
              " 0.3367286392405063,\n",
              " 0.19483024691358025,\n",
              " 0.3917863441672965,\n",
              " 0.3823457093680845,\n",
              " 0.3515625,\n",
              " 0.43354552469135804,\n",
              " 0.260204081632653,\n",
              " 0.23553507424475165,\n",
              " 0.23772609819121443,\n",
              " 0.17383177570093458,\n",
              " 0.29224537037037035,\n",
              " 0.4358257127487896,\n",
              " 0.44307686578280947,\n",
              " 0.43203936378821994,\n",
              " 0.4146284151838163,\n",
              " 0.3279411764705883,\n",
              " 0.14204545454545453,\n",
              " 0.14204545454545453,\n",
              " 0.14204545454545453,\n",
              " 0.2855369335816263,\n",
              " 0.11363636363636365,\n",
              " 0.3746698943661972,\n",
              " 0.26956521739130435,\n",
              " 0.2676258992805755,\n",
              " 0.3377407300948549,\n",
              " 0.36691810344827586,\n",
              " 0.2320772058823529,\n",
              " 0.34503009837028337,\n",
              " 0.5126596715328466,\n",
              " 0.26956521739130435,\n",
              " 0.0,\n",
              " 0.37733529990167164,\n",
              " 0.34128440366972473,\n",
              " 0.33513513513513515,\n",
              " 0.3381818181818182,\n",
              " 0.22321428571428567,\n",
              " 0.4445213607594936,\n",
              " 0.4791666666666667,\n",
              " 0.5114197530864197,\n",
              " 0.4417256289308176,\n",
              " 0.4445213607594936,\n",
              " 0.5666909620991254,\n",
              " 0.4825458829365079,\n",
              " 0.46254399195575663,\n",
              " 0.6666666666666666,\n",
              " 0.5150317085467138,\n",
              " 0.3411111111111111,\n",
              " 0.29523809523809524,\n",
              " 0.5160112825618053,\n",
              " 0.46125329721251873,\n",
              " 0.25625,\n",
              " 0.5162738496071829,\n",
              " 0.4075307809074042,\n",
              " 0.8434038705638922,\n",
              " 0.695313301199877,\n",
              " 0.45560500105954654,\n",
              " 0.5902502744542183,\n",
              " 0.5469547193877551,\n",
              " 0.8788842975206611,\n",
              " 0.7806451612903225,\n",
              " 0.6577219122943295,\n",
              " 0.1388888888888889,\n",
              " 0.136986301369863,\n",
              " 0.1388888888888889,\n",
              " 0.1388888888888889,\n",
              " 0.06944444444444445,\n",
              " 0.5952380952380953,\n",
              " 0.2884615384615385,\n",
              " 0.2884615384615385,\n",
              " 0.07692307692307693,\n",
              " 0.41218637992831536,\n",
              " 0.35579311089515164,\n",
              " 0.5380116959064327,\n",
              " 0.5546810092264639,\n",
              " 0.6544133427353834,\n",
              " 0.6577138627471713,\n",
              " 0.6818181818181819,\n",
              " 0.39469026548672564,\n",
              " 0.4054545454545455,\n",
              " 0.3292035398230088,\n",
              " 0.5067567567567568,\n",
              " 0.6856995884773662,\n",
              " 0.4810495626822157,\n",
              " 0.4810495626822157,\n",
              " 0.7999999999999999,\n",
              " 0.6856995884773662,\n",
              " 0.6110634239389605,\n",
              " 0.4172413793103448,\n",
              " 0.4647418697005474,\n",
              " 0.3791130185979971,\n",
              " 0.48283261802575106,\n",
              " 0.267478813559322,\n",
              " 0.4067226890756303,\n",
              " 0.3747899159663866,\n",
              " 0.21657250470809788,\n",
              " 0.4033333333333334,\n",
              " 0.2950788158400615,\n",
              " 0.21398305084745764,\n",
              " 0.34866042077580545,\n",
              " 0.200859291084855,\n",
              " 0.156794425087108,\n",
              " 0.3717279297347764,\n",
              " 0.5058460884353742,\n",
              " 0.3717279297347764,\n",
              " 0.26976495726495725,\n",
              " 0.48055259835111774,\n",
              " 0.220125786163522,\n",
              " 0.220125786163522,\n",
              " 0.23249999999999998,\n",
              " 0.1875,\n",
              " 0.48681640625,\n",
              " 0.3234782608695652,\n",
              " 0.1293103448275862,\n",
              " 0.3263157894736843,\n",
              " 0.4444444444444444,\n",
              " 0.4891304347826087,\n",
              " 0.23910984848484848,\n",
              " 0.42293233082706766,\n",
              " 0.42938931297709926,\n",
              " 0.4326923076923077,\n",
              " 0.3404580152671756,\n",
              " 0.17799043062200956,\n",
              " 0.1435406698564593,\n",
              " 0.1435406698564593,\n",
              " 0.17714285714285716,\n",
              " 0.11961722488038277,\n",
              " 0.24792729591836735,\n",
              " 0.22626441881100265,\n",
              " 0.2236128826530612,\n",
              " 0.26885609567901236,\n",
              " 0.16853315766359245,\n",
              " 0.13605442176870747,\n",
              " 0.3978978978978979,\n",
              " 0.37500000000000006,\n",
              " 0.31761048790377083,\n",
              " 0.37751677852349,\n",
              " 0.3837943989071038,\n",
              " 0.5318681318681319,\n",
              " 0.47279880613213954,\n",
              " 0.2664399092970522,\n",
              " 0.2724953617810761,\n",
              " 0.6920590018185491,\n",
              " 0.5060506050605059,\n",
              " 0.309436274509804,\n",
              " 0.5830583058305829,\n",
              " 0.3188131313131313,\n",
              " 0.5858268599792479,\n",
              " 0.40024154589371985,\n",
              " 0.46315789473684205,\n",
              " 0.5040130324221234,\n",
              " 0.43089430894308944,\n",
              " 0.37166666666666676,\n",
              " 0.4295051353874883,\n",
              " 0.2630208333333333,\n",
              " 0.42592592592592593,\n",
              " 0.21842355175688513,\n",
              " 0.527810650887574,\n",
              " 0.3670058139534884,\n",
              " 0.2071005917159763,\n",
              " 0.492718267169365,\n",
              " 0.28718074055969695,\n",
              " 0.22384751773049644,\n",
              " 0.26595744680851063,\n",
              " 0.1056338028169014,\n",
              " 0.22384751773049644,\n",
              " 0.36249014972419225,\n",
              " 0.35094339622641507,\n",
              " 0.3650793650793651,\n",
              " 0.39265402843601893,\n",
              " 0.42545212101008417,\n",
              " 0.47107014848950335,\n",
              " 0.3891123757195186,\n",
              " 0.5575,\n",
              " 0.4033546325878593,\n",
              " 0.384735534256301,\n",
              " 0.4414720452937014,\n",
              " 0.996,\n",
              " 0.996,\n",
              " 0.996,\n",
              " 0.5010893246187365,\n",
              " 0.996,\n",
              " 0.473651892374679,\n",
              " 0.3767737408389209,\n",
              " 0.3231322088912073,\n",
              " 0.39978134110787167,\n",
              " 0.4705943152454781,\n",
              " 0.5873822975517891,\n",
              " 0.3510593220338983,\n",
              " 0.5627188113739219,\n",
              " 0.695660986521116,\n",
              " 0.4599586288416075,\n",
              " 0.11363636363636365,\n",
              " 0.48478260869565226,\n",
              " 0.21978021978021975,\n",
              " 0.5555555555555555,\n",
              " 0.3546348314606741,\n",
              " 0.3599374021909233,\n",
              " 0.5166666666666667,\n",
              " 0.6027027027027028,\n",
              " 0.4508928571428571,\n",
              " 0.4383680555555556,\n",
              " 0.5915212733394553,\n",
              " 0.414621448757995,\n",
              " 0.6511472717006315,\n",
              " 0.46211180124223605,\n",
              " 0.7315389924085576,\n",
              " 0.3896604938271605,\n",
              " 0.340909090909091,\n",
              " 0.42825838414634143,\n",
              " 0.47494283536585363,\n",
              " 0.42566287878787873,\n",
              " 0.616925669350309,\n",
              " 0.4440366972477064,\n",
              " 0.4523364485981308,\n",
              " 0.4440366972477064,\n",
              " 0.370911214953271,\n",
              " 0.40917431192660547,\n",
              " 0.09259259259259259,\n",
              " 0.40917431192660547,\n",
              " 0.33185840707964603,\n",
              " 0.4054545454545455,\n",
              " 0.4592033371874221,\n",
              " 0.4238834422657953,\n",
              " 0.47423070790816324,\n",
              " 0.37202380952380953,\n",
              " 0.4468952179218566,\n",
              " 0.18867924528301888,\n",
              " 0.28956422018348627,\n",
              " 0.35094339622641507,\n",
              " 0.3444444444444445,\n",
              " 0.5160550458715595,\n",
              " 0.09090909090909091,\n",
              " 0.2686746987951807,\n",
              " 0.2837821519140201,\n",
              " 0.03048780487804878,\n",
              " 0.22865853658536583,\n",
              " 0.5606312292358804,\n",
              " 0.41382206949217265,\n",
              " 0.46667358803986714,\n",
              " 0.37830508474576263,\n",
              " 0.41382206949217265,\n",
              " 0.22590361445783136,\n",
              " 0.33682634730538924,\n",
              " 0.33885542168674704,\n",
              " 0.12195121951219512,\n",
              " 0.38234570936808454,\n",
              " 0.3,\n",
              " 0.23745519713261654,\n",
              " 0.2028218694885362,\n",
              " 0.2504960317460318,\n",
              " 0.23555555555555555,\n",
              " 0.5405419543837623,\n",
              " 0.5891290451088114,\n",
              " 0.615853829150228,\n",
              " 0.5299243880558759,\n",
              " 0.6237350420175904,\n",
              " 0.10948905109489052,\n",
              " 0.07407407407407408,\n",
              " 0.03703703703703704,\n",
              " 0.07633587786259544,\n",
              " 0.03906250000000001,\n",
              " 0.19230769230769232,\n",
              " 0.48822605965463106,\n",
              " 0.29069767441860467,\n",
              " 0.22825150732127478,\n",
              " 0.2028218694885362,\n",
              " 0.6309874460236209,\n",
              " 0.6336056511938434,\n",
              " 0.6309874460236209,\n",
              " 0.6098816684100418,\n",
              " 0.6098816684100418,\n",
              " 0.26706586826347306,\n",
              " 0.22275449101796405,\n",
              " 0.26706586826347306,\n",
              " 0.19013554216867473,\n",
              " 0.18899700598802396,\n",
              " 0.5318681318681319,\n",
              " 0.33223684210526316,\n",
              " 0.27777777777777773,\n",
              " 0.10752688172043011,\n",
              " 0.16129032258064518,\n",
              " 0.49387755102040815,\n",
              " 0.4330097087378641,\n",
              " 0.3640776699029127,\n",
              " 0.4505050505050505,\n",
              " 0.15463917525773196,\n",
              " 0.17964071856287425,\n",
              " 0.17964071856287425,\n",
              " 0.1785714285714286,\n",
              " 0.19553072625698323,\n",
              " 0.2046783625730994,\n",
              " 0.1851851851851852,\n",
              " 0.12658227848101264,\n",
              " 0.18292682926829268,\n",
              " 0.2469135802469136,\n",
              " 0.24390243902439024,\n",
              " 0.5812089145422478,\n",
              " 0.5812089145422478,\n",
              " 0.4395091369881286,\n",
              " 0.31842105263157894,\n",
              " 0.3848946986201889,\n",
              " 0.12578616352201258,\n",
              " 0.2358490566037736,\n",
              " 0.09554140127388534,\n",
              " 0.06289308176100629,\n",
              " 0.06329113924050632,\n",
              " 0.26408450704225356,\n",
              " 0.07042253521126761,\n",
              " 0.07042253521126761,\n",
              " 0.0684931506849315,\n",
              " 0.0684931506849315,\n",
              " 0.5537974683544303,\n",
              " 0.5428621152603053,\n",
              " 0.48307930767243606,\n",
              " 0.8746220710506425,\n",
              " 0.5608974358974359,\n",
              " 0.33938172043010756,\n",
              " 0.7681094415788293,\n",
              " 0.41333333333333333,\n",
              " 0.824175824175824,\n",
              " 0.2222222222222222,\n",
              " 0.41633165829145724,\n",
              " 0.41633165829145724,\n",
              " 0.47581658291457285,\n",
              " 0.32043147208121825,\n",
              " 0.5771460854568702,\n",
              " 0.2922453703703704,\n",
              " 0.4962243797195253,\n",
              " 0.36831683168316837,\n",
              " 0.46562314246086783,\n",
              " 0.5010893246187365,\n",
              " 0.3901909722222222,\n",
              " 0.3142458100558659,\n",
              " 0.3526077097505669,\n",
              " 0.2032786885245902,\n",
              " 0.39457514044943814,\n",
              " 0.3155006858710563,\n",
              " 0.2032168799723279,\n",
              " 0.24030889600162583,\n",
              " 0.16736401673640164,\n",
              " 0.34235537190082643,\n",
              " 0.39453125,\n",
              " 0.4674796747967479,\n",
              " 0.4274978912660072,\n",
              " 0.16277423920736023,\n",
              " 0.2664930555555556,\n",
              " 0.18325123152709358,\n",
              " 0.34242368404889134,\n",
              " 0.29152915291529147,\n",
              " 0.2121337755666114,\n",
              " 0.18415841584158418,\n",
              " 0.12658227848101264,\n",
              " 0.1234567901234568,\n",
              " 0.234375,\n",
              " 0.35907859078590787,\n",
              " 0.125,\n",
              " 0.19531250000000003,\n",
              " 0.19531250000000003,\n",
              " 0.4464285714285715,\n",
              " 0.1968503937007874,\n",
              " 0.44999999999999996,\n",
              " 0.12711864406779658,\n",
              " 0.12605042016806722,\n",
              " 0.43684710351377026,\n",
              " 0.17094017094017094,\n",
              " 0.43684710351377026,\n",
              " 0.4310344827586207,\n",
              " 0.19230769230769232,\n",
              " 0.22288191499387433,\n",
              " 0.3048703551826382,\n",
              " 0.3390953252160746,\n",
              " 0.5472697306206263,\n",
              " 0.461526850069814,\n",
              " 0.2396537162162162,\n",
              " 0.2451756912442396,\n",
              " 0.31717585481026345,\n",
              " 0.4176030348638229,\n",
              " 0.30848255280073456,\n",
              " 0.3124872475005101,\n",
              " 0.20489495343296515,\n",
              " 0.18799690812720848,\n",
              " 0.07142857142857142,\n",
              " 0.14184397163120566,\n",
              " 0.0,\n",
              " 0.18253968253968256,\n",
              " 0.037037037037037035,\n",
              " 0.43679889703578373,\n",
              " 0.2920658059142024,\n",
              " 0.43679889703578373,\n",
              " 0.21644106034968977,\n",
              " 0.3140547263681593,\n",
              " 0.4999554406915605,\n",
              " 0.514624881291548,\n",
              " 0.6065099836726133,\n",
              " 0.44041316308522777,\n",
              " 0.4254839033196268,\n",
              " 0.3877403530287768,\n",
              " 0.2503991734760965,\n",
              " 0.3453246900086685,\n",
              " 0.27158527954706296,\n",
              " 0.28497264709166015,\n",
              " 0.36525974025974023,\n",
              " 0.3015525477707006,\n",
              " 0.29964398734177217,\n",
              " 0.31112482558763555,\n",
              " 0.32763532763532766,\n",
              " 0.2929133858267717,\n",
              " 0.3331163194444444,\n",
              " 0.29760000000000003,\n",
              " 0.4056437389770724,\n",
              " 0.29523809523809524,\n",
              " 0.11194029850746268,\n",
              " 0.10948905109489049,\n",
              " 0.11029411764705882,\n",
              " 0.22384751773049644,\n",
              " 0.11111111111111112,\n",
              " 0.04807692307692307,\n",
              " 0.07009345794392523,\n",
              " 0.11997913406364111,\n",
              " 0.023809523809523808,\n",
              " 0.04694835680751174,\n",
              " 0.10152284263959391,\n",
              " 0.12755102040816327,\n",
              " 0.2920658059142024,\n",
              " 0.2876628038149933,\n",
              " 0.2594472645234066,\n",
              " 0.3559680451127819,\n",
              " 0.4897388059701492,\n",
              " 0.2418582375478927,\n",
              " 0.38285476487723674,\n",
              " 0.42695937176920873,\n",
              " 0.24790051679586564,\n",
              " 0.45521978021978027,\n",
              " 0.3328402366863905,\n",
              " 0.14367816091954025,\n",
              " 0.18035714285714285,\n",
              " 0.44696751940212703,\n",
              " 0.3989361702127659,\n",
              " 0.320863309352518,\n",
              " 0.36770583533173457,\n",
              " 0.26785714285714285,\n",
              " 0.23023023023023023,\n",
              " 0.22615535889872176,\n",
              " 0.2793141592920354,\n",
              " 0.2768640350877193,\n",
              " 0.22615535889872176,\n",
              " 0.5450489276479236,\n",
              " 0.4020700636942675,\n",
              " 0.5439024390243904,\n",
              " 0.3896604938271605,\n",
              " 0.35825191244414156,\n",
              " 0.10344827586206895,\n",
              " 0.10135135135135136,\n",
              " 0.10344827586206895,\n",
              " 0.20764802631578946,\n",
              " 0.10416666666666666,\n",
              " 0.07751937984496124,\n",
              " 0.24278846153846156,\n",
              " 0.07633587786259544,\n",
              " 0.11363636363636363,\n",
              " 0.14312977099236646,\n",
              " 0.3321428571428571,\n",
              " 0.34128440366972473,\n",
              " 0.46464646464646464,\n",
              " 0.23232323232323232,\n",
              " 0.40180180180180186,\n",
              " 0.24278846153846156,\n",
              " 0.24093511450381686,\n",
              " 0.36390977443609024,\n",
              " 0.6233632622521511,\n",
              " 0.23910984848484848,\n",
              " 0.4353448275862069,\n",
              " 0.4353448275862069,\n",
              " 0.2547945205479452,\n",
              " 0.4059921841076856,\n",
              " 0.20408163265306123,\n",
              " 0.47691416992328844,\n",
              " 0.4702440416726131,\n",
              " 0.5446896853146853,\n",
              " 0.32318840579710145,\n",
              " 0.46697845804988664,\n",
              " 0.2915662650602409,\n",
              " 0.29512195121951224,\n",
              " 0.25532268795741847,\n",
              " 0.34090909090909094,\n",
              " 0.44910179640718567,\n",
              " 0.2792868288736057,\n",
              " 0.2754345967512111,\n",
              " 0.2662037037037037,\n",
              " 0.3524904214559387,\n",
              " 0.30848255280073456,\n",
              " 0.2854713313896987,\n",
              " 0.3407434402332361,\n",
              " 0.26158827539195634,\n",
              " 0.4868872817590766,\n",
              " 0.28718074055969695,\n",
              " 0.35396825396825404,\n",
              " 0.2587090163934426,\n",
              " 0.20444444444444443,\n",
              " 0.5991586538461539,\n",
              " 0.39032258064516134,\n",
              " 0.40031397174254313,\n",
              " 0.6510416666666667,\n",
              " 0.5274612219056665,\n",
              " 0.49460827464788737,\n",
              " 0.5244755244755245,\n",
              " 0.7352941176470589,\n",
              " 0.7211538461538461,\n",
              " 0.9490196078431373,\n",
              " 0.49145299145299143,\n",
              " 0.49145299145299143,\n",
              " 0.3073770491803279,\n",
              " 0.3872,\n",
              " 0.3073770491803279,\n",
              " 0.3048780487804878,\n",
              " 0.30241935483870974,\n",
              " 0.3303703703703705,\n",
              " 0.283969465648855,\n",
              " 0.283969465648855,\n",
              " 0.38142620232172475,\n",
              " 0.42720073103868406,\n",
              " 0.4601226993865031,\n",
              " 0.3917863441672965,\n",
              " 0.32244318181818177,\n",
              " 0.5406060606060606,\n",
              " 0.3194444444444444,\n",
              " 0.16806722689075632,\n",
              " 0.12820512820512822,\n",
              " 0.31525423728813556,\n",
              " 0.267478813559322,\n",
              " 0.3126050420168068,\n",
              " 0.26804037938876246,\n",
              " 0.36264867111278226,\n",
              " 0.2798986486486486,\n",
              " 0.36394032921810704,\n",
              " 0.16537649542575653,\n",
              " 0.17341040462427745,\n",
              " 0.2508169934640523,\n",
              " 0.32899366643209005,\n",
              " 0.25230111768573305,\n",
              " 0.25230111768573305,\n",
              " 0.06944444444444445,\n",
              " 0.07042253521126761,\n",
              " 0.07042253521126761,\n",
              " 0.0684931506849315,\n",
              " 0.4323630136986301,\n",
              " 0.3155006858710563,\n",
              " 0.1234567901234568,\n",
              " 0.1875,\n",
              " 0.1234567901234568,\n",
              " 0.38490853658536583,\n",
              " 0.43896484375,\n",
              " 0.16129032258064516,\n",
              " 0.32763532763532766,\n",
              " 0.1592356687898089,\n",
              " 0.5207844975777466,\n",
              " 0.3896604938271605,\n",
              " 0.32841435185185186,\n",
              " 0.32639953987730064,\n",
              " 0.32639953987730064,\n",
              " 0.2147239263803681,\n",
              " 0.48643216080402,\n",
              " 0.1295336787564767,\n",
              " 0.1288659793814433,\n",
              " 0.4664179104477612,\n",
              " 0.26870265151515155,\n",
              " 0.5136986301369862,\n",
              " 0.29520645467489315,\n",
              " 0.2938397581254724,\n",
              " 0.5770563462871154,\n",
              " 0.45634920634920634,\n",
              " 0.05050505050505051,\n",
              " 0.09900990099009903,\n",
              " 0.18564356435643567,\n",
              " 0.10000000000000002,\n",
              " 0.10309278350515463,\n",
              " 0.4605814928711211,\n",
              " 0.12987012987012986,\n",
              " 0.1388888888888889,\n",
              " 0.10273972602739725,\n",
              " 0.13605442176870747,\n",
              " 0.22544642857142855,\n",
              " 0.27090694935217907,\n",
              " 0.11113556338028167,\n",
              " 0.22384751773049644,\n",
              " 0.2432055141124635,\n",
              " 0.39316239316239315,\n",
              " 0.38333333333333336,\n",
              " 0.4101485148514852,\n",
              " 0.32206632653061223,\n",
              " 0.39316239316239315,\n",
              " 0.18041237113402062,\n",
              " 0.3476119216859958,\n",
              " 0.4013871007932223,\n",
              " 0.36017628205128205,\n",
              " 0.18041237113402062,\n",
              " 0.07246376811594203,\n",
              " 0.07352941176470587,\n",
              " 0.07142857142857142,\n",
              " 0.07352941176470587,\n",
              " 0.07246376811594203,\n",
              " 0.4705943152454781,\n",
              " 0.473651892374679,\n",
              " 0.7286460335768296,\n",
              " 0.49095332577475437,\n",
              " 0.39978134110787167,\n",
              " 0.4599586288416075,\n",
              " 0.5873822975517891,\n",
              " 0.6330508474576271,\n",
              " 0.4254839033196268,\n",
              " 0.695660986521116,\n",
              " 0.3546348314606741,\n",
              " 0.11363636363636365,\n",
              " 0.7773446457234581,\n",
              " 0.41333333333333333,\n",
              " 0.5555555555555555,\n",
              " 0.24966442953020132,\n",
              " 0.16924208977189112,\n",
              " 0.32702702702702696,\n",
              " 0.42032707122584134,\n",
              " 0.125,\n",
              " 0.34534534534534533,\n",
              " 0.2568493150684931,\n",
              " 0.2568493150684931,\n",
              " 0.35493827160493824,\n",
              " 0.2604166666666667,\n",
              " 0.3570679530201342,\n",
              " 0.3218737159293248,\n",
              " 0.2317880794701987,\n",
              " 0.3061224489795918,\n",
              " 0.3594805743243243,\n",
              " 0.17361111111111113,\n",
              " 0.17857142857142858,\n",
              " 0.17123287671232876,\n",
              " 0.30027386541471046,\n",
              " 0.2961033950617284,\n",
              " 0.36461718445339913,\n",
              " 0.362309480754327,\n",
              " 0.3669544740973313,\n",
              " 0.3234880450070324,\n",
              " 0.36003080477474003,\n",
              " 0.1834862385321101,\n",
              " 0.2314814814814815,\n",
              " 0.3444444444444445,\n",
              " 0.2314814814814815,\n",
              " 0.3984942886812045,\n",
              " 0.3895383995162266,\n",
              " 0.49119701231933266,\n",
              " 0.4138551506972559,\n",
              " 0.4975535296085648,\n",
              " 0.4765646099830587,\n",
              " 0.5136795086543829,\n",
              " 0.48153993106026005,\n",
              " 0.5111111111111111,\n",
              " 0.3305697278911564,\n",
              " 0.3565196700507614,\n",
              " 0.4607957060646304,\n",
              " 0.38422131147540983,\n",
              " 0.48857497018032137,\n",
              " 0.46449687639446674,\n",
              " 0.3441975308641975,\n",
              " 0.39717572422227326,\n",
              " 0.550458121120226,\n",
              " 0.5030075187969925,\n",
              " 0.5719062244858286,\n",
              " 0.5037740836466165,\n",
              " 0.2758139998008563,\n",
              " 0.14285714285714288,\n",
              " 0.21653543307086612,\n",
              " 0.34525416104363466,\n",
              " 0.2583333333333333,\n",
              " 0.16666666666666666,\n",
              " 0.2209944751381215,\n",
              " 0.2382060831781502,\n",
              " 0.348756906077348,\n",
              " 0.27929568913175473,\n",
              " 0.2547945205479452,\n",
              " 0.16368322072856448,\n",
              " 0.22816506960270166,\n",
              " 0.2152317880794702,\n",
              " 0.16368322072856448,\n",
              " 0.38659793814432986,\n",
              " 0.5681818181818182,\n",
              " 0.6920590018185491,\n",
              " 0.5888888888888889,\n",
              " 0.5681818181818182,\n",
              " 0.46106557377049184,\n",
              " 0.24952919020715625,\n",
              " 0.555742958340361,\n",
              " 0.4033333333333334,\n",
              " 0.24743230625583568,\n",
              " 0.7333333333333333,\n",
              " 0.6641604010025064,\n",
              " 0.34615384615384615,\n",
              " 0.6281217604372821,\n",
              " 0.7488721804511279,\n",
              " 0.48813589002714297,\n",
              " 0.44143356643356646,\n",
              " 0.3067545963229416,\n",
              " 0.4951594280131451,\n",
              " 0.4476950354609929,\n",
              " 0.6721252933374147,\n",
              " 0.5716463414634148,\n",
              " 0.3970125786163522,\n",
              " 0.5540372670807454,\n",
              " 0.8524141363862616,\n",
              " 0.16304347826086954,\n",
              " 0.10752688172043011,\n",
              " 0.1595744680851064,\n",
              " 0.15789473684210528,\n",
              " 0.15789473684210528,\n",
              " 0.07246376811594203,\n",
              " 0.23381642512077297,\n",
              " 0.20698489751887808,\n",
              " 0.11904761904761904,\n",
              " 0.09523809523809523,\n",
              " 0.0,\n",
              " 0.07462686567164178,\n",
              " 0.0,\n",
              " 0.07352941176470587,\n",
              " 0.07352941176470587,\n",
              " 0.8054174558080809,\n",
              " 0.4412788857233302,\n",
              " 0.542198847983972,\n",
              " 0.43459284200024945,\n",
              " 0.4711055276381909,\n",
              " ...]"
            ]
          },
          "metadata": {},
          "execution_count": 14
        }
      ]
    },
    {
      "cell_type": "code",
      "source": [
        "m_scores"
      ],
      "metadata": {
        "id": "c96tN1HzbOXM"
      },
      "execution_count": null,
      "outputs": []
    },
    {
      "cell_type": "code",
      "source": [
        "x = np.zeros((n, 4))\n",
        "x"
      ],
      "metadata": {
        "id": "ka7cNo7HP3td",
        "colab": {
          "base_uri": "https://localhost:8080/"
        },
        "outputId": "c18492ad-3e22-41b8-9961-3d1cb7d4ed8a"
      },
      "execution_count": 15,
      "outputs": [
        {
          "output_type": "execute_result",
          "data": {
            "text/plain": [
              "array([[0., 0., 0., 0.],\n",
              "       [0., 0., 0., 0.],\n",
              "       [0., 0., 0., 0.],\n",
              "       ...,\n",
              "       [0., 0., 0., 0.],\n",
              "       [0., 0., 0., 0.],\n",
              "       [0., 0., 0., 0.]])"
            ]
          },
          "metadata": {},
          "execution_count": 15
        }
      ]
    },
    {
      "cell_type": "code",
      "source": [
        "len(x)"
      ],
      "metadata": {
        "id": "8q8ZDEXXHacJ",
        "colab": {
          "base_uri": "https://localhost:8080/"
        },
        "outputId": "f34bdf2f-132e-4d4e-9319-4119457c02e2"
      },
      "execution_count": 17,
      "outputs": [
        {
          "output_type": "execute_result",
          "data": {
            "text/plain": [
              "8490"
            ]
          },
          "metadata": {},
          "execution_count": 17
        }
      ]
    },
    {
      "cell_type": "code",
      "source": [
        "F = read_list('F_bert_scores_8490_WMT14')\n",
        "bleu_scores = read_list('bleu_scores_8490_WMT14')\n",
        "normalized_ter = read_list('normalized_ter_scores_8490_WMT14')\n",
        "m_scores = read_list('m_scores_8490_WMT14')"
      ],
      "metadata": {
        "id": "XnjWwPB7iv7E"
      },
      "execution_count": 16,
      "outputs": []
    },
    {
      "cell_type": "code",
      "source": [
        "x[:, 0] = F\n",
        "x[:, 1] = bleu_scores\n",
        "x[:, 2] = normalized_ter\n",
        "x[:, 3] = m_scores\n",
        "x"
      ],
      "metadata": {
        "id": "rqafODumHlnr",
        "colab": {
          "base_uri": "https://localhost:8080/"
        },
        "outputId": "c23e61c0-0b8c-4280-8a40-ca69d4223730"
      },
      "execution_count": 18,
      "outputs": [
        {
          "output_type": "execute_result",
          "data": {
            "text/plain": [
              "array([[6.82661891e-001, 4.00058375e-001, 3.33333333e-001,\n",
              "        5.40265036e-001],\n",
              "       [6.16733491e-001, 9.68878116e-104, 2.50000000e-001,\n",
              "        2.94976636e-001],\n",
              "       [7.03791201e-001, 2.97298347e-001, 4.16666667e-001,\n",
              "        3.44444444e-001],\n",
              "       ...,\n",
              "       [7.48446524e-001, 2.90478022e-001, 2.85714286e-001,\n",
              "        5.01827597e-001],\n",
              "       [6.13786876e-001, 7.13725154e-104, 0.00000000e+000,\n",
              "        1.93602694e-001],\n",
              "       [7.43650436e-001, 2.22451317e-001, 2.14285714e-001,\n",
              "        4.70143613e-001]])"
            ]
          },
          "metadata": {},
          "execution_count": 18
        }
      ]
    },
    {
      "cell_type": "code",
      "source": [
        "# In the first step we will split the data in training and remaining dataset\n",
        "x_train, x_rem, y_train, y_rem = train_test_split(x,y, train_size=0.8)\n",
        "\n",
        "# Now since we want the valid and test size to be equal (10% each of overall data). \n",
        "# we have to define valid_size=0.5 (that is 50% of remaining data)\n",
        "test_size = 0.5\n",
        "x_valid, x_test, y_valid, y_test = train_test_split(x_rem,y_rem, test_size=0.5)"
      ],
      "metadata": {
        "id": "EKc5VVo2MfMp"
      },
      "execution_count": null,
      "outputs": []
    },
    {
      "cell_type": "code",
      "source": [
        "len(x_train)"
      ],
      "metadata": {
        "id": "z99NVoTkI45g",
        "colab": {
          "base_uri": "https://localhost:8080/"
        },
        "outputId": "589c24f2-7454-48d7-c126-8016cab219cb"
      },
      "execution_count": null,
      "outputs": [
        {
          "output_type": "execute_result",
          "data": {
            "text/plain": [
              "6792"
            ]
          },
          "metadata": {},
          "execution_count": 28
        }
      ]
    },
    {
      "cell_type": "code",
      "source": [
        "len(y_train)"
      ],
      "metadata": {
        "id": "ALJ_wI3HJCg_",
        "colab": {
          "base_uri": "https://localhost:8080/"
        },
        "outputId": "9504d5d3-f281-4af6-8e15-463d68274433"
      },
      "execution_count": null,
      "outputs": [
        {
          "output_type": "execute_result",
          "data": {
            "text/plain": [
              "6792"
            ]
          },
          "metadata": {},
          "execution_count": 29
        }
      ]
    },
    {
      "cell_type": "code",
      "source": [
        "import tensorflow as tf"
      ],
      "metadata": {
        "id": "LqxV4mm6zt_b"
      },
      "execution_count": null,
      "outputs": []
    },
    {
      "cell_type": "markdown",
      "source": [
        "### Multilayer Perceptron"
      ],
      "metadata": {
        "id": "w1s2klJb5tWw"
      }
    },
    {
      "cell_type": "code",
      "source": [
        "# Define the custom layer to assign scores\n",
        "def assign_scores(x):\n",
        "    max_idx = tf.argmax(x, axis=1)\n",
        "    out = tf.one_hot(max_idx, depth=5)\n",
        "    return out\n",
        "\n",
        "# Define the model architecture with dropout\n",
        "model = tf.keras.Sequential([\n",
        "    tf.keras.layers.Dense(64, input_shape=(4,), activation='tanh'),\n",
        "    tf.keras.layers.Dropout(0.5),  # add dropout with rate of 0.5 after the first layer\n",
        "    tf.keras.layers.Dense(32, activation='tanh'),\n",
        "    tf.keras.layers.Dropout(0.5),  # add dropout with rate of 0.5 after the seventh layer\n",
        "    tf.keras.layers.Dense(5, activation='sigmoid')\n",
        "])\n",
        "\n",
        "# # Add the custom layer\n",
        "#model.add(tf.keras.layers.Lambda(assign_scores))"
      ],
      "metadata": {
        "id": "1AW77OzizuVZ"
      },
      "execution_count": null,
      "outputs": []
    },
    {
      "cell_type": "code",
      "source": [
        "# Compile the model\n",
        "model.compile(optimizer='adam',\n",
        "              loss='log_cosh',\n",
        "              metrics=['accuracy'])"
      ],
      "metadata": {
        "id": "e7eVLTrSzuku"
      },
      "execution_count": null,
      "outputs": []
    },
    {
      "cell_type": "code",
      "source": [
        "# Train the model\n",
        "model.fit(x_train, y_train, batch_size=32, epochs=20, validation_data=(x_valid, y_valid))\n",
        "\n",
        "# Export and save the model"
      ],
      "metadata": {
        "id": "KiD9SW7uzusc",
        "colab": {
          "base_uri": "https://localhost:8080/"
        },
        "outputId": "7cf0efb5-ca19-4060-f462-389235f273e6"
      },
      "execution_count": null,
      "outputs": [
        {
          "output_type": "stream",
          "name": "stdout",
          "text": [
            "Epoch 1/20\n",
            "213/213 [==============================] - 3s 8ms/step - loss: 0.0803 - accuracy: 0.2141 - val_loss: 0.0736 - val_accuracy: 0.2485\n",
            "Epoch 2/20\n",
            "213/213 [==============================] - 1s 4ms/step - loss: 0.0758 - accuracy: 0.2253 - val_loss: 0.0731 - val_accuracy: 0.2403\n",
            "Epoch 3/20\n",
            "213/213 [==============================] - 1s 4ms/step - loss: 0.0748 - accuracy: 0.2413 - val_loss: 0.0726 - val_accuracy: 0.2615\n",
            "Epoch 4/20\n",
            "213/213 [==============================] - 1s 4ms/step - loss: 0.0741 - accuracy: 0.2562 - val_loss: 0.0723 - val_accuracy: 0.2485\n",
            "Epoch 5/20\n",
            "213/213 [==============================] - 1s 4ms/step - loss: 0.0738 - accuracy: 0.2580 - val_loss: 0.0722 - val_accuracy: 0.2662\n",
            "Epoch 6/20\n",
            "213/213 [==============================] - 1s 4ms/step - loss: 0.0735 - accuracy: 0.2585 - val_loss: 0.0722 - val_accuracy: 0.2532\n",
            "Epoch 7/20\n",
            "213/213 [==============================] - 1s 4ms/step - loss: 0.0735 - accuracy: 0.2559 - val_loss: 0.0722 - val_accuracy: 0.2638\n",
            "Epoch 8/20\n",
            "213/213 [==============================] - 1s 4ms/step - loss: 0.0732 - accuracy: 0.2637 - val_loss: 0.0721 - val_accuracy: 0.2780\n",
            "Epoch 9/20\n",
            "213/213 [==============================] - 1s 4ms/step - loss: 0.0731 - accuracy: 0.2691 - val_loss: 0.0721 - val_accuracy: 0.2721\n",
            "Epoch 10/20\n",
            "213/213 [==============================] - 1s 5ms/step - loss: 0.0731 - accuracy: 0.2697 - val_loss: 0.0720 - val_accuracy: 0.2733\n",
            "Epoch 11/20\n",
            "213/213 [==============================] - 1s 4ms/step - loss: 0.0729 - accuracy: 0.2711 - val_loss: 0.0720 - val_accuracy: 0.2792\n",
            "Epoch 12/20\n",
            "213/213 [==============================] - 1s 4ms/step - loss: 0.0728 - accuracy: 0.2644 - val_loss: 0.0719 - val_accuracy: 0.2721\n",
            "Epoch 13/20\n",
            "213/213 [==============================] - 1s 4ms/step - loss: 0.0727 - accuracy: 0.2687 - val_loss: 0.0719 - val_accuracy: 0.2674\n",
            "Epoch 14/20\n",
            "213/213 [==============================] - 1s 6ms/step - loss: 0.0728 - accuracy: 0.2699 - val_loss: 0.0718 - val_accuracy: 0.2780\n",
            "Epoch 15/20\n",
            "213/213 [==============================] - 1s 6ms/step - loss: 0.0727 - accuracy: 0.2694 - val_loss: 0.0719 - val_accuracy: 0.2662\n",
            "Epoch 16/20\n",
            "213/213 [==============================] - 1s 6ms/step - loss: 0.0725 - accuracy: 0.2697 - val_loss: 0.0720 - val_accuracy: 0.2638\n",
            "Epoch 17/20\n",
            "213/213 [==============================] - 1s 4ms/step - loss: 0.0725 - accuracy: 0.2772 - val_loss: 0.0719 - val_accuracy: 0.2768\n",
            "Epoch 18/20\n",
            "213/213 [==============================] - 1s 4ms/step - loss: 0.0725 - accuracy: 0.2753 - val_loss: 0.0719 - val_accuracy: 0.2709\n",
            "Epoch 19/20\n",
            "213/213 [==============================] - 1s 4ms/step - loss: 0.0725 - accuracy: 0.2828 - val_loss: 0.0718 - val_accuracy: 0.2862\n",
            "Epoch 20/20\n",
            "213/213 [==============================] - 1s 4ms/step - loss: 0.0725 - accuracy: 0.2752 - val_loss: 0.0718 - val_accuracy: 0.2874\n"
          ]
        },
        {
          "output_type": "execute_result",
          "data": {
            "text/plain": [
              "<keras.callbacks.History at 0x7f20a1053460>"
            ]
          },
          "metadata": {},
          "execution_count": 71
        }
      ]
    },
    {
      "cell_type": "code",
      "source": [
        "# Make predictions\n",
        "predictions = model.predict(x_test)\n",
        "\n",
        "print(predictions)"
      ],
      "metadata": {
        "id": "dr0Ncr9Y-t33",
        "colab": {
          "base_uri": "https://localhost:8080/"
        },
        "outputId": "a3cd0114-7348-42dd-d3a3-a10730a80ec8"
      },
      "execution_count": null,
      "outputs": [
        {
          "output_type": "stream",
          "name": "stdout",
          "text": [
            "27/27 [==============================] - 0s 2ms/step\n",
            "[[0.06448004 0.14322557 0.18616137 0.24313238 0.20396799]\n",
            " [0.12027321 0.17483036 0.19073083 0.21374848 0.11421633]\n",
            " [0.3149329  0.22970308 0.16739805 0.16519141 0.07798853]\n",
            " ...\n",
            " [0.067644   0.1489547  0.19725563 0.24615976 0.17457554]\n",
            " [0.1215707  0.1764572  0.19301069 0.21598156 0.12096871]\n",
            " [0.06204029 0.14528428 0.19756976 0.25151345 0.1983792 ]]\n"
          ]
        }
      ]
    },
    {
      "cell_type": "code",
      "source": [
        "y_test[-4:-1]"
      ],
      "metadata": {
        "id": "tar1Aga0hdXR"
      },
      "execution_count": null,
      "outputs": []
    },
    {
      "cell_type": "code",
      "source": [
        "ct = 0\n",
        "\n",
        "for it, pred in enumerate(predictions):\n",
        "  ind = 0\n",
        "  mx = pred[0]\n",
        "  for i, p in enumerate(pred):\n",
        "    if p>mx:\n",
        "      mx = p\n",
        "      ind = i\n",
        "  if y_test[it][ind]==1.0:\n",
        "    ct+=1\n",
        "\n",
        "print(ct/len(predictions))"
      ],
      "metadata": {
        "id": "HBOKg0ygnb2T"
      },
      "execution_count": null,
      "outputs": []
    },
    {
      "cell_type": "code",
      "source": [
        "# import the pre trained model and use it for making predictions\n",
        "\n",
        "\n",
        "\n",
        "# Evaluate the model\n",
        "loss, accuracy = model.evaluate(x_test, y_test)\n",
        "\n"
      ],
      "metadata": {
        "id": "olyjWHt3zuz5"
      },
      "execution_count": null,
      "outputs": []
    },
    {
      "cell_type": "markdown",
      "source": [
        "CNN"
      ],
      "metadata": {
        "id": "CDRcfk-Z57LA"
      }
    },
    {
      "cell_type": "code",
      "source": [
        "# Define the model architecture\n",
        "model = tf.keras.Sequential([\n",
        "    # Reshape the input to (None, 1, 1, 4) to create a dummy image with a single channel\n",
        "    tf.keras.layers.Reshape((1, 1, 704), input_shape=(704,)),\n",
        "    # Convolutional layer with 16 filters, 1x1 kernel, and 'relu' activation\n",
        "    tf.keras.layers.Conv2D(16, (1, 1), activation='relu'),\n",
        "    # Flatten layer to convert 2D feature maps to 1D\n",
        "    tf.keras.layers.Flatten(),\n",
        "    # Dense fully connected layer with 64 units and 'relu' activation\n",
        "    tf.keras.layers.Dense(64, activation='relu'),\n",
        "    # Output layer with 5 units for 5-class classification and 'softmax' activation\n",
        "    tf.keras.layers.Dense(5, activation='softmax')\n",
        "])\n",
        "\n",
        "# Compile the model\n",
        "model.compile(optimizer='adam', loss='mse', metrics=['accuracy'])\n",
        "\n",
        "# Print model summary\n",
        "model.summary()\n"
      ],
      "metadata": {
        "id": "SJbH4vk4zvCT",
        "colab": {
          "base_uri": "https://localhost:8080/"
        },
        "outputId": "16585ace-e96f-4295-cc3c-fab30de8fcbd"
      },
      "execution_count": null,
      "outputs": [
        {
          "output_type": "stream",
          "name": "stdout",
          "text": [
            "Model: \"sequential_8\"\n",
            "_________________________________________________________________\n",
            " Layer (type)                Output Shape              Param #   \n",
            "=================================================================\n",
            " reshape_4 (Reshape)         (None, 1, 1, 704)         0         \n",
            "                                                                 \n",
            " conv2d_4 (Conv2D)           (None, 1, 1, 16)          11280     \n",
            "                                                                 \n",
            " flatten_4 (Flatten)         (None, 16)                0         \n",
            "                                                                 \n",
            " dense_24 (Dense)            (None, 64)                1088      \n",
            "                                                                 \n",
            " dense_25 (Dense)            (None, 5)                 325       \n",
            "                                                                 \n",
            "=================================================================\n",
            "Total params: 12,693\n",
            "Trainable params: 12,693\n",
            "Non-trainable params: 0\n",
            "_________________________________________________________________\n"
          ]
        }
      ]
    },
    {
      "cell_type": "code",
      "source": [
        "model.fit(x_train, y_train, batch_size=32, epochs=100, validation_data=(x_valid, y_valid))"
      ],
      "metadata": {
        "colab": {
          "base_uri": "https://localhost:8080/"
        },
        "id": "pRx6WAtX3ZwH",
        "outputId": "c42e87b5-6e4f-487f-d210-127a34cd6b27"
      },
      "execution_count": null,
      "outputs": [
        {
          "output_type": "stream",
          "name": "stdout",
          "text": [
            "Epoch 1/100\n",
            "213/213 [==============================] - 1s 6ms/step - loss: 0.0888 - accuracy: 0.7001 - val_loss: 0.1978 - val_accuracy: 0.2956\n",
            "Epoch 2/100\n",
            "213/213 [==============================] - 1s 5ms/step - loss: 0.0870 - accuracy: 0.7077 - val_loss: 0.2001 - val_accuracy: 0.2968\n",
            "Epoch 3/100\n",
            "213/213 [==============================] - 1s 5ms/step - loss: 0.0855 - accuracy: 0.7120 - val_loss: 0.2032 - val_accuracy: 0.3004\n",
            "Epoch 4/100\n",
            "213/213 [==============================] - 1s 5ms/step - loss: 0.0839 - accuracy: 0.7200 - val_loss: 0.2027 - val_accuracy: 0.2945\n",
            "Epoch 5/100\n",
            "213/213 [==============================] - 1s 6ms/step - loss: 0.0825 - accuracy: 0.7242 - val_loss: 0.2053 - val_accuracy: 0.2956\n",
            "Epoch 6/100\n",
            "213/213 [==============================] - 1s 5ms/step - loss: 0.0814 - accuracy: 0.7279 - val_loss: 0.2076 - val_accuracy: 0.2956\n",
            "Epoch 7/100\n",
            "213/213 [==============================] - 1s 3ms/step - loss: 0.0798 - accuracy: 0.7340 - val_loss: 0.2087 - val_accuracy: 0.2933\n",
            "Epoch 8/100\n",
            "213/213 [==============================] - 1s 3ms/step - loss: 0.0784 - accuracy: 0.7419 - val_loss: 0.2111 - val_accuracy: 0.2909\n",
            "Epoch 9/100\n",
            "213/213 [==============================] - 1s 4ms/step - loss: 0.0781 - accuracy: 0.7420 - val_loss: 0.2108 - val_accuracy: 0.2980\n",
            "Epoch 10/100\n",
            "213/213 [==============================] - 1s 4ms/step - loss: 0.0766 - accuracy: 0.7482 - val_loss: 0.2120 - val_accuracy: 0.2921\n",
            "Epoch 11/100\n",
            "213/213 [==============================] - 1s 4ms/step - loss: 0.0757 - accuracy: 0.7497 - val_loss: 0.2136 - val_accuracy: 0.2980\n",
            "Epoch 12/100\n",
            "213/213 [==============================] - 1s 5ms/step - loss: 0.0747 - accuracy: 0.7543 - val_loss: 0.2134 - val_accuracy: 0.2945\n",
            "Epoch 13/100\n",
            "213/213 [==============================] - 1s 5ms/step - loss: 0.0743 - accuracy: 0.7557 - val_loss: 0.2153 - val_accuracy: 0.2968\n",
            "Epoch 14/100\n",
            "213/213 [==============================] - 1s 5ms/step - loss: 0.0731 - accuracy: 0.7584 - val_loss: 0.2156 - val_accuracy: 0.3015\n",
            "Epoch 15/100\n",
            "213/213 [==============================] - 1s 3ms/step - loss: 0.0722 - accuracy: 0.7610 - val_loss: 0.2171 - val_accuracy: 0.2956\n",
            "Epoch 16/100\n",
            "213/213 [==============================] - 1s 3ms/step - loss: 0.0718 - accuracy: 0.7627 - val_loss: 0.2169 - val_accuracy: 0.2980\n",
            "Epoch 17/100\n",
            "213/213 [==============================] - 1s 3ms/step - loss: 0.0708 - accuracy: 0.7644 - val_loss: 0.2182 - val_accuracy: 0.2909\n",
            "Epoch 18/100\n",
            "213/213 [==============================] - 1s 4ms/step - loss: 0.0701 - accuracy: 0.7680 - val_loss: 0.2195 - val_accuracy: 0.3027\n",
            "Epoch 19/100\n",
            "213/213 [==============================] - 1s 4ms/step - loss: 0.0693 - accuracy: 0.7706 - val_loss: 0.2180 - val_accuracy: 0.3051\n",
            "Epoch 20/100\n",
            "213/213 [==============================] - 1s 4ms/step - loss: 0.0691 - accuracy: 0.7703 - val_loss: 0.2185 - val_accuracy: 0.3004\n",
            "Epoch 21/100\n",
            "213/213 [==============================] - 1s 4ms/step - loss: 0.0685 - accuracy: 0.7709 - val_loss: 0.2183 - val_accuracy: 0.3086\n",
            "Epoch 22/100\n",
            "213/213 [==============================] - 1s 4ms/step - loss: 0.0681 - accuracy: 0.7784 - val_loss: 0.2180 - val_accuracy: 0.3004\n",
            "Epoch 23/100\n",
            "213/213 [==============================] - 1s 3ms/step - loss: 0.0676 - accuracy: 0.7765 - val_loss: 0.2203 - val_accuracy: 0.2968\n",
            "Epoch 24/100\n",
            "213/213 [==============================] - 1s 4ms/step - loss: 0.0673 - accuracy: 0.7808 - val_loss: 0.2200 - val_accuracy: 0.2980\n",
            "Epoch 25/100\n",
            "213/213 [==============================] - 1s 3ms/step - loss: 0.0669 - accuracy: 0.7766 - val_loss: 0.2210 - val_accuracy: 0.3004\n",
            "Epoch 26/100\n",
            "213/213 [==============================] - 1s 3ms/step - loss: 0.0662 - accuracy: 0.7809 - val_loss: 0.2220 - val_accuracy: 0.3015\n",
            "Epoch 27/100\n",
            "213/213 [==============================] - 1s 4ms/step - loss: 0.0660 - accuracy: 0.7824 - val_loss: 0.2220 - val_accuracy: 0.2968\n",
            "Epoch 28/100\n",
            "213/213 [==============================] - 1s 5ms/step - loss: 0.0651 - accuracy: 0.7822 - val_loss: 0.2199 - val_accuracy: 0.3074\n",
            "Epoch 29/100\n",
            "213/213 [==============================] - 1s 6ms/step - loss: 0.0652 - accuracy: 0.7856 - val_loss: 0.2229 - val_accuracy: 0.2921\n",
            "Epoch 30/100\n",
            "213/213 [==============================] - 1s 5ms/step - loss: 0.0650 - accuracy: 0.7852 - val_loss: 0.2237 - val_accuracy: 0.3015\n",
            "Epoch 31/100\n",
            "213/213 [==============================] - 1s 3ms/step - loss: 0.0645 - accuracy: 0.7870 - val_loss: 0.2235 - val_accuracy: 0.2956\n",
            "Epoch 32/100\n",
            "213/213 [==============================] - 1s 3ms/step - loss: 0.0642 - accuracy: 0.7847 - val_loss: 0.2225 - val_accuracy: 0.3027\n",
            "Epoch 33/100\n",
            "213/213 [==============================] - 1s 4ms/step - loss: 0.0641 - accuracy: 0.7846 - val_loss: 0.2240 - val_accuracy: 0.3015\n",
            "Epoch 34/100\n",
            "213/213 [==============================] - 1s 4ms/step - loss: 0.0639 - accuracy: 0.7852 - val_loss: 0.2244 - val_accuracy: 0.2921\n",
            "Epoch 35/100\n",
            "213/213 [==============================] - 1s 4ms/step - loss: 0.0637 - accuracy: 0.7830 - val_loss: 0.2248 - val_accuracy: 0.2956\n",
            "Epoch 36/100\n",
            "213/213 [==============================] - 1s 3ms/step - loss: 0.0632 - accuracy: 0.7899 - val_loss: 0.2240 - val_accuracy: 0.2968\n",
            "Epoch 37/100\n",
            "213/213 [==============================] - 1s 3ms/step - loss: 0.0628 - accuracy: 0.7898 - val_loss: 0.2257 - val_accuracy: 0.2850\n",
            "Epoch 38/100\n",
            "213/213 [==============================] - 1s 3ms/step - loss: 0.0628 - accuracy: 0.7902 - val_loss: 0.2229 - val_accuracy: 0.3074\n",
            "Epoch 39/100\n",
            "213/213 [==============================] - 1s 4ms/step - loss: 0.0629 - accuracy: 0.7892 - val_loss: 0.2273 - val_accuracy: 0.2898\n",
            "Epoch 40/100\n",
            "213/213 [==============================] - 1s 4ms/step - loss: 0.0630 - accuracy: 0.7883 - val_loss: 0.2263 - val_accuracy: 0.2933\n",
            "Epoch 41/100\n",
            "213/213 [==============================] - 1s 4ms/step - loss: 0.0619 - accuracy: 0.7908 - val_loss: 0.2261 - val_accuracy: 0.2980\n",
            "Epoch 42/100\n",
            "213/213 [==============================] - 1s 3ms/step - loss: 0.0620 - accuracy: 0.7900 - val_loss: 0.2257 - val_accuracy: 0.2968\n",
            "Epoch 43/100\n",
            "213/213 [==============================] - 1s 4ms/step - loss: 0.0616 - accuracy: 0.7948 - val_loss: 0.2244 - val_accuracy: 0.2968\n",
            "Epoch 44/100\n",
            "213/213 [==============================] - 1s 6ms/step - loss: 0.0617 - accuracy: 0.7936 - val_loss: 0.2262 - val_accuracy: 0.3027\n",
            "Epoch 45/100\n",
            "213/213 [==============================] - 1s 5ms/step - loss: 0.0614 - accuracy: 0.7921 - val_loss: 0.2271 - val_accuracy: 0.2980\n",
            "Epoch 46/100\n",
            "213/213 [==============================] - 1s 5ms/step - loss: 0.0614 - accuracy: 0.7920 - val_loss: 0.2278 - val_accuracy: 0.2874\n",
            "Epoch 47/100\n",
            "213/213 [==============================] - 1s 3ms/step - loss: 0.0611 - accuracy: 0.7967 - val_loss: 0.2259 - val_accuracy: 0.3027\n",
            "Epoch 48/100\n",
            "213/213 [==============================] - 1s 4ms/step - loss: 0.0611 - accuracy: 0.7945 - val_loss: 0.2271 - val_accuracy: 0.3004\n",
            "Epoch 49/100\n",
            "213/213 [==============================] - 1s 4ms/step - loss: 0.0608 - accuracy: 0.7920 - val_loss: 0.2274 - val_accuracy: 0.3051\n",
            "Epoch 50/100\n",
            "213/213 [==============================] - 1s 3ms/step - loss: 0.0610 - accuracy: 0.7924 - val_loss: 0.2264 - val_accuracy: 0.3004\n",
            "Epoch 51/100\n",
            "213/213 [==============================] - 1s 4ms/step - loss: 0.0605 - accuracy: 0.7956 - val_loss: 0.2265 - val_accuracy: 0.3074\n",
            "Epoch 52/100\n",
            "213/213 [==============================] - 1s 3ms/step - loss: 0.0605 - accuracy: 0.7951 - val_loss: 0.2271 - val_accuracy: 0.3027\n",
            "Epoch 53/100\n",
            "213/213 [==============================] - 1s 3ms/step - loss: 0.0601 - accuracy: 0.7961 - val_loss: 0.2279 - val_accuracy: 0.2992\n",
            "Epoch 54/100\n",
            "213/213 [==============================] - 1s 4ms/step - loss: 0.0601 - accuracy: 0.7958 - val_loss: 0.2273 - val_accuracy: 0.2968\n",
            "Epoch 55/100\n",
            "213/213 [==============================] - 1s 3ms/step - loss: 0.0601 - accuracy: 0.7959 - val_loss: 0.2270 - val_accuracy: 0.2956\n",
            "Epoch 56/100\n",
            "213/213 [==============================] - 1s 4ms/step - loss: 0.0595 - accuracy: 0.7977 - val_loss: 0.2261 - val_accuracy: 0.3051\n",
            "Epoch 57/100\n",
            "213/213 [==============================] - 1s 3ms/step - loss: 0.0600 - accuracy: 0.7934 - val_loss: 0.2260 - val_accuracy: 0.3004\n",
            "Epoch 58/100\n",
            "213/213 [==============================] - 1s 4ms/step - loss: 0.0601 - accuracy: 0.7937 - val_loss: 0.2262 - val_accuracy: 0.3086\n",
            "Epoch 59/100\n",
            "213/213 [==============================] - 1s 4ms/step - loss: 0.0592 - accuracy: 0.7983 - val_loss: 0.2268 - val_accuracy: 0.3004\n",
            "Epoch 60/100\n",
            "213/213 [==============================] - 1s 6ms/step - loss: 0.0599 - accuracy: 0.7949 - val_loss: 0.2287 - val_accuracy: 0.3015\n",
            "Epoch 61/100\n",
            "213/213 [==============================] - 1s 6ms/step - loss: 0.0595 - accuracy: 0.7970 - val_loss: 0.2258 - val_accuracy: 0.3027\n",
            "Epoch 62/100\n",
            "213/213 [==============================] - 1s 5ms/step - loss: 0.0592 - accuracy: 0.8001 - val_loss: 0.2267 - val_accuracy: 0.3051\n",
            "Epoch 63/100\n",
            "213/213 [==============================] - 1s 4ms/step - loss: 0.0587 - accuracy: 0.7989 - val_loss: 0.2272 - val_accuracy: 0.3098\n",
            "Epoch 64/100\n",
            "213/213 [==============================] - 1s 5ms/step - loss: 0.0587 - accuracy: 0.8006 - val_loss: 0.2255 - val_accuracy: 0.3121\n",
            "Epoch 65/100\n",
            "213/213 [==============================] - 1s 5ms/step - loss: 0.0588 - accuracy: 0.7989 - val_loss: 0.2277 - val_accuracy: 0.3039\n",
            "Epoch 66/100\n",
            "213/213 [==============================] - 1s 6ms/step - loss: 0.0584 - accuracy: 0.8008 - val_loss: 0.2282 - val_accuracy: 0.2956\n",
            "Epoch 67/100\n",
            "213/213 [==============================] - 1s 4ms/step - loss: 0.0589 - accuracy: 0.7983 - val_loss: 0.2289 - val_accuracy: 0.3004\n",
            "Epoch 68/100\n",
            "213/213 [==============================] - 1s 3ms/step - loss: 0.0583 - accuracy: 0.8008 - val_loss: 0.2282 - val_accuracy: 0.3039\n",
            "Epoch 69/100\n",
            "213/213 [==============================] - 1s 3ms/step - loss: 0.0584 - accuracy: 0.8002 - val_loss: 0.2256 - val_accuracy: 0.3074\n",
            "Epoch 70/100\n",
            "213/213 [==============================] - 1s 4ms/step - loss: 0.0581 - accuracy: 0.8009 - val_loss: 0.2259 - val_accuracy: 0.3145\n",
            "Epoch 71/100\n",
            "213/213 [==============================] - 1s 4ms/step - loss: 0.0580 - accuracy: 0.8009 - val_loss: 0.2259 - val_accuracy: 0.3062\n",
            "Epoch 72/100\n",
            "213/213 [==============================] - 1s 4ms/step - loss: 0.0581 - accuracy: 0.8006 - val_loss: 0.2274 - val_accuracy: 0.3074\n",
            "Epoch 73/100\n",
            "213/213 [==============================] - 1s 4ms/step - loss: 0.0580 - accuracy: 0.8042 - val_loss: 0.2290 - val_accuracy: 0.2933\n",
            "Epoch 74/100\n",
            "213/213 [==============================] - 1s 5ms/step - loss: 0.0580 - accuracy: 0.7989 - val_loss: 0.2281 - val_accuracy: 0.3074\n",
            "Epoch 75/100\n",
            "213/213 [==============================] - 1s 6ms/step - loss: 0.0575 - accuracy: 0.8032 - val_loss: 0.2276 - val_accuracy: 0.3086\n",
            "Epoch 76/100\n",
            "213/213 [==============================] - 1s 6ms/step - loss: 0.0575 - accuracy: 0.8023 - val_loss: 0.2284 - val_accuracy: 0.3039\n",
            "Epoch 77/100\n",
            "213/213 [==============================] - 1s 4ms/step - loss: 0.0575 - accuracy: 0.8029 - val_loss: 0.2262 - val_accuracy: 0.3121\n",
            "Epoch 78/100\n",
            "213/213 [==============================] - 1s 3ms/step - loss: 0.0573 - accuracy: 0.8042 - val_loss: 0.2280 - val_accuracy: 0.3004\n",
            "Epoch 79/100\n",
            "213/213 [==============================] - 1s 4ms/step - loss: 0.0575 - accuracy: 0.7999 - val_loss: 0.2282 - val_accuracy: 0.3004\n",
            "Epoch 80/100\n",
            "213/213 [==============================] - 1s 3ms/step - loss: 0.0574 - accuracy: 0.8011 - val_loss: 0.2285 - val_accuracy: 0.3098\n",
            "Epoch 81/100\n",
            "213/213 [==============================] - 1s 4ms/step - loss: 0.0573 - accuracy: 0.8024 - val_loss: 0.2284 - val_accuracy: 0.3074\n",
            "Epoch 82/100\n",
            "213/213 [==============================] - 1s 4ms/step - loss: 0.0572 - accuracy: 0.8018 - val_loss: 0.2276 - val_accuracy: 0.3039\n",
            "Epoch 83/100\n",
            "213/213 [==============================] - 1s 3ms/step - loss: 0.0571 - accuracy: 0.7989 - val_loss: 0.2290 - val_accuracy: 0.2933\n",
            "Epoch 84/100\n",
            "213/213 [==============================] - 1s 4ms/step - loss: 0.0569 - accuracy: 0.8045 - val_loss: 0.2285 - val_accuracy: 0.3062\n",
            "Epoch 85/100\n",
            "213/213 [==============================] - 1s 3ms/step - loss: 0.0569 - accuracy: 0.8029 - val_loss: 0.2301 - val_accuracy: 0.2968\n",
            "Epoch 86/100\n",
            "213/213 [==============================] - 1s 4ms/step - loss: 0.0568 - accuracy: 0.8033 - val_loss: 0.2299 - val_accuracy: 0.2898\n",
            "Epoch 87/100\n",
            "213/213 [==============================] - 1s 4ms/step - loss: 0.0567 - accuracy: 0.8017 - val_loss: 0.2290 - val_accuracy: 0.2992\n",
            "Epoch 88/100\n",
            "213/213 [==============================] - 1s 4ms/step - loss: 0.0569 - accuracy: 0.7999 - val_loss: 0.2288 - val_accuracy: 0.2980\n",
            "Epoch 89/100\n",
            "213/213 [==============================] - 1s 4ms/step - loss: 0.0565 - accuracy: 0.8040 - val_loss: 0.2300 - val_accuracy: 0.2980\n",
            "Epoch 90/100\n",
            "213/213 [==============================] - 1s 6ms/step - loss: 0.0567 - accuracy: 0.8018 - val_loss: 0.2278 - val_accuracy: 0.3051\n",
            "Epoch 91/100\n",
            "213/213 [==============================] - 1s 5ms/step - loss: 0.0565 - accuracy: 0.8020 - val_loss: 0.2285 - val_accuracy: 0.3062\n",
            "Epoch 92/100\n",
            "213/213 [==============================] - 1s 6ms/step - loss: 0.0563 - accuracy: 0.8051 - val_loss: 0.2279 - val_accuracy: 0.3145\n",
            "Epoch 93/100\n",
            "213/213 [==============================] - 1s 4ms/step - loss: 0.0558 - accuracy: 0.8043 - val_loss: 0.2290 - val_accuracy: 0.3062\n",
            "Epoch 94/100\n",
            "213/213 [==============================] - 1s 4ms/step - loss: 0.0564 - accuracy: 0.8023 - val_loss: 0.2294 - val_accuracy: 0.3098\n",
            "Epoch 95/100\n",
            "213/213 [==============================] - 1s 4ms/step - loss: 0.0562 - accuracy: 0.8021 - val_loss: 0.2289 - val_accuracy: 0.3004\n",
            "Epoch 96/100\n",
            "213/213 [==============================] - 1s 4ms/step - loss: 0.0563 - accuracy: 0.8051 - val_loss: 0.2294 - val_accuracy: 0.3074\n",
            "Epoch 97/100\n",
            "213/213 [==============================] - 1s 4ms/step - loss: 0.0560 - accuracy: 0.8026 - val_loss: 0.2286 - val_accuracy: 0.3110\n",
            "Epoch 98/100\n",
            "213/213 [==============================] - 1s 4ms/step - loss: 0.0561 - accuracy: 0.8040 - val_loss: 0.2287 - val_accuracy: 0.3074\n",
            "Epoch 99/100\n",
            "213/213 [==============================] - 1s 4ms/step - loss: 0.0558 - accuracy: 0.8024 - val_loss: 0.2282 - val_accuracy: 0.3145\n",
            "Epoch 100/100\n",
            "213/213 [==============================] - 1s 4ms/step - loss: 0.0556 - accuracy: 0.8067 - val_loss: 0.2293 - val_accuracy: 0.3015\n"
          ]
        },
        {
          "output_type": "execute_result",
          "data": {
            "text/plain": [
              "<keras.callbacks.History at 0x7f63be28bc10>"
            ]
          },
          "metadata": {},
          "execution_count": 71
        }
      ]
    },
    {
      "cell_type": "code",
      "source": [
        "predictions = model.predict(x_test)\n",
        "\n",
        "print(predictions)"
      ],
      "metadata": {
        "colab": {
          "base_uri": "https://localhost:8080/"
        },
        "id": "P3t6NXzG69Fj",
        "outputId": "444b16c3-d1d8-4423-9c7f-8d13c74c9907"
      },
      "execution_count": null,
      "outputs": [
        {
          "output_type": "stream",
          "name": "stdout",
          "text": [
            "27/27 [==============================] - 0s 1ms/step\n",
            "[[0.20768654 0.23592079 0.20434242 0.20928703 0.14276324]\n",
            " [0.12084157 0.17709735 0.25456697 0.26604295 0.18145119]\n",
            " [0.11567441 0.17364658 0.23267743 0.27564678 0.20235483]\n",
            " ...\n",
            " [0.15599605 0.21838142 0.20119074 0.226977   0.19745478]\n",
            " [0.07854382 0.14071715 0.215215   0.2919753  0.27354878]\n",
            " [0.3027655  0.26893333 0.17890342 0.16088298 0.08851482]]\n"
          ]
        }
      ]
    },
    {
      "cell_type": "code",
      "source": [
        "y_test[:3]"
      ],
      "metadata": {
        "colab": {
          "base_uri": "https://localhost:8080/"
        },
        "id": "-lPOECL87A_X",
        "outputId": "c4f0045c-0d45-44c2-c874-57f501827407"
      },
      "execution_count": null,
      "outputs": [
        {
          "output_type": "execute_result",
          "data": {
            "text/plain": [
              "array([[0., 1., 0., 0., 0.],\n",
              "       [0., 0., 1., 0., 0.],\n",
              "       [1., 0., 0., 0., 0.]])"
            ]
          },
          "metadata": {},
          "execution_count": 23
        }
      ]
    },
    {
      "cell_type": "code",
      "source": [
        "ct = 0\n",
        "\n",
        "for it, pred in enumerate(predictions):\n",
        "  ind = 0\n",
        "  mx = pred[0]\n",
        "  for i, p in enumerate(pred):\n",
        "    if p>mx:\n",
        "      mx = p\n",
        "      ind = i\n",
        "  if y_test[it][ind]==1.0:\n",
        "    ct+=1\n",
        "\n",
        "print(ct/len(predictions))"
      ],
      "metadata": {
        "colab": {
          "base_uri": "https://localhost:8080/"
        },
        "id": "eT_qftFH7FtG",
        "outputId": "53d65868-eb43-432c-c02d-41c5cf393646"
      },
      "execution_count": null,
      "outputs": [
        {
          "output_type": "stream",
          "name": "stdout",
          "text": [
            "0.27326266195524146\n"
          ]
        }
      ]
    },
    {
      "cell_type": "code",
      "source": [
        "loss, accuracy = model.evaluate(x_test, y_test)"
      ],
      "metadata": {
        "colab": {
          "base_uri": "https://localhost:8080/"
        },
        "id": "IOkdkuaY7JNj",
        "outputId": "556ac13e-e031-4ae3-9e7d-b7e012b46f1b"
      },
      "execution_count": null,
      "outputs": [
        {
          "output_type": "stream",
          "name": "stdout",
          "text": [
            "27/27 [==============================] - 0s 3ms/step - loss: 1.5559 - accuracy: 0.2733\n"
          ]
        }
      ]
    },
    {
      "cell_type": "markdown",
      "source": [
        "RNN"
      ],
      "metadata": {
        "id": "CKDbbmKr6Ee_"
      }
    },
    {
      "cell_type": "code",
      "source": [
        "# Define the model architecture\n",
        "model = tf.keras.Sequential([\n",
        "    # Reshape layer to add the time_steps dimension\n",
        "    tf.keras.layers.Reshape((1, 4), input_shape=(4,)),\n",
        "    # SimpleRNN layer with 32 units, 'tanh' activation, and input shape (None, 1, 4)\n",
        "    tf.keras.layers.SimpleRNN(32, activation='tanh', input_shape=(1, 4)),\n",
        "    # Dense fully connected layer with 16 units and 'relu' activation\n",
        "    tf.keras.layers.Dense(16, activation='relu'),\n",
        "    # Output layer with 5 units for 5-class classification and 'softmax' activation\n",
        "    tf.keras.layers.Dense(5, activation='softmax')\n",
        "])\n",
        "\n",
        "# Compile the model\n",
        "model.compile(optimizer='adam', loss='categorical_crossentropy', metrics=['accuracy'])\n",
        "\n",
        "model.summary()"
      ],
      "metadata": {
        "id": "HcfNeyeczvJ6",
        "colab": {
          "base_uri": "https://localhost:8080/"
        },
        "outputId": "5f54c930-da43-4176-db21-e4c594890b15"
      },
      "execution_count": null,
      "outputs": [
        {
          "output_type": "stream",
          "name": "stdout",
          "text": [
            "Model: \"sequential_26\"\n",
            "_________________________________________________________________\n",
            " Layer (type)                Output Shape              Param #   \n",
            "=================================================================\n",
            " reshape_3 (Reshape)         (None, 1, 4)              0         \n",
            "                                                                 \n",
            " simple_rnn_5 (SimpleRNN)    (None, 32)                1184      \n",
            "                                                                 \n",
            " dense_53 (Dense)            (None, 16)                528       \n",
            "                                                                 \n",
            " dense_54 (Dense)            (None, 5)                 85        \n",
            "                                                                 \n",
            "=================================================================\n",
            "Total params: 1,797\n",
            "Trainable params: 1,797\n",
            "Non-trainable params: 0\n",
            "_________________________________________________________________\n"
          ]
        }
      ]
    },
    {
      "cell_type": "code",
      "source": [
        "model.fit(x_train, y_train, batch_size=32, epochs=20, validation_data=(x_valid, y_valid))"
      ],
      "metadata": {
        "colab": {
          "base_uri": "https://localhost:8080/"
        },
        "id": "grKx68_U7xhg",
        "outputId": "26188ba5-84c9-450e-91ab-fac9586adf04"
      },
      "execution_count": null,
      "outputs": [
        {
          "output_type": "stream",
          "name": "stdout",
          "text": [
            "Epoch 1/20\n",
            "213/213 [==============================] - 3s 6ms/step - loss: 1.5832 - accuracy: 0.2488 - val_loss: 1.5676 - val_accuracy: 0.2391\n",
            "Epoch 2/20\n",
            "213/213 [==============================] - 1s 5ms/step - loss: 1.5601 - accuracy: 0.2750 - val_loss: 1.5584 - val_accuracy: 0.2686\n",
            "Epoch 3/20\n",
            "213/213 [==============================] - 1s 5ms/step - loss: 1.5570 - accuracy: 0.2780 - val_loss: 1.5539 - val_accuracy: 0.2674\n",
            "Epoch 4/20\n",
            "213/213 [==============================] - 1s 5ms/step - loss: 1.5555 - accuracy: 0.2769 - val_loss: 1.5533 - val_accuracy: 0.2627\n",
            "Epoch 5/20\n",
            "213/213 [==============================] - 1s 5ms/step - loss: 1.5539 - accuracy: 0.2789 - val_loss: 1.5486 - val_accuracy: 0.2709\n",
            "Epoch 6/20\n",
            "213/213 [==============================] - 1s 5ms/step - loss: 1.5527 - accuracy: 0.2759 - val_loss: 1.5478 - val_accuracy: 0.2697\n",
            "Epoch 7/20\n",
            "213/213 [==============================] - 1s 7ms/step - loss: 1.5523 - accuracy: 0.2777 - val_loss: 1.5476 - val_accuracy: 0.2733\n",
            "Epoch 8/20\n",
            "213/213 [==============================] - 2s 8ms/step - loss: 1.5520 - accuracy: 0.2775 - val_loss: 1.5489 - val_accuracy: 0.2650\n",
            "Epoch 9/20\n",
            "213/213 [==============================] - 1s 7ms/step - loss: 1.5505 - accuracy: 0.2784 - val_loss: 1.5482 - val_accuracy: 0.2768\n",
            "Epoch 10/20\n",
            "213/213 [==============================] - 1s 5ms/step - loss: 1.5502 - accuracy: 0.2806 - val_loss: 1.5455 - val_accuracy: 0.2603\n",
            "Epoch 11/20\n",
            "213/213 [==============================] - 1s 4ms/step - loss: 1.5494 - accuracy: 0.2769 - val_loss: 1.5452 - val_accuracy: 0.2792\n",
            "Epoch 12/20\n",
            "213/213 [==============================] - 1s 5ms/step - loss: 1.5486 - accuracy: 0.2818 - val_loss: 1.5437 - val_accuracy: 0.2744\n",
            "Epoch 13/20\n",
            "213/213 [==============================] - 1s 5ms/step - loss: 1.5479 - accuracy: 0.2827 - val_loss: 1.5451 - val_accuracy: 0.2803\n",
            "Epoch 14/20\n",
            "213/213 [==============================] - 1s 5ms/step - loss: 1.5473 - accuracy: 0.2806 - val_loss: 1.5457 - val_accuracy: 0.2839\n",
            "Epoch 15/20\n",
            "213/213 [==============================] - 1s 5ms/step - loss: 1.5467 - accuracy: 0.2839 - val_loss: 1.5437 - val_accuracy: 0.2839\n",
            "Epoch 16/20\n",
            "213/213 [==============================] - 1s 5ms/step - loss: 1.5463 - accuracy: 0.2799 - val_loss: 1.5458 - val_accuracy: 0.2839\n",
            "Epoch 17/20\n",
            "213/213 [==============================] - 1s 5ms/step - loss: 1.5460 - accuracy: 0.2806 - val_loss: 1.5449 - val_accuracy: 0.2827\n",
            "Epoch 18/20\n",
            "213/213 [==============================] - 1s 5ms/step - loss: 1.5452 - accuracy: 0.2824 - val_loss: 1.5412 - val_accuracy: 0.2898\n",
            "Epoch 19/20\n",
            "213/213 [==============================] - 1s 6ms/step - loss: 1.5450 - accuracy: 0.2878 - val_loss: 1.5444 - val_accuracy: 0.2921\n",
            "Epoch 20/20\n",
            "213/213 [==============================] - 2s 7ms/step - loss: 1.5448 - accuracy: 0.2831 - val_loss: 1.5428 - val_accuracy: 0.2827\n"
          ]
        },
        {
          "output_type": "execute_result",
          "data": {
            "text/plain": [
              "<keras.callbacks.History at 0x7f209ca6ab50>"
            ]
          },
          "metadata": {},
          "execution_count": 94
        }
      ]
    },
    {
      "cell_type": "markdown",
      "source": [
        "LSTM"
      ],
      "metadata": {
        "id": "2C1SSqfg6WH-"
      }
    },
    {
      "cell_type": "code",
      "source": [
        "# Define the model architecture\n",
        "model = tf.keras.Sequential([\n",
        "    # Reshape input to have shape (batch_size, time_steps, num_features)\n",
        "    tf.keras.layers.Reshape(target_shape=(1, 4), input_shape=(4,)),\n",
        "    # LSTM layer with 32 units and 'relu' activation\n",
        "    tf.keras.layers.LSTM(32, activation='relu'),\n",
        "    # Dense fully connected layer with 16 units and 'relu' activation\n",
        "    tf.keras.layers.Dense(16, activation='relu'),\n",
        "    # Output layer with 5 units for 5-class classification and 'softmax' activation\n",
        "    tf.keras.layers.Dense(5, activation='softmax')\n",
        "])\n",
        "\n",
        "# Compile the model\n",
        "model.compile(optimizer='adam', loss='categorical_crossentropy', metrics=['accuracy'])\n",
        "model.summary()\n"
      ],
      "metadata": {
        "id": "QqxWinog6LKC",
        "colab": {
          "base_uri": "https://localhost:8080/"
        },
        "outputId": "638fe219-8710-4013-fd2c-09d12fa8e5c4"
      },
      "execution_count": null,
      "outputs": [
        {
          "output_type": "stream",
          "name": "stderr",
          "text": [
            "WARNING:tensorflow:Layer lstm_4 will not use cuDNN kernels since it doesn't meet the criteria. It will use a generic GPU kernel as fallback when running on GPU.\n"
          ]
        },
        {
          "output_type": "stream",
          "name": "stdout",
          "text": [
            "Model: \"sequential_29\"\n",
            "_________________________________________________________________\n",
            " Layer (type)                Output Shape              Param #   \n",
            "=================================================================\n",
            " reshape_4 (Reshape)         (None, 1, 4)              0         \n",
            "                                                                 \n",
            " lstm_4 (LSTM)               (None, 32)                4736      \n",
            "                                                                 \n",
            " dense_59 (Dense)            (None, 16)                528       \n",
            "                                                                 \n",
            " dense_60 (Dense)            (None, 5)                 85        \n",
            "                                                                 \n",
            "=================================================================\n",
            "Total params: 5,349\n",
            "Trainable params: 5,349\n",
            "Non-trainable params: 0\n",
            "_________________________________________________________________\n"
          ]
        }
      ]
    },
    {
      "cell_type": "code",
      "source": [
        "model.fit(x_train, y_train, batch_size=32, epochs=20, validation_data=(x_valid, y_valid))"
      ],
      "metadata": {
        "colab": {
          "base_uri": "https://localhost:8080/"
        },
        "id": "4jrztOLM8wCS",
        "outputId": "1367f422-f94e-4e56-d5fb-4ab230764ef0"
      },
      "execution_count": null,
      "outputs": [
        {
          "output_type": "stream",
          "name": "stdout",
          "text": [
            "Epoch 1/20\n",
            "213/213 [==============================] - 4s 8ms/step - loss: 1.5972 - accuracy: 0.2550 - val_loss: 1.5899 - val_accuracy: 0.2403\n",
            "Epoch 2/20\n",
            "213/213 [==============================] - 1s 6ms/step - loss: 1.5758 - accuracy: 0.2653 - val_loss: 1.5638 - val_accuracy: 0.2615\n",
            "Epoch 3/20\n",
            "213/213 [==============================] - 1s 6ms/step - loss: 1.5576 - accuracy: 0.2705 - val_loss: 1.5555 - val_accuracy: 0.2686\n",
            "Epoch 4/20\n",
            "213/213 [==============================] - 1s 6ms/step - loss: 1.5547 - accuracy: 0.2731 - val_loss: 1.5548 - val_accuracy: 0.2686\n",
            "Epoch 5/20\n",
            "213/213 [==============================] - 2s 11ms/step - loss: 1.5529 - accuracy: 0.2728 - val_loss: 1.5542 - val_accuracy: 0.2650\n",
            "Epoch 6/20\n",
            "213/213 [==============================] - 2s 9ms/step - loss: 1.5522 - accuracy: 0.2780 - val_loss: 1.5542 - val_accuracy: 0.2686\n",
            "Epoch 7/20\n",
            "213/213 [==============================] - 1s 6ms/step - loss: 1.5520 - accuracy: 0.2766 - val_loss: 1.5518 - val_accuracy: 0.2721\n",
            "Epoch 8/20\n",
            "213/213 [==============================] - 1s 6ms/step - loss: 1.5512 - accuracy: 0.2768 - val_loss: 1.5513 - val_accuracy: 0.2733\n",
            "Epoch 9/20\n",
            "213/213 [==============================] - 1s 7ms/step - loss: 1.5505 - accuracy: 0.2812 - val_loss: 1.5498 - val_accuracy: 0.2686\n",
            "Epoch 10/20\n",
            "213/213 [==============================] - 1s 6ms/step - loss: 1.5500 - accuracy: 0.2775 - val_loss: 1.5498 - val_accuracy: 0.2768\n",
            "Epoch 11/20\n",
            "213/213 [==============================] - 1s 6ms/step - loss: 1.5497 - accuracy: 0.2805 - val_loss: 1.5499 - val_accuracy: 0.2839\n",
            "Epoch 12/20\n",
            "213/213 [==============================] - 1s 6ms/step - loss: 1.5495 - accuracy: 0.2805 - val_loss: 1.5492 - val_accuracy: 0.2780\n",
            "Epoch 13/20\n",
            "213/213 [==============================] - 1s 7ms/step - loss: 1.5488 - accuracy: 0.2793 - val_loss: 1.5510 - val_accuracy: 0.2839\n",
            "Epoch 14/20\n",
            "213/213 [==============================] - 2s 11ms/step - loss: 1.5488 - accuracy: 0.2840 - val_loss: 1.5480 - val_accuracy: 0.2803\n",
            "Epoch 15/20\n",
            "213/213 [==============================] - 2s 10ms/step - loss: 1.5481 - accuracy: 0.2817 - val_loss: 1.5474 - val_accuracy: 0.2744\n",
            "Epoch 16/20\n",
            "213/213 [==============================] - 1s 6ms/step - loss: 1.5479 - accuracy: 0.2859 - val_loss: 1.5473 - val_accuracy: 0.2709\n",
            "Epoch 17/20\n",
            "213/213 [==============================] - 1s 6ms/step - loss: 1.5472 - accuracy: 0.2837 - val_loss: 1.5470 - val_accuracy: 0.2721\n",
            "Epoch 18/20\n",
            "213/213 [==============================] - 1s 6ms/step - loss: 1.5472 - accuracy: 0.2868 - val_loss: 1.5455 - val_accuracy: 0.2815\n",
            "Epoch 19/20\n",
            "213/213 [==============================] - 1s 6ms/step - loss: 1.5469 - accuracy: 0.2817 - val_loss: 1.5456 - val_accuracy: 0.2803\n",
            "Epoch 20/20\n",
            "213/213 [==============================] - 1s 6ms/step - loss: 1.5465 - accuracy: 0.2862 - val_loss: 1.5435 - val_accuracy: 0.2792\n"
          ]
        },
        {
          "output_type": "execute_result",
          "data": {
            "text/plain": [
              "<keras.callbacks.History at 0x7f20a04b22b0>"
            ]
          },
          "metadata": {},
          "execution_count": 100
        }
      ]
    },
    {
      "cell_type": "markdown",
      "source": [
        "GRU"
      ],
      "metadata": {
        "id": "cdfDWQSlKVci"
      }
    },
    {
      "cell_type": "code",
      "source": [
        "import torch\n",
        "import numpy as np\n",
        "from transformers import AutoModel, AutoTokenizer\n",
        "from sklearn.decomposition import PCA\n",
        "\n",
        "# Load the ai4bharat/indic-bert model and tokenizer\n",
        "model_name = \"ai4bharat/indic-bert\"\n",
        "tokenizer = AutoTokenizer.from_pretrained(model_name)\n",
        "model = AutoModel.from_pretrained(model_name)\n",
        "\n",
        "def get_embedding(sentence):\n",
        "  # Tokenize a Hindi sentence\n",
        "  # sentence = \"मैं भारत से प्यार करता हूँ\"\n",
        "  tokens = trivial_tokenize(sentence, lang='hi')\n",
        "\n",
        "  # Convert tokens to token IDs and add special tokens\n",
        "  tokens_with_special = tokenizer.build_inputs_with_special_tokens(tokenizer.convert_tokens_to_ids(tokens))\n",
        "\n",
        "  # Convert token IDs to a tensor\n",
        "  tokens_tensor = torch.tensor([tokens_with_special])\n",
        "\n",
        "  # Generate BERT embeddings for the tokens\n",
        "  with torch.no_grad():\n",
        "      outputs = model(tokens_tensor)\n",
        "      embeddings = outputs.last_hidden_state  # shape: (1, seq_len, hidden_size)\n",
        "\n",
        "  # Average the token-level embeddings across the entire sentence\n",
        "  sentence_embedding = torch.mean(embeddings, dim=1)  # shape: (1, hidden_size)\n",
        "\n",
        "  # Convert the tensor to a numpy array\n",
        "  sentence_embedding = sentence_embedding.squeeze().numpy()\n",
        "\n",
        "  return sentence_embedding"
      ],
      "metadata": {
        "colab": {
          "base_uri": "https://localhost:8080/",
          "height": 185,
          "referenced_widgets": [
            "bfe503fb9eb04c84821b0a4623c75545",
            "ae38db148d9e4e4faf08d079ca2f9807",
            "33479f21cf6e4f788b8feb83297ac134",
            "cd7af600ce9f471eaf35b1c1a2be143c",
            "bd9c354621b14d4fa29e97d65a8d0bf6",
            "41e75b68699e4a928b462d74c882845b",
            "8a070cac11ca4ea29fea83878d8412f8",
            "748d77c76eaf4ccea506c721044f41c4",
            "6f6218811e744369a025af2e0b627898",
            "dd154de8149b4013aa5a5805936b0378",
            "f84e21fa60bc446ebcfcb34b84ef4f4c",
            "8036d7fe096543a3b349f6cedfca8c30",
            "2b998426faaf46ce98ba56765e171433",
            "2bb99ca7160143788c1cedac26f018d0",
            "0a8f822981324e8f8258b63a7091944a",
            "400016815095411a81814acbedcca64e",
            "b5ecdac54dd1445e85f77f8908a82594",
            "a1ceeeb576454ce199d7e4f3d455e920",
            "e2015e12958b49f8b6f0bfc24cff12dc",
            "4e59e9b8cb554f208fad9c5cd637988d",
            "ad3d603407b84569afc5fb1420679609",
            "9cbc4eb47e574d99bdf6c1d0f18f652f",
            "9fc9b56e0a8a45e7871fed521a9be224",
            "2935f288fb0f4cb18a475340ba60b147",
            "7cf4ef23d4474f28b34ed7a59f2a0a2d",
            "3e5628b6f1bd491b822b71d0170b9c0e",
            "56eba8ca56a74b4a982d66fd375b70e2",
            "77259a8cd1304638a00165d580f1e832",
            "c70160fcbebd458aa8940ab4df80e7a8",
            "3aff0a2e9ae34bcb8cfa52e66a59db92",
            "ff37fc6cc15e4d34849328f7d7233b1d",
            "33c2bffdd0974d7da33e2a4a3263b72b",
            "43f3ae9e665342f28b945d57f3ca67bd"
          ]
        },
        "id": "QSqTpPcUiwuJ",
        "outputId": "30bfea8f-8e4c-4050-9892-697762f7047d"
      },
      "execution_count": 19,
      "outputs": [
        {
          "output_type": "display_data",
          "data": {
            "text/plain": [
              "Downloading (…)lve/main/config.json:   0%|          | 0.00/507 [00:00<?, ?B/s]"
            ],
            "application/vnd.jupyter.widget-view+json": {
              "version_major": 2,
              "version_minor": 0,
              "model_id": "bfe503fb9eb04c84821b0a4623c75545"
            }
          },
          "metadata": {}
        },
        {
          "output_type": "display_data",
          "data": {
            "text/plain": [
              "Downloading (…)ve/main/spiece.model:   0%|          | 0.00/5.65M [00:00<?, ?B/s]"
            ],
            "application/vnd.jupyter.widget-view+json": {
              "version_major": 2,
              "version_minor": 0,
              "model_id": "8036d7fe096543a3b349f6cedfca8c30"
            }
          },
          "metadata": {}
        },
        {
          "output_type": "display_data",
          "data": {
            "text/plain": [
              "Downloading pytorch_model.bin:   0%|          | 0.00/135M [00:00<?, ?B/s]"
            ],
            "application/vnd.jupyter.widget-view+json": {
              "version_major": 2,
              "version_minor": 0,
              "model_id": "9fc9b56e0a8a45e7871fed521a9be224"
            }
          },
          "metadata": {}
        },
        {
          "output_type": "stream",
          "name": "stderr",
          "text": [
            "Some weights of the model checkpoint at ai4bharat/indic-bert were not used when initializing AlbertModel: ['predictions.bias', 'predictions.LayerNorm.weight', 'predictions.decoder.weight', 'sop_classifier.classifier.bias', 'predictions.decoder.bias', 'predictions.dense.weight', 'sop_classifier.classifier.weight', 'predictions.dense.bias', 'predictions.LayerNorm.bias']\n",
            "- This IS expected if you are initializing AlbertModel from the checkpoint of a model trained on another task or with another architecture (e.g. initializing a BertForSequenceClassification model from a BertForPreTraining model).\n",
            "- This IS NOT expected if you are initializing AlbertModel from the checkpoint of a model that you expect to be exactly identical (initializing a BertForSequenceClassification model from a BertForSequenceClassification model).\n"
          ]
        }
      ]
    },
    {
      "cell_type": "code",
      "source": [
        "x = []\n",
        "for i in range(len(annotations)):\n",
        "  temp = []\n",
        "  temp.extend(get_embedding(refs[i]))\n",
        "  temp.extend(get_embedding(cands[i]))\n",
        "  x.append(temp)\n",
        "  # if (i+1)%1000==0:\n",
        "  #   print(i)"
      ],
      "metadata": {
        "id": "nhQeXOPhi4T8"
      },
      "execution_count": null,
      "outputs": []
    },
    {
      "cell_type": "code",
      "source": [
        "from google.colab import drive\n",
        "drive.mount('/content/drive')"
      ],
      "metadata": {
        "colab": {
          "base_uri": "https://localhost:8080/"
        },
        "id": "SmHQAQ8Lje4F",
        "outputId": "6087ba54-fda1-4e0c-afbe-1561792fe2e5"
      },
      "execution_count": 20,
      "outputs": [
        {
          "output_type": "stream",
          "name": "stdout",
          "text": [
            "Mounted at /content/drive\n"
          ]
        }
      ]
    },
    {
      "cell_type": "code",
      "source": [
        "annotations = y"
      ],
      "metadata": {
        "id": "rJmzJxtljVSn"
      },
      "execution_count": 22,
      "outputs": []
    },
    {
      "cell_type": "code",
      "source": [
        "refs = X[:,0]\n",
        "cands = X[:,1]"
      ],
      "metadata": {
        "id": "zJHh8rttjWlH"
      },
      "execution_count": null,
      "outputs": []
    },
    {
      "cell_type": "code",
      "source": [
        "write_list(x, 'embeddings')"
      ],
      "metadata": {
        "id": "XaneTOD4jp2M"
      },
      "execution_count": null,
      "outputs": []
    },
    {
      "cell_type": "code",
      "source": [
        "x = read_list('/content/drive/MyDrive/embeddings')"
      ],
      "metadata": {
        "id": "WWhT_05CjR1v"
      },
      "execution_count": 23,
      "outputs": []
    },
    {
      "cell_type": "code",
      "source": [
        "pca = PCA(n_components=700)\n",
        "x = pca.fit_transform(x)"
      ],
      "metadata": {
        "id": "XeR_9YCgrvRx"
      },
      "execution_count": 24,
      "outputs": []
    },
    {
      "cell_type": "code",
      "source": [
        "F = read_list('F_bert_scores_8490_WMT14')\n",
        "bleu_scores = read_list('bleu_scores_8490_WMT14')\n",
        "normalized_ter = read_list('normalized_ter_scores_8490_WMT14')\n",
        "m_scores = read_list('m_scores_8490_WMT14')"
      ],
      "metadata": {
        "id": "3vAstJqArvy7"
      },
      "execution_count": 25,
      "outputs": []
    },
    {
      "cell_type": "code",
      "source": [
        "x_temp = np.zeros((n, 704))\n",
        "x_temp[:, 0] = F\n",
        "x_temp[:, 1] = bleu_scores\n",
        "x_temp[:, 2] = normalized_ter\n",
        "x_temp[:, 3] = m_scores\n",
        "x_temp[:,4:] = x\n",
        "x_temp[0]\n"
      ],
      "metadata": {
        "colab": {
          "base_uri": "https://localhost:8080/"
        },
        "id": "MUMKFnxGsGYK",
        "outputId": "952a96b1-4069-4421-d35d-720e95bbcd62"
      },
      "execution_count": 26,
      "outputs": [
        {
          "output_type": "execute_result",
          "data": {
            "text/plain": [
              "array([ 6.82661891e-01,  4.00058375e-01,  3.33333333e-01,  5.40265036e-01,\n",
              "        2.37854300e+00,  1.97985718e-02,  1.03308455e+00, -3.56657681e-02,\n",
              "        1.01525224e+00, -1.52041469e+00,  2.69939182e-01,  1.81145973e-02,\n",
              "       -4.46528508e-01,  2.96437944e-01,  1.94533659e-01,  8.45570754e-02,\n",
              "        6.78731030e-01, -3.85449522e-01,  4.46982773e-01, -1.64870317e-02,\n",
              "       -4.84188255e-01, -1.45551611e-01, -4.03784165e-01, -5.06604324e-03,\n",
              "        2.01051797e-02, -6.26424882e-02, -2.63901621e-01, -1.39006912e-01,\n",
              "        2.76078750e-01,  8.74342910e-01, -3.87620519e-02,  3.90090557e-01,\n",
              "       -1.00239618e-02,  3.26729444e-01,  4.73263541e-01,  1.47646873e-01,\n",
              "        3.62282640e-02,  1.28029334e-01,  4.11658345e-01, -3.18365117e-01,\n",
              "        4.65264410e-01,  1.34828298e-01,  4.14550721e-01, -6.56280637e-01,\n",
              "       -1.16825774e-01, -1.66648460e-01, -5.13713899e-01,  3.09213836e-02,\n",
              "        1.70056362e-01,  5.36982409e-02,  6.39373931e-02,  2.33533425e-01,\n",
              "       -1.89019199e-01,  2.43564137e-01, -3.20437490e-01,  9.03765630e-03,\n",
              "       -2.57220977e-02,  1.35109039e-01, -5.27821046e-02,  1.62818216e-02,\n",
              "        3.26794528e-01,  3.49492838e-02,  9.92969412e-02, -1.69930834e-01,\n",
              "       -7.99475323e-02, -1.19665289e-01, -7.52874059e-02,  1.44946384e-01,\n",
              "       -3.12817581e-01,  1.25001885e-01,  1.66398240e-01,  7.86114793e-02,\n",
              "        1.63079546e-01,  4.62227307e-02, -8.08674074e-02, -2.49277955e-01,\n",
              "        2.00446488e-01,  1.44364639e-01, -2.68068854e-01, -6.53421217e-02,\n",
              "       -2.43944877e-02, -1.21222282e-01, -6.85638804e-02,  1.63038210e-01,\n",
              "       -1.94457795e-01,  8.22984126e-02,  3.40038293e-02,  1.92138072e-01,\n",
              "       -2.45327341e-02, -7.29028187e-02, -6.82941487e-02, -1.21516969e-01,\n",
              "        1.64584550e-01,  1.28035340e-01,  6.17866449e-05, -1.56875240e-02,\n",
              "       -1.43732269e-01,  4.97058568e-02,  5.75000252e-02,  5.67523483e-02,\n",
              "       -8.40832765e-02, -6.79414559e-02, -1.87267078e-01,  5.88154580e-02,\n",
              "       -3.97396277e-02,  1.13021800e-01,  2.15995067e-01,  6.60047030e-03,\n",
              "        9.37573928e-02,  9.80482731e-02,  1.85801596e-01,  1.57346139e-01,\n",
              "        2.17141610e-02,  1.37299838e-01, -1.30638899e-01, -1.75079352e-01,\n",
              "       -2.07964500e-01,  6.65521848e-03,  6.33216830e-02, -1.49702140e-02,\n",
              "        1.55296480e-01, -6.10601065e-02, -1.29262359e-02, -1.95022437e-02,\n",
              "       -1.45940952e-01,  1.42491450e-01,  7.73980227e-02,  1.12337175e-01,\n",
              "       -7.08066077e-02,  1.66450288e-01,  5.96379544e-02,  5.90473500e-02,\n",
              "        1.60994132e-01,  9.90496533e-02,  5.75929368e-02,  1.34891031e-01,\n",
              "       -8.41905013e-02, -3.23748178e-02, -2.00836304e-01,  2.36216000e-01,\n",
              "        4.11835173e-04,  3.67309624e-02,  1.32140959e-01, -1.23276615e-01,\n",
              "       -1.17349978e-02,  8.05347350e-02,  1.82255975e-02, -1.17085470e-02,\n",
              "        1.06930411e-01,  1.05630902e-02, -1.10101391e-01, -1.35862686e-01,\n",
              "        1.37793138e-01,  4.47733489e-02, -1.07787667e-01,  1.22759063e-01,\n",
              "        8.53252609e-03,  5.74633160e-02,  1.16445366e-01,  4.28552650e-02,\n",
              "       -7.04407526e-02, -8.97449908e-02,  5.62499998e-03, -9.31196262e-02,\n",
              "        8.97951642e-02,  3.60369571e-02, -3.00030624e-02,  3.57404638e-02,\n",
              "       -1.66494737e-02, -3.44537621e-02, -5.59518013e-02, -3.98496685e-02,\n",
              "        6.09701091e-02,  6.44658298e-03,  8.48023029e-02,  4.30418311e-02,\n",
              "       -1.15841918e-01, -4.99455012e-02, -3.12818536e-02,  5.00112595e-02,\n",
              "        6.03467505e-02, -1.07711972e-02, -1.46814374e-01,  5.49306421e-04,\n",
              "       -3.65549350e-02, -9.55078713e-02, -2.36353125e-02, -1.93171061e-02,\n",
              "       -5.07227854e-02,  3.11341271e-02, -3.65804222e-02, -2.99466988e-02,\n",
              "       -4.14474681e-02,  1.06907726e-01,  6.09161110e-03,  1.38917364e-01,\n",
              "       -1.23672382e-02, -8.38556281e-02, -3.98792888e-03,  4.25265541e-02,\n",
              "        6.97015813e-02, -7.65359103e-02,  6.18165335e-02, -3.78441980e-02,\n",
              "       -8.37291624e-02, -6.11364969e-02, -8.13875965e-03,  1.37848669e-02,\n",
              "        2.82378996e-02,  7.29299240e-02, -7.51673333e-02,  1.25286905e-02,\n",
              "        5.25859885e-02,  5.59343324e-02,  1.11267032e-01, -8.92530871e-02,\n",
              "        5.76188983e-02,  2.97739347e-02, -2.30467739e-02, -1.13145887e-01,\n",
              "        7.31732339e-02,  5.21513553e-02, -1.44057414e-01, -3.65945856e-02,\n",
              "        9.53852571e-02, -1.34665628e-02,  7.25625473e-02,  8.45060187e-02,\n",
              "       -3.81044331e-02,  1.68960454e-02, -3.81264721e-02, -1.70551615e-02,\n",
              "        2.18900309e-03, -5.71159614e-02, -7.80422215e-02, -2.08900184e-02,\n",
              "       -2.98703572e-02, -2.10783864e-02,  9.11721211e-03,  7.72058808e-02,\n",
              "       -1.25388832e-01, -3.97794843e-02,  4.90209605e-03, -4.69257734e-02,\n",
              "        6.09478857e-02, -4.68196085e-02, -7.05467494e-02, -1.54897240e-02,\n",
              "       -1.84083458e-02, -2.31273897e-02, -7.49491677e-02,  5.62559389e-02,\n",
              "        4.58313801e-04, -2.83911949e-02,  2.89934423e-02, -4.99787843e-03,\n",
              "        1.70860102e-02, -2.73990822e-02,  4.03987094e-02, -7.81399813e-02,\n",
              "       -3.14113322e-02, -4.81166750e-02, -5.26808151e-02, -4.06977506e-02,\n",
              "       -6.06293146e-02,  4.93360970e-02,  1.46560836e-02,  2.53302534e-02,\n",
              "       -3.35194016e-03, -7.18861152e-02, -6.78346056e-02,  6.16065650e-02,\n",
              "       -1.56763328e-02, -4.29356131e-02,  1.16997265e-01, -6.41122411e-02,\n",
              "        2.18629633e-02,  6.77589314e-02, -4.19625868e-02,  3.10439904e-02,\n",
              "       -1.20052444e-02, -9.22061411e-03, -1.78258607e-02,  8.12695757e-02,\n",
              "       -7.31686326e-02,  9.09451053e-02, -4.13961128e-02,  5.72969208e-02,\n",
              "        6.03995516e-03, -9.16043999e-03,  3.68478721e-02, -1.50511073e-02,\n",
              "        1.09868666e-02,  3.53454932e-02, -3.58487235e-02, -3.58000724e-02,\n",
              "       -9.76789132e-03, -3.83686265e-03, -5.33244206e-02,  4.23228222e-02,\n",
              "       -1.20215528e-03,  6.01685644e-03,  1.02023171e-01,  1.57824636e-02,\n",
              "        4.62092978e-02,  8.53741356e-03,  6.54306007e-02,  3.58949939e-02,\n",
              "       -4.33960662e-02,  9.64953097e-02,  1.84210579e-02, -3.70639748e-02,\n",
              "       -3.77606171e-02, -4.83125755e-03, -8.55516145e-02, -4.13161417e-02,\n",
              "        6.53931980e-03, -5.54202502e-02, -6.06985785e-02, -5.62275478e-02,\n",
              "        1.92723523e-02,  4.39914337e-02,  7.10560916e-04,  2.27619750e-02,\n",
              "       -2.47309057e-02, -3.80069144e-02, -8.66194804e-03,  6.87911525e-04,\n",
              "        1.06866250e-02,  4.66305427e-02,  2.66689606e-04, -2.73319030e-02,\n",
              "        1.59206716e-02, -2.82900596e-02,  1.11189525e-02, -3.13239199e-02,\n",
              "        3.25892819e-02, -7.00399942e-02,  1.69136091e-02,  1.68140668e-02,\n",
              "        1.82098604e-02,  2.48777404e-02, -8.33232267e-03,  1.66610488e-02,\n",
              "       -5.09400520e-02,  2.07013179e-02, -2.40293471e-03, -6.71622260e-03,\n",
              "        1.18391313e-02,  3.96145579e-02, -4.63902297e-03,  9.87696601e-03,\n",
              "       -5.75016533e-02,  3.51500080e-02, -7.17783811e-03, -2.95918115e-02,\n",
              "        1.78924319e-02,  2.91470514e-02, -3.26323791e-02, -5.25997637e-02,\n",
              "        3.32489435e-02, -3.36594154e-02,  5.42956439e-02, -3.84056580e-02,\n",
              "       -1.98328399e-02, -3.73442120e-02,  1.05056086e-02,  3.34996883e-02,\n",
              "       -2.86777043e-02,  1.86145329e-02,  4.38374222e-02, -2.24126254e-02,\n",
              "        3.59790376e-02,  4.83002827e-02, -2.67470482e-02, -7.40138373e-02,\n",
              "        5.39609658e-02, -1.87870428e-02,  2.03932096e-02,  1.42632598e-02,\n",
              "        1.70519855e-02,  3.50491869e-02, -6.37163419e-02, -6.49404092e-02,\n",
              "        6.33141955e-03,  2.13717736e-02,  6.51170768e-04, -2.13175839e-02,\n",
              "        9.61443479e-03,  1.29779342e-02, -2.04791864e-02, -2.61981847e-02,\n",
              "        4.97829119e-02,  5.40237713e-02,  1.52368524e-02,  3.91278758e-02,\n",
              "       -2.84580159e-02, -2.63597395e-02,  3.37360804e-02, -8.65239382e-03,\n",
              "       -1.31824028e-02,  5.19969844e-02, -2.64151186e-02, -6.92393335e-02,\n",
              "       -2.19786782e-02,  2.49698462e-02, -1.50620296e-02,  3.52767466e-03,\n",
              "       -2.63900882e-02,  3.82428089e-03, -5.93033413e-02,  1.74411931e-02,\n",
              "        3.71284780e-02,  1.15722890e-02, -3.23703427e-02,  1.59890913e-02,\n",
              "       -2.15224646e-02, -1.52282858e-02,  5.19716037e-03, -2.17753249e-02,\n",
              "        7.90000544e-02, -2.65274074e-03,  1.87874274e-04,  6.61449138e-03,\n",
              "       -4.09000852e-02, -6.66920683e-03,  1.99091061e-03, -9.31814165e-03,\n",
              "       -2.49569139e-02, -1.38604249e-02, -2.36865597e-03,  4.35953846e-03,\n",
              "       -2.89788749e-02, -4.90604566e-02,  5.11356825e-03, -5.09661282e-02,\n",
              "       -2.02168726e-02,  1.41253426e-02,  2.89297722e-02, -3.50766815e-03,\n",
              "       -5.86570576e-03, -2.29315354e-03, -2.95011086e-02, -4.14112232e-03,\n",
              "        2.54230827e-02,  1.56138445e-02, -2.34130255e-03,  2.20676741e-02,\n",
              "       -4.94754145e-02, -4.06018508e-02,  1.60074669e-02, -3.59646817e-02,\n",
              "       -1.42878602e-02,  1.87013900e-02, -2.11818214e-02, -2.56604130e-02,\n",
              "       -2.64245809e-02,  3.99871881e-02, -2.62036157e-02, -9.73053316e-03,\n",
              "        3.68241370e-02, -1.54794546e-02, -2.50858106e-02,  4.15297755e-02,\n",
              "       -9.43186174e-03,  3.22604235e-02,  1.66144241e-03,  3.75431265e-02,\n",
              "       -3.32650892e-03,  2.84531387e-03, -1.47552625e-02, -1.12173217e-02,\n",
              "        1.04875854e-04, -2.86988307e-02,  1.36060659e-02, -1.86956380e-02,\n",
              "       -3.15715446e-02, -3.79910109e-02,  2.20034975e-02, -2.09386692e-02,\n",
              "        5.83577045e-02,  2.43866522e-03,  1.42655588e-02, -1.35320576e-03,\n",
              "       -4.58825591e-02, -9.87982021e-03,  5.82874458e-03,  1.97595033e-02,\n",
              "       -7.00796430e-03,  2.66041113e-02, -2.10206650e-03, -4.38726052e-02,\n",
              "       -2.35156541e-02, -1.91263469e-03, -2.43554432e-02, -4.37186703e-03,\n",
              "        3.15937174e-02, -1.01907047e-02,  3.59718247e-02, -3.45535124e-03,\n",
              "        2.87038068e-02,  6.82486467e-03,  3.45844306e-02,  1.58448902e-02,\n",
              "        4.08479781e-02, -1.03122037e-02, -2.70682829e-02,  3.26235035e-02,\n",
              "        3.14352217e-03, -2.06835029e-02, -1.26616161e-02,  6.07146050e-03,\n",
              "       -2.60567044e-02,  2.79712731e-02,  9.62880754e-03,  4.04621254e-02,\n",
              "        1.83983301e-02,  2.12187684e-02, -3.34061841e-02, -5.49904648e-03,\n",
              "       -2.12873216e-02, -3.21728183e-02, -1.48461154e-02,  4.21382684e-02,\n",
              "        4.38007177e-02,  2.92847126e-02, -4.51889674e-02, -3.11480041e-03,\n",
              "       -1.79314426e-02,  2.27168123e-02,  2.61837145e-02,  3.25817432e-02,\n",
              "        3.20006915e-02, -7.16733045e-03,  3.84658975e-02, -2.05655290e-02,\n",
              "        5.96691573e-02, -1.23145916e-02,  4.67426736e-03,  2.13499051e-02,\n",
              "       -2.40460498e-02, -1.39968865e-02,  2.39461245e-02, -1.78038039e-02,\n",
              "       -2.58870131e-03, -8.29813464e-03, -1.87597167e-02,  9.87105243e-03,\n",
              "       -2.92021365e-02, -1.19692062e-03,  1.75893528e-02,  9.07502563e-03,\n",
              "        7.81886723e-03, -9.68741551e-04, -2.05815044e-02, -7.51875007e-03,\n",
              "       -1.21520717e-03, -1.29551397e-02, -4.88505756e-02, -2.60560468e-02,\n",
              "        5.29027863e-03,  8.57576053e-04, -3.27903384e-02,  2.27341569e-02,\n",
              "       -3.70218657e-03,  6.05589101e-03,  1.94927833e-02, -1.01422851e-02,\n",
              "        5.46214601e-03,  8.45126771e-03, -1.47267897e-02,  9.92042749e-03,\n",
              "       -3.86049750e-02, -4.77332780e-03,  1.60342861e-02, -1.89066809e-02,\n",
              "        4.83237701e-03,  9.75449521e-03, -2.43980513e-02, -1.78948817e-02,\n",
              "        5.46208061e-03, -3.61600941e-03, -1.07335141e-02,  2.03099478e-02,\n",
              "        5.09865625e-03, -2.90340218e-02, -7.99020608e-03, -1.70738255e-02,\n",
              "        7.57809340e-03, -6.90901924e-03,  4.22071386e-02, -1.35266036e-02,\n",
              "        2.55088881e-02,  2.01460212e-02,  1.65929863e-02,  1.43595626e-02,\n",
              "       -1.09665821e-02,  2.57942227e-02, -7.87872767e-03, -2.46096761e-02,\n",
              "       -2.10321148e-02, -1.12265494e-02,  9.87585660e-03,  2.06917256e-02,\n",
              "       -7.72401451e-03, -9.17049478e-03,  8.63554852e-03,  1.04904501e-02,\n",
              "       -7.35384705e-03,  2.25982614e-02, -1.45014007e-02,  2.02379428e-02,\n",
              "       -5.70347962e-03,  1.18171984e-02, -5.17424146e-03, -1.90101694e-02,\n",
              "        2.33012274e-02, -3.70922767e-02,  6.15357191e-04,  2.88144056e-02,\n",
              "        2.86969759e-02,  6.25969149e-03, -3.12113599e-03, -4.55207941e-02,\n",
              "        5.14765501e-03, -2.05383403e-02,  1.07696949e-02,  1.30220181e-03,\n",
              "       -1.65527984e-02, -1.71864166e-02, -2.80238248e-02,  2.38848190e-03,\n",
              "       -8.08993254e-03, -1.24223147e-03, -4.98266008e-02,  1.73026251e-02,\n",
              "        5.07993928e-03, -3.38753250e-02,  1.88897205e-02, -5.44531057e-03,\n",
              "        6.77629885e-03, -1.95131486e-02, -4.19171841e-02, -6.92113096e-03,\n",
              "        3.95761823e-03, -1.04507887e-02, -3.26212048e-03,  1.04503237e-02,\n",
              "       -1.01352962e-02, -8.68476084e-03, -1.80729607e-02,  1.65918119e-02,\n",
              "       -4.12120103e-02,  6.83135269e-03, -4.70157877e-02, -2.93048117e-02,\n",
              "        7.05691055e-03,  3.25369580e-02,  2.58884686e-03,  1.83118583e-02,\n",
              "        8.69423858e-04, -1.59263271e-02, -2.58799194e-02,  1.13548284e-02,\n",
              "        3.36206015e-02,  1.95748470e-02, -1.42451494e-02, -1.16234627e-03,\n",
              "       -6.79270965e-04, -4.93946078e-03, -5.53893107e-04,  1.54657532e-02,\n",
              "        1.42855145e-02,  3.22489981e-03, -1.38214046e-02,  2.63922332e-03,\n",
              "       -8.47698119e-03,  2.28829909e-02, -1.92649474e-02,  1.69270587e-04,\n",
              "       -2.27560741e-02, -2.81946772e-03, -3.92022399e-03, -1.24110245e-02,\n",
              "        4.87088584e-03, -5.11785144e-04, -1.69707227e-02, -1.33478175e-02,\n",
              "       -4.82432916e-03,  1.23140298e-02, -1.69862335e-02,  2.84472405e-03,\n",
              "        1.26970306e-02, -1.24147082e-02,  8.29237805e-03,  1.33209029e-02,\n",
              "       -3.94131588e-02,  3.84592548e-03,  7.11537012e-03, -1.60568518e-02,\n",
              "       -1.26030040e-02, -2.24137572e-03, -1.39450664e-02, -9.92961226e-03])"
            ]
          },
          "metadata": {},
          "execution_count": 26
        }
      ]
    },
    {
      "cell_type": "code",
      "source": [
        "y"
      ],
      "metadata": {
        "colab": {
          "base_uri": "https://localhost:8080/"
        },
        "id": "Ds1TcotluSTm",
        "outputId": "4f083a6d-06e7-41af-8a79-0ef3b3c4e313"
      },
      "execution_count": 27,
      "outputs": [
        {
          "output_type": "execute_result",
          "data": {
            "text/plain": [
              "array([[0., 0., 0., 1., 0.],\n",
              "       [0., 1., 0., 0., 0.],\n",
              "       [0., 0., 1., 0., 0.],\n",
              "       ...,\n",
              "       [0., 0., 0., 0., 1.],\n",
              "       [0., 0., 0., 1., 0.],\n",
              "       [0., 0., 0., 0., 1.]])"
            ]
          },
          "metadata": {},
          "execution_count": 27
        }
      ]
    },
    {
      "cell_type": "code",
      "source": [
        "x_train = x_temp\n",
        "y_train = y"
      ],
      "metadata": {
        "id": "WtuNesWXkGF7"
      },
      "execution_count": 29,
      "outputs": []
    },
    {
      "cell_type": "code",
      "source": [
        "# In the first step we will split the data in training and remaining dataset\n",
        "x_train, x_rem, y_train, y_rem = train_test_split(x_temp,y, train_size=0.8)\n",
        "\n",
        "# Now since we want the valid and test size to be equal (10% each of overall data). \n",
        "# we have to define valid_size=0.5 (that is 50% of remaining data)\n",
        "test_size = 0.5\n",
        "x_valid, x_test, y_valid, y_test = train_test_split(x_rem,y_rem, test_size=0.5)"
      ],
      "metadata": {
        "id": "5GuZogXMtpFS"
      },
      "execution_count": null,
      "outputs": []
    },
    {
      "cell_type": "code",
      "source": [
        "# Define the model architecture\n",
        "model = tf.keras.Sequential([\n",
        "    tf.keras.layers.Dense(300, input_shape=(len(x_temp[0]),), activation='relu'),\n",
        "    tf.keras.layers.Dense(220, activation='tanh'),\n",
        "    tf.keras.layers.Dense(110, activation='relu'),\n",
        "    tf.keras.layers.Dense(5, activation='sigmoid')\n",
        "])"
      ],
      "metadata": {
        "id": "odmFbmLXsJk5"
      },
      "execution_count": 30,
      "outputs": []
    },
    {
      "cell_type": "code",
      "source": [
        "# Compile the model\n",
        "model.compile(optimizer='adam',\n",
        "              loss='mse',\n",
        "              metrics=['accuracy'])"
      ],
      "metadata": {
        "id": "Sj9WG-VQth1R"
      },
      "execution_count": 31,
      "outputs": []
    },
    {
      "cell_type": "code",
      "source": [
        "# Train the model\n",
        "# model.fit(x_train, y_train, batch_size=20, epochs=300, validation_data=(x_valid, y_valid))\n",
        "model.fit(x_train, y_train, batch_size=20, epochs=300)\n",
        "\n",
        "# Export and save the model"
      ],
      "metadata": {
        "colab": {
          "base_uri": "https://localhost:8080/",
          "height": 1000
        },
        "id": "XNGb_rDstY6c",
        "outputId": "6059b623-1856-4bc8-bad9-8e52221fa13b"
      },
      "execution_count": 32,
      "outputs": [
        {
          "output_type": "stream",
          "name": "stdout",
          "text": [
            "Epoch 1/300\n",
            "425/425 [==============================] - 8s 5ms/step - loss: 0.1592 - accuracy: 0.2535\n",
            "Epoch 2/300\n",
            "425/425 [==============================] - 2s 5ms/step - loss: 0.1494 - accuracy: 0.3395\n",
            "Epoch 3/300\n",
            "425/425 [==============================] - 2s 4ms/step - loss: 0.1380 - accuracy: 0.4260\n",
            "Epoch 4/300\n",
            "425/425 [==============================] - 1s 3ms/step - loss: 0.1248 - accuracy: 0.5124\n",
            "Epoch 5/300\n",
            "425/425 [==============================] - 1s 3ms/step - loss: 0.1099 - accuracy: 0.5872\n",
            "Epoch 6/300\n",
            "425/425 [==============================] - 1s 3ms/step - loss: 0.0971 - accuracy: 0.6446\n",
            "Epoch 7/300\n",
            "425/425 [==============================] - 1s 3ms/step - loss: 0.0849 - accuracy: 0.6993\n",
            "Epoch 8/300\n",
            "425/425 [==============================] - 1s 3ms/step - loss: 0.0764 - accuracy: 0.7285\n",
            "Epoch 9/300\n",
            "425/425 [==============================] - 1s 3ms/step - loss: 0.0692 - accuracy: 0.7618\n",
            "Epoch 10/300\n",
            "425/425 [==============================] - 2s 4ms/step - loss: 0.0637 - accuracy: 0.7742\n",
            "Epoch 11/300\n",
            "425/425 [==============================] - 2s 5ms/step - loss: 0.0589 - accuracy: 0.7875\n",
            "Epoch 12/300\n",
            "425/425 [==============================] - 2s 5ms/step - loss: 0.0562 - accuracy: 0.7948\n",
            "Epoch 13/300\n",
            "425/425 [==============================] - 1s 3ms/step - loss: 0.0533 - accuracy: 0.7979\n",
            "Epoch 14/300\n",
            "425/425 [==============================] - 1s 3ms/step - loss: 0.0501 - accuracy: 0.8111\n",
            "Epoch 15/300\n",
            "425/425 [==============================] - 1s 3ms/step - loss: 0.0493 - accuracy: 0.8112\n",
            "Epoch 16/300\n",
            "425/425 [==============================] - 1s 3ms/step - loss: 0.0484 - accuracy: 0.8133\n",
            "Epoch 17/300\n",
            "425/425 [==============================] - 2s 5ms/step - loss: 0.0486 - accuracy: 0.8088\n",
            "Epoch 18/300\n",
            "425/425 [==============================] - 2s 6ms/step - loss: 0.0472 - accuracy: 0.8143\n",
            "Epoch 19/300\n",
            "425/425 [==============================] - 2s 5ms/step - loss: 0.0465 - accuracy: 0.8147\n",
            "Epoch 20/300\n",
            "425/425 [==============================] - 2s 5ms/step - loss: 0.0450 - accuracy: 0.8150\n",
            "Epoch 21/300\n",
            "425/425 [==============================] - 1s 3ms/step - loss: 0.0436 - accuracy: 0.8179\n",
            "Epoch 22/300\n",
            "425/425 [==============================] - 1s 3ms/step - loss: 0.0440 - accuracy: 0.8187\n",
            "Epoch 23/300\n",
            "425/425 [==============================] - 1s 3ms/step - loss: 0.0447 - accuracy: 0.8166\n",
            "Epoch 24/300\n",
            "425/425 [==============================] - 1s 3ms/step - loss: 0.0448 - accuracy: 0.8196\n",
            "Epoch 25/300\n",
            "425/425 [==============================] - 1s 3ms/step - loss: 0.0449 - accuracy: 0.8154\n",
            "Epoch 26/300\n",
            "425/425 [==============================] - 2s 5ms/step - loss: 0.0422 - accuracy: 0.8254\n",
            "Epoch 27/300\n",
            "425/425 [==============================] - 2s 4ms/step - loss: 0.0410 - accuracy: 0.8260\n",
            "Epoch 28/300\n",
            "425/425 [==============================] - 2s 5ms/step - loss: 0.0407 - accuracy: 0.8284\n",
            "Epoch 29/300\n",
            "425/425 [==============================] - 2s 5ms/step - loss: 0.0408 - accuracy: 0.8293\n",
            "Epoch 30/300\n",
            "425/425 [==============================] - 1s 3ms/step - loss: 0.0407 - accuracy: 0.8302\n",
            "Epoch 31/300\n",
            "425/425 [==============================] - 2s 4ms/step - loss: 0.0426 - accuracy: 0.8217\n",
            "Epoch 32/300\n",
            "425/425 [==============================] - 2s 6ms/step - loss: 0.0425 - accuracy: 0.8274\n",
            "Epoch 33/300\n",
            "425/425 [==============================] - 2s 4ms/step - loss: 0.0429 - accuracy: 0.8234\n",
            "Epoch 34/300\n",
            "425/425 [==============================] - 1s 3ms/step - loss: 0.0419 - accuracy: 0.8212\n",
            "Epoch 35/300\n",
            "425/425 [==============================] - 2s 4ms/step - loss: 0.0399 - accuracy: 0.8284\n",
            "Epoch 36/300\n",
            "425/425 [==============================] - 2s 5ms/step - loss: 0.0387 - accuracy: 0.8338\n",
            "Epoch 37/300\n",
            "425/425 [==============================] - 4s 8ms/step - loss: 0.0390 - accuracy: 0.8291\n",
            "Epoch 38/300\n",
            "425/425 [==============================] - 2s 5ms/step - loss: 0.0417 - accuracy: 0.8227\n",
            "Epoch 39/300\n",
            "425/425 [==============================] - 2s 5ms/step - loss: 0.0416 - accuracy: 0.8233\n",
            "Epoch 40/300\n",
            "425/425 [==============================] - 2s 5ms/step - loss: 0.0397 - accuracy: 0.8319\n",
            "Epoch 41/300\n",
            "425/425 [==============================] - 2s 6ms/step - loss: 0.0387 - accuracy: 0.8351\n",
            "Epoch 42/300\n",
            "425/425 [==============================] - 3s 6ms/step - loss: 0.0388 - accuracy: 0.8327\n",
            "Epoch 43/300\n",
            "425/425 [==============================] - 3s 7ms/step - loss: 0.0391 - accuracy: 0.8291\n",
            "Epoch 44/300\n",
            "425/425 [==============================] - 2s 5ms/step - loss: 0.0403 - accuracy: 0.8297\n",
            "Epoch 45/300\n",
            "425/425 [==============================] - 2s 5ms/step - loss: 0.0407 - accuracy: 0.8313\n",
            "Epoch 46/300\n",
            "425/425 [==============================] - 3s 8ms/step - loss: 0.0400 - accuracy: 0.8287\n",
            "Epoch 47/300\n",
            "425/425 [==============================] - 2s 6ms/step - loss: 0.0385 - accuracy: 0.8320\n",
            "Epoch 48/300\n",
            "425/425 [==============================] - 3s 8ms/step - loss: 0.0384 - accuracy: 0.8333\n",
            "Epoch 49/300\n",
            "425/425 [==============================] - 3s 8ms/step - loss: 0.0384 - accuracy: 0.8323\n",
            "Epoch 50/300\n",
            "425/425 [==============================] - 2s 5ms/step - loss: 0.0393 - accuracy: 0.8302\n",
            "Epoch 51/300\n",
            "425/425 [==============================] - 2s 5ms/step - loss: 0.0407 - accuracy: 0.8276\n",
            "Epoch 52/300\n",
            "425/425 [==============================] - 3s 6ms/step - loss: 0.0387 - accuracy: 0.8369\n",
            "Epoch 53/300\n",
            "425/425 [==============================] - 3s 7ms/step - loss: 0.0377 - accuracy: 0.8345\n",
            "Epoch 54/300\n",
            "425/425 [==============================] - 2s 5ms/step - loss: 0.0383 - accuracy: 0.8342\n",
            "Epoch 55/300\n",
            "425/425 [==============================] - 2s 5ms/step - loss: 0.0391 - accuracy: 0.8302\n",
            "Epoch 56/300\n",
            "425/425 [==============================] - 2s 4ms/step - loss: 0.0390 - accuracy: 0.8339\n",
            "Epoch 57/300\n",
            "425/425 [==============================] - 1s 3ms/step - loss: 0.0391 - accuracy: 0.8324\n",
            "Epoch 58/300\n",
            "425/425 [==============================] - 1s 3ms/step - loss: 0.0391 - accuracy: 0.8329\n",
            "Epoch 59/300\n",
            "425/425 [==============================] - 1s 3ms/step - loss: 0.0373 - accuracy: 0.8364\n",
            "Epoch 60/300\n",
            "425/425 [==============================] - 1s 3ms/step - loss: 0.0361 - accuracy: 0.8351\n",
            "Epoch 61/300\n",
            "425/425 [==============================] - 1s 3ms/step - loss: 0.0379 - accuracy: 0.8347\n",
            "Epoch 62/300\n",
            "425/425 [==============================] - 1s 3ms/step - loss: 0.0385 - accuracy: 0.8358\n",
            "Epoch 63/300\n",
            "425/425 [==============================] - 2s 4ms/step - loss: 0.0377 - accuracy: 0.8339\n",
            "Epoch 64/300\n",
            "425/425 [==============================] - 2s 5ms/step - loss: 0.0372 - accuracy: 0.8364\n",
            "Epoch 65/300\n",
            "425/425 [==============================] - 2s 5ms/step - loss: 0.0372 - accuracy: 0.8372\n",
            "Epoch 66/300\n",
            "425/425 [==============================] - 1s 3ms/step - loss: 0.0372 - accuracy: 0.8388\n",
            "Epoch 67/300\n",
            "425/425 [==============================] - 1s 3ms/step - loss: 0.0371 - accuracy: 0.8403\n",
            "Epoch 68/300\n",
            "425/425 [==============================] - 1s 3ms/step - loss: 0.0379 - accuracy: 0.8322\n",
            "Epoch 69/300\n",
            "425/425 [==============================] - 1s 3ms/step - loss: 0.0385 - accuracy: 0.8332\n",
            "Epoch 70/300\n",
            "425/425 [==============================] - 1s 3ms/step - loss: 0.0396 - accuracy: 0.8314\n",
            "Epoch 71/300\n",
            "425/425 [==============================] - 1s 3ms/step - loss: 0.0388 - accuracy: 0.8326\n",
            "Epoch 72/300\n",
            "425/425 [==============================] - 2s 4ms/step - loss: 0.0382 - accuracy: 0.8357\n",
            "Epoch 73/300\n",
            "425/425 [==============================] - 2s 5ms/step - loss: 0.0379 - accuracy: 0.8338\n",
            "Epoch 74/300\n",
            "425/425 [==============================] - 2s 5ms/step - loss: 0.0369 - accuracy: 0.8391\n",
            "Epoch 75/300\n",
            "425/425 [==============================] - 1s 3ms/step - loss: 0.0384 - accuracy: 0.8358\n",
            "Epoch 76/300\n",
            "425/425 [==============================] - 1s 3ms/step - loss: 0.0382 - accuracy: 0.8365\n",
            "Epoch 77/300\n",
            "425/425 [==============================] - 1s 3ms/step - loss: 0.0384 - accuracy: 0.8330\n",
            "Epoch 78/300\n",
            "425/425 [==============================] - 1s 3ms/step - loss: 0.0381 - accuracy: 0.8372\n",
            "Epoch 79/300\n",
            "425/425 [==============================] - 1s 3ms/step - loss: 0.0372 - accuracy: 0.8389\n",
            "Epoch 80/300\n",
            "425/425 [==============================] - 1s 3ms/step - loss: 0.0362 - accuracy: 0.8376\n",
            "Epoch 81/300\n",
            "425/425 [==============================] - 1s 3ms/step - loss: 0.0358 - accuracy: 0.8389\n",
            "Epoch 82/300\n",
            "425/425 [==============================] - 2s 5ms/step - loss: 0.0364 - accuracy: 0.8388\n",
            "Epoch 83/300\n",
            "425/425 [==============================] - 2s 5ms/step - loss: 0.0358 - accuracy: 0.8399\n",
            "Epoch 84/300\n",
            "425/425 [==============================] - 2s 4ms/step - loss: 0.0363 - accuracy: 0.8408\n",
            "Epoch 85/300\n",
            "425/425 [==============================] - 1s 3ms/step - loss: 0.0380 - accuracy: 0.8337\n",
            "Epoch 86/300\n",
            "425/425 [==============================] - 1s 3ms/step - loss: 0.0379 - accuracy: 0.8333\n",
            "Epoch 87/300\n",
            "425/425 [==============================] - 1s 3ms/step - loss: 0.0376 - accuracy: 0.8344\n",
            "Epoch 88/300\n",
            "425/425 [==============================] - 1s 3ms/step - loss: 0.0371 - accuracy: 0.8352\n",
            "Epoch 89/300\n",
            "425/425 [==============================] - 1s 3ms/step - loss: 0.0371 - accuracy: 0.8356\n",
            "Epoch 90/300\n",
            "425/425 [==============================] - 1s 3ms/step - loss: 0.0371 - accuracy: 0.8376\n",
            "Epoch 91/300\n",
            "425/425 [==============================] - 2s 4ms/step - loss: 0.0375 - accuracy: 0.8411\n",
            "Epoch 92/300\n",
            "425/425 [==============================] - 2s 5ms/step - loss: 0.0372 - accuracy: 0.8400\n",
            "Epoch 93/300\n",
            "425/425 [==============================] - 2s 5ms/step - loss: 0.0361 - accuracy: 0.8402\n",
            "Epoch 94/300\n",
            "425/425 [==============================] - 1s 3ms/step - loss: 0.0361 - accuracy: 0.8418\n",
            "Epoch 95/300\n",
            "425/425 [==============================] - 1s 3ms/step - loss: 0.0378 - accuracy: 0.8359\n",
            "Epoch 96/300\n",
            "425/425 [==============================] - 1s 3ms/step - loss: 0.0377 - accuracy: 0.8379\n",
            "Epoch 97/300\n",
            "425/425 [==============================] - 1s 3ms/step - loss: 0.0383 - accuracy: 0.8346\n",
            "Epoch 98/300\n",
            "425/425 [==============================] - 1s 3ms/step - loss: 0.0364 - accuracy: 0.8358\n",
            "Epoch 99/300\n",
            "425/425 [==============================] - 1s 3ms/step - loss: 0.0356 - accuracy: 0.8415\n",
            "Epoch 100/300\n",
            "425/425 [==============================] - 1s 3ms/step - loss: 0.0356 - accuracy: 0.8411\n",
            "Epoch 101/300\n",
            "425/425 [==============================] - 2s 5ms/step - loss: 0.0365 - accuracy: 0.8446\n",
            "Epoch 102/300\n",
            "425/425 [==============================] - 2s 5ms/step - loss: 0.0361 - accuracy: 0.8424\n",
            "Epoch 103/300\n",
            "425/425 [==============================] - 2s 4ms/step - loss: 0.0368 - accuracy: 0.8382\n",
            "Epoch 104/300\n",
            "425/425 [==============================] - 1s 3ms/step - loss: 0.0376 - accuracy: 0.8385\n",
            "Epoch 105/300\n",
            "425/425 [==============================] - 1s 3ms/step - loss: 0.0367 - accuracy: 0.8398\n",
            "Epoch 106/300\n",
            "425/425 [==============================] - 1s 3ms/step - loss: 0.0368 - accuracy: 0.8425\n",
            "Epoch 107/300\n",
            "425/425 [==============================] - 1s 3ms/step - loss: 0.0362 - accuracy: 0.8399\n",
            "Epoch 108/300\n",
            "425/425 [==============================] - 1s 3ms/step - loss: 0.0354 - accuracy: 0.8411\n",
            "Epoch 109/300\n",
            "425/425 [==============================] - 1s 3ms/step - loss: 0.0348 - accuracy: 0.8445\n",
            "Epoch 110/300\n",
            "425/425 [==============================] - 2s 4ms/step - loss: 0.0344 - accuracy: 0.8475\n",
            "Epoch 111/300\n",
            "425/425 [==============================] - 2s 5ms/step - loss: 0.0356 - accuracy: 0.8448\n",
            "Epoch 112/300\n",
            "425/425 [==============================] - 2s 5ms/step - loss: 0.0370 - accuracy: 0.8420\n",
            "Epoch 113/300\n",
            "425/425 [==============================] - 1s 3ms/step - loss: 0.0371 - accuracy: 0.8402\n",
            "Epoch 114/300\n",
            "425/425 [==============================] - 1s 3ms/step - loss: 0.0368 - accuracy: 0.8411\n",
            "Epoch 115/300\n",
            "425/425 [==============================] - 1s 3ms/step - loss: 0.0366 - accuracy: 0.8403\n",
            "Epoch 116/300\n",
            "425/425 [==============================] - 1s 3ms/step - loss: 0.0365 - accuracy: 0.8433\n",
            "Epoch 117/300\n",
            "425/425 [==============================] - 1s 3ms/step - loss: 0.0361 - accuracy: 0.8423\n",
            "Epoch 118/300\n",
            "425/425 [==============================] - 1s 3ms/step - loss: 0.0364 - accuracy: 0.8413\n",
            "Epoch 119/300\n",
            "425/425 [==============================] - 2s 4ms/step - loss: 0.0362 - accuracy: 0.8418\n",
            "Epoch 120/300\n",
            "425/425 [==============================] - 2s 5ms/step - loss: 0.0366 - accuracy: 0.8384\n",
            "Epoch 121/300\n",
            "425/425 [==============================] - 2s 5ms/step - loss: 0.0356 - accuracy: 0.8397\n",
            "Epoch 122/300\n",
            "425/425 [==============================] - 1s 3ms/step - loss: 0.0354 - accuracy: 0.8431\n",
            "Epoch 123/300\n",
            "425/425 [==============================] - 1s 3ms/step - loss: 0.0355 - accuracy: 0.8431\n",
            "Epoch 124/300\n",
            "425/425 [==============================] - 1s 3ms/step - loss: 0.0348 - accuracy: 0.8492\n",
            "Epoch 125/300\n",
            "  1/425 [..............................] - ETA: 2s - loss: 0.0178 - accuracy: 0.8500"
          ]
        },
        {
          "output_type": "error",
          "ename": "KeyboardInterrupt",
          "evalue": "ignored",
          "traceback": [
            "\u001b[0;31m---------------------------------------------------------------------------\u001b[0m",
            "\u001b[0;31mKeyboardInterrupt\u001b[0m                         Traceback (most recent call last)",
            "\u001b[0;32m<ipython-input-32-d8a3221e0d85>\u001b[0m in \u001b[0;36m<cell line: 3>\u001b[0;34m()\u001b[0m\n\u001b[1;32m      1\u001b[0m \u001b[0;31m# Train the model\u001b[0m\u001b[0;34m\u001b[0m\u001b[0;34m\u001b[0m\u001b[0m\n\u001b[1;32m      2\u001b[0m \u001b[0;31m# model.fit(x_train, y_train, batch_size=20, epochs=300, validation_data=(x_valid, y_valid))\u001b[0m\u001b[0;34m\u001b[0m\u001b[0;34m\u001b[0m\u001b[0m\n\u001b[0;32m----> 3\u001b[0;31m \u001b[0mmodel\u001b[0m\u001b[0;34m.\u001b[0m\u001b[0mfit\u001b[0m\u001b[0;34m(\u001b[0m\u001b[0mx_train\u001b[0m\u001b[0;34m,\u001b[0m \u001b[0my_train\u001b[0m\u001b[0;34m,\u001b[0m \u001b[0mbatch_size\u001b[0m\u001b[0;34m=\u001b[0m\u001b[0;36m20\u001b[0m\u001b[0;34m,\u001b[0m \u001b[0mepochs\u001b[0m\u001b[0;34m=\u001b[0m\u001b[0;36m300\u001b[0m\u001b[0;34m)\u001b[0m\u001b[0;34m\u001b[0m\u001b[0;34m\u001b[0m\u001b[0m\n\u001b[0m\u001b[1;32m      4\u001b[0m \u001b[0;34m\u001b[0m\u001b[0m\n\u001b[1;32m      5\u001b[0m \u001b[0;31m# Export and save the model\u001b[0m\u001b[0;34m\u001b[0m\u001b[0;34m\u001b[0m\u001b[0m\n",
            "\u001b[0;32m/usr/local/lib/python3.9/dist-packages/keras/utils/traceback_utils.py\u001b[0m in \u001b[0;36merror_handler\u001b[0;34m(*args, **kwargs)\u001b[0m\n\u001b[1;32m     63\u001b[0m         \u001b[0mfiltered_tb\u001b[0m \u001b[0;34m=\u001b[0m \u001b[0;32mNone\u001b[0m\u001b[0;34m\u001b[0m\u001b[0;34m\u001b[0m\u001b[0m\n\u001b[1;32m     64\u001b[0m         \u001b[0;32mtry\u001b[0m\u001b[0;34m:\u001b[0m\u001b[0;34m\u001b[0m\u001b[0;34m\u001b[0m\u001b[0m\n\u001b[0;32m---> 65\u001b[0;31m             \u001b[0;32mreturn\u001b[0m \u001b[0mfn\u001b[0m\u001b[0;34m(\u001b[0m\u001b[0;34m*\u001b[0m\u001b[0margs\u001b[0m\u001b[0;34m,\u001b[0m \u001b[0;34m**\u001b[0m\u001b[0mkwargs\u001b[0m\u001b[0;34m)\u001b[0m\u001b[0;34m\u001b[0m\u001b[0;34m\u001b[0m\u001b[0m\n\u001b[0m\u001b[1;32m     66\u001b[0m         \u001b[0;32mexcept\u001b[0m \u001b[0mException\u001b[0m \u001b[0;32mas\u001b[0m \u001b[0me\u001b[0m\u001b[0;34m:\u001b[0m\u001b[0;34m\u001b[0m\u001b[0;34m\u001b[0m\u001b[0m\n\u001b[1;32m     67\u001b[0m             \u001b[0mfiltered_tb\u001b[0m \u001b[0;34m=\u001b[0m \u001b[0m_process_traceback_frames\u001b[0m\u001b[0;34m(\u001b[0m\u001b[0me\u001b[0m\u001b[0;34m.\u001b[0m\u001b[0m__traceback__\u001b[0m\u001b[0;34m)\u001b[0m\u001b[0;34m\u001b[0m\u001b[0;34m\u001b[0m\u001b[0m\n",
            "\u001b[0;32m/usr/local/lib/python3.9/dist-packages/keras/engine/training.py\u001b[0m in \u001b[0;36mfit\u001b[0;34m(self, x, y, batch_size, epochs, verbose, callbacks, validation_split, validation_data, shuffle, class_weight, sample_weight, initial_epoch, steps_per_epoch, validation_steps, validation_batch_size, validation_freq, max_queue_size, workers, use_multiprocessing)\u001b[0m\n\u001b[1;32m   1683\u001b[0m                         ):\n\u001b[1;32m   1684\u001b[0m                             \u001b[0mcallbacks\u001b[0m\u001b[0;34m.\u001b[0m\u001b[0mon_train_batch_begin\u001b[0m\u001b[0;34m(\u001b[0m\u001b[0mstep\u001b[0m\u001b[0;34m)\u001b[0m\u001b[0;34m\u001b[0m\u001b[0;34m\u001b[0m\u001b[0m\n\u001b[0;32m-> 1685\u001b[0;31m                             \u001b[0mtmp_logs\u001b[0m \u001b[0;34m=\u001b[0m \u001b[0mself\u001b[0m\u001b[0;34m.\u001b[0m\u001b[0mtrain_function\u001b[0m\u001b[0;34m(\u001b[0m\u001b[0miterator\u001b[0m\u001b[0;34m)\u001b[0m\u001b[0;34m\u001b[0m\u001b[0;34m\u001b[0m\u001b[0m\n\u001b[0m\u001b[1;32m   1686\u001b[0m                             \u001b[0;32mif\u001b[0m \u001b[0mdata_handler\u001b[0m\u001b[0;34m.\u001b[0m\u001b[0mshould_sync\u001b[0m\u001b[0;34m:\u001b[0m\u001b[0;34m\u001b[0m\u001b[0;34m\u001b[0m\u001b[0m\n\u001b[1;32m   1687\u001b[0m                                 \u001b[0mcontext\u001b[0m\u001b[0;34m.\u001b[0m\u001b[0masync_wait\u001b[0m\u001b[0;34m(\u001b[0m\u001b[0;34m)\u001b[0m\u001b[0;34m\u001b[0m\u001b[0;34m\u001b[0m\u001b[0m\n",
            "\u001b[0;32m/usr/local/lib/python3.9/dist-packages/tensorflow/python/util/traceback_utils.py\u001b[0m in \u001b[0;36merror_handler\u001b[0;34m(*args, **kwargs)\u001b[0m\n\u001b[1;32m    148\u001b[0m     \u001b[0mfiltered_tb\u001b[0m \u001b[0;34m=\u001b[0m \u001b[0;32mNone\u001b[0m\u001b[0;34m\u001b[0m\u001b[0;34m\u001b[0m\u001b[0m\n\u001b[1;32m    149\u001b[0m     \u001b[0;32mtry\u001b[0m\u001b[0;34m:\u001b[0m\u001b[0;34m\u001b[0m\u001b[0;34m\u001b[0m\u001b[0m\n\u001b[0;32m--> 150\u001b[0;31m       \u001b[0;32mreturn\u001b[0m \u001b[0mfn\u001b[0m\u001b[0;34m(\u001b[0m\u001b[0;34m*\u001b[0m\u001b[0margs\u001b[0m\u001b[0;34m,\u001b[0m \u001b[0;34m**\u001b[0m\u001b[0mkwargs\u001b[0m\u001b[0;34m)\u001b[0m\u001b[0;34m\u001b[0m\u001b[0;34m\u001b[0m\u001b[0m\n\u001b[0m\u001b[1;32m    151\u001b[0m     \u001b[0;32mexcept\u001b[0m \u001b[0mException\u001b[0m \u001b[0;32mas\u001b[0m \u001b[0me\u001b[0m\u001b[0;34m:\u001b[0m\u001b[0;34m\u001b[0m\u001b[0;34m\u001b[0m\u001b[0m\n\u001b[1;32m    152\u001b[0m       \u001b[0mfiltered_tb\u001b[0m \u001b[0;34m=\u001b[0m \u001b[0m_process_traceback_frames\u001b[0m\u001b[0;34m(\u001b[0m\u001b[0me\u001b[0m\u001b[0;34m.\u001b[0m\u001b[0m__traceback__\u001b[0m\u001b[0;34m)\u001b[0m\u001b[0;34m\u001b[0m\u001b[0;34m\u001b[0m\u001b[0m\n",
            "\u001b[0;32m/usr/local/lib/python3.9/dist-packages/tensorflow/python/eager/polymorphic_function/polymorphic_function.py\u001b[0m in \u001b[0;36m__call__\u001b[0;34m(self, *args, **kwds)\u001b[0m\n\u001b[1;32m    892\u001b[0m \u001b[0;34m\u001b[0m\u001b[0m\n\u001b[1;32m    893\u001b[0m       \u001b[0;32mwith\u001b[0m \u001b[0mOptionalXlaContext\u001b[0m\u001b[0;34m(\u001b[0m\u001b[0mself\u001b[0m\u001b[0;34m.\u001b[0m\u001b[0m_jit_compile\u001b[0m\u001b[0;34m)\u001b[0m\u001b[0;34m:\u001b[0m\u001b[0;34m\u001b[0m\u001b[0;34m\u001b[0m\u001b[0m\n\u001b[0;32m--> 894\u001b[0;31m         \u001b[0mresult\u001b[0m \u001b[0;34m=\u001b[0m \u001b[0mself\u001b[0m\u001b[0;34m.\u001b[0m\u001b[0m_call\u001b[0m\u001b[0;34m(\u001b[0m\u001b[0;34m*\u001b[0m\u001b[0margs\u001b[0m\u001b[0;34m,\u001b[0m \u001b[0;34m**\u001b[0m\u001b[0mkwds\u001b[0m\u001b[0;34m)\u001b[0m\u001b[0;34m\u001b[0m\u001b[0;34m\u001b[0m\u001b[0m\n\u001b[0m\u001b[1;32m    895\u001b[0m \u001b[0;34m\u001b[0m\u001b[0m\n\u001b[1;32m    896\u001b[0m       \u001b[0mnew_tracing_count\u001b[0m \u001b[0;34m=\u001b[0m \u001b[0mself\u001b[0m\u001b[0;34m.\u001b[0m\u001b[0mexperimental_get_tracing_count\u001b[0m\u001b[0;34m(\u001b[0m\u001b[0;34m)\u001b[0m\u001b[0;34m\u001b[0m\u001b[0;34m\u001b[0m\u001b[0m\n",
            "\u001b[0;32m/usr/local/lib/python3.9/dist-packages/tensorflow/python/eager/polymorphic_function/polymorphic_function.py\u001b[0m in \u001b[0;36m_call\u001b[0;34m(self, *args, **kwds)\u001b[0m\n\u001b[1;32m    924\u001b[0m       \u001b[0;31m# In this case we have created variables on the first call, so we run the\u001b[0m\u001b[0;34m\u001b[0m\u001b[0;34m\u001b[0m\u001b[0m\n\u001b[1;32m    925\u001b[0m       \u001b[0;31m# defunned version which is guaranteed to never create variables.\u001b[0m\u001b[0;34m\u001b[0m\u001b[0;34m\u001b[0m\u001b[0m\n\u001b[0;32m--> 926\u001b[0;31m       \u001b[0;32mreturn\u001b[0m \u001b[0mself\u001b[0m\u001b[0;34m.\u001b[0m\u001b[0m_no_variable_creation_fn\u001b[0m\u001b[0;34m(\u001b[0m\u001b[0;34m*\u001b[0m\u001b[0margs\u001b[0m\u001b[0;34m,\u001b[0m \u001b[0;34m**\u001b[0m\u001b[0mkwds\u001b[0m\u001b[0;34m)\u001b[0m  \u001b[0;31m# pylint: disable=not-callable\u001b[0m\u001b[0;34m\u001b[0m\u001b[0;34m\u001b[0m\u001b[0m\n\u001b[0m\u001b[1;32m    927\u001b[0m     \u001b[0;32melif\u001b[0m \u001b[0mself\u001b[0m\u001b[0;34m.\u001b[0m\u001b[0m_variable_creation_fn\u001b[0m \u001b[0;32mis\u001b[0m \u001b[0;32mnot\u001b[0m \u001b[0;32mNone\u001b[0m\u001b[0;34m:\u001b[0m\u001b[0;34m\u001b[0m\u001b[0;34m\u001b[0m\u001b[0m\n\u001b[1;32m    928\u001b[0m       \u001b[0;31m# Release the lock early so that multiple threads can perform the call\u001b[0m\u001b[0;34m\u001b[0m\u001b[0;34m\u001b[0m\u001b[0m\n",
            "\u001b[0;32m/usr/local/lib/python3.9/dist-packages/tensorflow/python/eager/polymorphic_function/tracing_compiler.py\u001b[0m in \u001b[0;36m__call__\u001b[0;34m(self, *args, **kwargs)\u001b[0m\n\u001b[1;32m    141\u001b[0m       (concrete_function,\n\u001b[1;32m    142\u001b[0m        filtered_flat_args) = self._maybe_define_function(args, kwargs)\n\u001b[0;32m--> 143\u001b[0;31m     return concrete_function._call_flat(\n\u001b[0m\u001b[1;32m    144\u001b[0m         filtered_flat_args, captured_inputs=concrete_function.captured_inputs)  # pylint: disable=protected-access\n\u001b[1;32m    145\u001b[0m \u001b[0;34m\u001b[0m\u001b[0m\n",
            "\u001b[0;32m/usr/local/lib/python3.9/dist-packages/tensorflow/python/eager/polymorphic_function/monomorphic_function.py\u001b[0m in \u001b[0;36m_call_flat\u001b[0;34m(self, args, captured_inputs, cancellation_manager)\u001b[0m\n\u001b[1;32m   1755\u001b[0m         and executing_eagerly):\n\u001b[1;32m   1756\u001b[0m       \u001b[0;31m# No tape is watching; skip to running the function.\u001b[0m\u001b[0;34m\u001b[0m\u001b[0;34m\u001b[0m\u001b[0m\n\u001b[0;32m-> 1757\u001b[0;31m       return self._build_call_outputs(self._inference_function.call(\n\u001b[0m\u001b[1;32m   1758\u001b[0m           ctx, args, cancellation_manager=cancellation_manager))\n\u001b[1;32m   1759\u001b[0m     forward_backward = self._select_forward_and_backward_functions(\n",
            "\u001b[0;32m/usr/local/lib/python3.9/dist-packages/tensorflow/python/eager/polymorphic_function/monomorphic_function.py\u001b[0m in \u001b[0;36mcall\u001b[0;34m(self, ctx, args, cancellation_manager)\u001b[0m\n\u001b[1;32m    379\u001b[0m       \u001b[0;32mwith\u001b[0m \u001b[0m_InterpolateFunctionError\u001b[0m\u001b[0;34m(\u001b[0m\u001b[0mself\u001b[0m\u001b[0;34m)\u001b[0m\u001b[0;34m:\u001b[0m\u001b[0;34m\u001b[0m\u001b[0;34m\u001b[0m\u001b[0m\n\u001b[1;32m    380\u001b[0m         \u001b[0;32mif\u001b[0m \u001b[0mcancellation_manager\u001b[0m \u001b[0;32mis\u001b[0m \u001b[0;32mNone\u001b[0m\u001b[0;34m:\u001b[0m\u001b[0;34m\u001b[0m\u001b[0;34m\u001b[0m\u001b[0m\n\u001b[0;32m--> 381\u001b[0;31m           outputs = execute.execute(\n\u001b[0m\u001b[1;32m    382\u001b[0m               \u001b[0mstr\u001b[0m\u001b[0;34m(\u001b[0m\u001b[0mself\u001b[0m\u001b[0;34m.\u001b[0m\u001b[0msignature\u001b[0m\u001b[0;34m.\u001b[0m\u001b[0mname\u001b[0m\u001b[0;34m)\u001b[0m\u001b[0;34m,\u001b[0m\u001b[0;34m\u001b[0m\u001b[0;34m\u001b[0m\u001b[0m\n\u001b[1;32m    383\u001b[0m               \u001b[0mnum_outputs\u001b[0m\u001b[0;34m=\u001b[0m\u001b[0mself\u001b[0m\u001b[0;34m.\u001b[0m\u001b[0m_num_outputs\u001b[0m\u001b[0;34m,\u001b[0m\u001b[0;34m\u001b[0m\u001b[0;34m\u001b[0m\u001b[0m\n",
            "\u001b[0;32m/usr/local/lib/python3.9/dist-packages/tensorflow/python/eager/execute.py\u001b[0m in \u001b[0;36mquick_execute\u001b[0;34m(op_name, num_outputs, inputs, attrs, ctx, name)\u001b[0m\n\u001b[1;32m     50\u001b[0m   \u001b[0;32mtry\u001b[0m\u001b[0;34m:\u001b[0m\u001b[0;34m\u001b[0m\u001b[0;34m\u001b[0m\u001b[0m\n\u001b[1;32m     51\u001b[0m     \u001b[0mctx\u001b[0m\u001b[0;34m.\u001b[0m\u001b[0mensure_initialized\u001b[0m\u001b[0;34m(\u001b[0m\u001b[0;34m)\u001b[0m\u001b[0;34m\u001b[0m\u001b[0;34m\u001b[0m\u001b[0m\n\u001b[0;32m---> 52\u001b[0;31m     tensors = pywrap_tfe.TFE_Py_Execute(ctx._handle, device_name, op_name,\n\u001b[0m\u001b[1;32m     53\u001b[0m                                         inputs, attrs, num_outputs)\n\u001b[1;32m     54\u001b[0m   \u001b[0;32mexcept\u001b[0m \u001b[0mcore\u001b[0m\u001b[0;34m.\u001b[0m\u001b[0m_NotOkStatusException\u001b[0m \u001b[0;32mas\u001b[0m \u001b[0me\u001b[0m\u001b[0;34m:\u001b[0m\u001b[0;34m\u001b[0m\u001b[0;34m\u001b[0m\u001b[0m\n",
            "\u001b[0;31mKeyboardInterrupt\u001b[0m: "
          ]
        }
      ]
    },
    {
      "cell_type": "code",
      "source": [
        "predictions = model.predict(x_train)\n",
        "\n",
        "print(predictions)"
      ],
      "metadata": {
        "colab": {
          "base_uri": "https://localhost:8080/"
        },
        "id": "xaE5ia1Gtdo_",
        "outputId": "13c57221-b2c2-46c7-fe9b-4b0f36dd331f"
      },
      "execution_count": 33,
      "outputs": [
        {
          "output_type": "stream",
          "name": "stdout",
          "text": [
            "266/266 [==============================] - 1s 2ms/step\n",
            "[[1.5249735e-04 7.0422902e-07 4.7885202e-02 5.9594178e-01 4.0359604e-01]\n",
            " [4.6898075e-04 4.5233613e-01 5.1899219e-01 1.0727452e-03 1.3293313e-04]\n",
            " [5.1838398e-01 9.5787290e-03 5.3740728e-01 1.0572355e-04 2.4082644e-03]\n",
            " ...\n",
            " [2.2643053e-05 2.9262839e-07 3.5592199e-03 7.8915240e-04 9.7845662e-01]\n",
            " [3.8902937e-18 2.5849995e-09 6.3551397e-08 1.0000000e+00 2.9618652e-15]\n",
            " [8.4138380e-10 5.7314802e-11 1.1333192e-04 1.7147083e-09 9.9999928e-01]]\n"
          ]
        }
      ]
    },
    {
      "cell_type": "code",
      "source": [
        "model_scores = []"
      ],
      "metadata": {
        "id": "bG7e7UNul__v"
      },
      "execution_count": 34,
      "outputs": []
    },
    {
      "cell_type": "code",
      "source": [
        "for pred in predictions:\n",
        "    mx = max(pred)\n",
        "    for j in range(5):\n",
        "        if pred[j]==mx:\n",
        "            model_scores.append((6-j-1)/5.0)"
      ],
      "metadata": {
        "id": "bwcazcq8lTfS"
      },
      "execution_count": 36,
      "outputs": []
    },
    {
      "cell_type": "code",
      "source": [
        "import matplotlib.pyplot as plt"
      ],
      "metadata": {
        "id": "07tTnJGHnXa9"
      },
      "execution_count": null,
      "outputs": []
    },
    {
      "cell_type": "code",
      "source": [
        "original = []"
      ],
      "metadata": {
        "id": "34sW8kf-nfZF"
      },
      "execution_count": 41,
      "outputs": []
    },
    {
      "cell_type": "code",
      "source": [
        "for pred in y:\n",
        "    mx = max(pred)\n",
        "    for j in range(5):\n",
        "        if pred[j]==mx:\n",
        "            original.append((6-j-1)/5.0)"
      ],
      "metadata": {
        "id": "EoRaI0YRno81"
      },
      "execution_count": 42,
      "outputs": []
    },
    {
      "cell_type": "code",
      "source": [
        "dic = {}"
      ],
      "metadata": {
        "id": "_XTq0a2-oCW8"
      },
      "execution_count": 44,
      "outputs": []
    },
    {
      "cell_type": "code",
      "source": [
        "from scipy.stats import kendalltau\n",
        "\n",
        "# create a list of score names and a list of score lists\n",
        "score_names = [\"Bert score\", \"BLEU score\", \"TER score\", \"METEOR score\", \"Model score\"]\n",
        "score_lists = [F, bleu_scores, normalized_ter, m_scores, model_scores]\n",
        "\n",
        "# calculate Kendall tau correlation coefficients\n",
        "for i in range(len(score_lists)):\n",
        "    coef, p_value = kendalltau(score_lists[i], original)\n",
        "    dic[score_names[i]] = coef\n",
        "    print(f\"Kendall tau coefficient between {score_names[i]} and original: {coef}\")"
      ],
      "metadata": {
        "colab": {
          "base_uri": "https://localhost:8080/"
        },
        "id": "eb5Bl4MHmlGA",
        "outputId": "fd040777-623c-4d97-dc9f-84ac68c69b8f"
      },
      "execution_count": 45,
      "outputs": [
        {
          "output_type": "stream",
          "name": "stdout",
          "text": [
            "Kendall tau coefficient between Bert score and original: 0.20273428271185281\n",
            "Kendall tau coefficient between BLEU score and original: 0.16311716862882292\n",
            "Kendall tau coefficient between TER score and original: 0.10721073926633216\n",
            "Kendall tau coefficient between METEOR score and original: 0.18307283656542284\n",
            "Kendall tau coefficient between Model score and original: 0.84081108678329\n"
          ]
        }
      ]
    },
    {
      "cell_type": "code",
      "source": [
        "dic['ground truth'] = 1.0"
      ],
      "metadata": {
        "id": "sFDwALTZpzWE"
      },
      "execution_count": 56,
      "outputs": []
    },
    {
      "cell_type": "code",
      "source": [
        "del dic['original']"
      ],
      "metadata": {
        "id": "Wfts5tPLqkfk"
      },
      "execution_count": 55,
      "outputs": []
    },
    {
      "cell_type": "code",
      "source": [
        "dic"
      ],
      "metadata": {
        "colab": {
          "base_uri": "https://localhost:8080/"
        },
        "id": "VXJVhlNop7Qo",
        "outputId": "b8df0a3a-1578-44ce-84bb-1f0c2d45ed5e"
      },
      "execution_count": 57,
      "outputs": [
        {
          "output_type": "execute_result",
          "data": {
            "text/plain": [
              "{'Bert score': 0.20273428271185281,\n",
              " 'BLEU score': 0.16311716862882292,\n",
              " 'TER score': 0.10721073926633216,\n",
              " 'METEOR score': 0.18307283656542284,\n",
              " 'Model score': 0.84081108678329,\n",
              " 'ground truth': 1.0}"
            ]
          },
          "metadata": {},
          "execution_count": 57
        }
      ]
    },
    {
      "cell_type": "code",
      "source": [
        "import numpy as np\n",
        "import matplotlib.pyplot as plt\n",
        "\n",
        "\n",
        "# creating the dataset\n",
        "data = dic\n",
        "courses = list(data.keys())\n",
        "values = list(data.values())\n",
        "\n",
        "fig = plt.figure(figsize = (10, 5))\n",
        "\n",
        "# creating the bar plot\n",
        "plt.bar(courses, values, color ='maroon',\n",
        "\t\twidth = 0.4)\n",
        "\n",
        "plt.xlabel(\"Metrics\")\n",
        "plt.ylabel(\"Kendall Tau Correlation\")\n",
        "plt.title(\"Kendall Tau correlation with ground truth\")\n",
        "plt.show()\n"
      ],
      "metadata": {
        "colab": {
          "base_uri": "https://localhost:8080/",
          "height": 487
        },
        "id": "f-hA_rJGpYw-",
        "outputId": "eef9750a-65e2-4248-b808-23b63be3c080"
      },
      "execution_count": 58,
      "outputs": [
        {
          "output_type": "display_data",
          "data": {
            "text/plain": [
              "<Figure size 1000x500 with 1 Axes>"
            ],
            "image/png": "[encoded data removed]"
          },
          "metadata": {}
        }
      ]
    },
    {
      "cell_type": "code",
      "source": [
        "plt.plot()"
      ],
      "metadata": {
        "id": "wzt009R2nCAz"
      },
      "execution_count": null,
      "outputs": []
    },
    {
      "cell_type": "code",
      "source": [
        "y_test"
      ],
      "metadata": {
        "colab": {
          "base_uri": "https://localhost:8080/"
        },
        "id": "CQx3YRDEwUHQ",
        "outputId": "a22aeb6f-5656-418a-e39c-10a3c532811c"
      },
      "execution_count": null,
      "outputs": [
        {
          "output_type": "execute_result",
          "data": {
            "text/plain": [
              "array([[0., 0., 0., 1., 0.],\n",
              "       [0., 0., 0., 0., 1.],\n",
              "       [1., 0., 0., 0., 0.],\n",
              "       ...,\n",
              "       [0., 0., 1., 0., 0.],\n",
              "       [0., 0., 0., 1., 0.],\n",
              "       [0., 0., 1., 0., 0.]])"
            ]
          },
          "metadata": {},
          "execution_count": 65
        }
      ]
    },
    {
      "cell_type": "code",
      "source": [
        "loss, accuracy = model.evaluate(x_train, y_train)\n"
      ],
      "metadata": {
        "colab": {
          "base_uri": "https://localhost:8080/"
        },
        "id": "yMEebxsVwc3F",
        "outputId": "51b95152-d16f-4a6d-83d8-a788684cfc89"
      },
      "execution_count": null,
      "outputs": [
        {
          "output_type": "stream",
          "name": "stdout",
          "text": [
            "213/213 [==============================] - 2s 10ms/step - loss: 0.0300 - accuracy: 0.8734\n"
          ]
        }
      ]
    },
    {
      "cell_type": "code",
      "source": [],
      "metadata": {
        "id": "05OwYKc6w6u_"
      },
      "execution_count": null,
      "outputs": []
    }
  ]
}